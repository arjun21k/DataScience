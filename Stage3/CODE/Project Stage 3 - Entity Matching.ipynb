{
 "cells": [
  {
   "cell_type": "markdown",
   "metadata": {},
   "source": [
    "# Introduction"
   ]
  },
  {
   "cell_type": "markdown",
   "metadata": {},
   "source": [
    "\n",
    "This IPython notebook explains a basic workflow two tables using py_entitymatching. Our goal is to come up with a workflow to match books from amazon and goodread sites. Specifically, we want to create a matcher with precision of at least 90% and recall as high as possible. The datasets contain information about the books.\n",
    "\n",
    "First, we need to import py_entitymatching package and other libraries as follows:"
   ]
  },
  {
   "cell_type": "code",
   "execution_count": 2,
   "metadata": {},
   "outputs": [],
   "source": [
    "import sys\n",
    "import py_entitymatching as em"
   ]
  },
  {
   "cell_type": "markdown",
   "metadata": {},
   "source": [
    "Matching two tables typically consists of the following three steps:\n",
    "\n",
    "1. Reading the input tables\n",
    "\n",
    "2. Blocking the input tables to get a candidate set\n",
    "\n",
    "3. Matching the tuple pairs in the candidate set"
   ]
  },
  {
   "cell_type": "markdown",
   "metadata": {},
   "source": [
    "# Read input tables"
   ]
  },
  {
   "cell_type": "code",
   "execution_count": 4,
   "metadata": {},
   "outputs": [
    {
     "name": "stderr",
     "output_type": "stream",
     "text": [
      "Metadata file is not present in the given path; proceeding to read the csv file.\n",
      "Metadata file is not present in the given path; proceeding to read the csv file.\n"
     ]
    }
   ],
   "source": [
    "# Get the paths\n",
    "path_A = \"../DATA/TableA.csv\"\n",
    "path_B = \"../DATA/TableB.csv\"\n",
    "A = em.read_csv_metadata(path_A, key='ID')\n",
    "B = em.read_csv_metadata(path_B, key='ID')"
   ]
  },
  {
   "cell_type": "code",
   "execution_count": 5,
   "metadata": {},
   "outputs": [
    {
     "name": "stdout",
     "output_type": "stream",
     "text": [
      "Number of tuples in A: 3000\n",
      "Number of tuples in B: 3000\n",
      "Number of tuples in A X B (i.e the cartesian product): 9000000\n"
     ]
    }
   ],
   "source": [
    "print('Number of tuples in A: ' + str(len(A)))\n",
    "print('Number of tuples in B: ' + str(len(B)))\n",
    "print('Number of tuples in A X B (i.e the cartesian product): ' + str(len(A)*len(B)))"
   ]
  },
  {
   "cell_type": "code",
   "execution_count": 6,
   "metadata": {},
   "outputs": [
    {
     "data": {
      "text/html": [
       "<div>\n",
       "<style scoped>\n",
       "    .dataframe tbody tr th:only-of-type {\n",
       "        vertical-align: middle;\n",
       "    }\n",
       "\n",
       "    .dataframe tbody tr th {\n",
       "        vertical-align: top;\n",
       "    }\n",
       "\n",
       "    .dataframe thead th {\n",
       "        text-align: right;\n",
       "    }\n",
       "</style>\n",
       "<table border=\"1\" class=\"dataframe\">\n",
       "  <thead>\n",
       "    <tr style=\"text-align: right;\">\n",
       "      <th></th>\n",
       "      <th>ID</th>\n",
       "      <th>title</th>\n",
       "      <th>author</th>\n",
       "      <th>rating</th>\n",
       "      <th>format</th>\n",
       "    </tr>\n",
       "  </thead>\n",
       "  <tbody>\n",
       "    <tr>\n",
       "      <th>0</th>\n",
       "      <td>a1</td>\n",
       "      <td>To Kill a Mockingbird</td>\n",
       "      <td>Harper Lee</td>\n",
       "      <td>4.26</td>\n",
       "      <td>Paperback</td>\n",
       "    </tr>\n",
       "    <tr>\n",
       "      <th>1</th>\n",
       "      <td>a2</td>\n",
       "      <td>Harry Potter and the Sorcerer's Stone (Harry Potter #1)</td>\n",
       "      <td>J.K. Rowling</td>\n",
       "      <td>4.45</td>\n",
       "      <td>Hardcover</td>\n",
       "    </tr>\n",
       "  </tbody>\n",
       "</table>\n",
       "</div>"
      ],
      "text/plain": [
       "   ID                                                    title        author  \\\n",
       "0  a1                                    To Kill a Mockingbird    Harper Lee   \n",
       "1  a2  Harry Potter and the Sorcerer's Stone (Harry Potter #1)  J.K. Rowling   \n",
       "\n",
       "   rating     format  \n",
       "0    4.26  Paperback  \n",
       "1    4.45  Hardcover  "
      ]
     },
     "execution_count": 6,
     "metadata": {},
     "output_type": "execute_result"
    }
   ],
   "source": [
    "A.head(2)"
   ]
  },
  {
   "cell_type": "code",
   "execution_count": 7,
   "metadata": {},
   "outputs": [
    {
     "data": {
      "text/html": [
       "<div>\n",
       "<style scoped>\n",
       "    .dataframe tbody tr th:only-of-type {\n",
       "        vertical-align: middle;\n",
       "    }\n",
       "\n",
       "    .dataframe tbody tr th {\n",
       "        vertical-align: top;\n",
       "    }\n",
       "\n",
       "    .dataframe thead th {\n",
       "        text-align: right;\n",
       "    }\n",
       "</style>\n",
       "<table border=\"1\" class=\"dataframe\">\n",
       "  <thead>\n",
       "    <tr style=\"text-align: right;\">\n",
       "      <th></th>\n",
       "      <th>ID</th>\n",
       "      <th>title</th>\n",
       "      <th>author</th>\n",
       "      <th>rating</th>\n",
       "      <th>format</th>\n",
       "    </tr>\n",
       "  </thead>\n",
       "  <tbody>\n",
       "    <tr>\n",
       "      <th>0</th>\n",
       "      <td>b1</td>\n",
       "      <td>Make Your Bed: Little Things That Can Change Your Life...And Maybe the World</td>\n",
       "      <td>William H. McRaven</td>\n",
       "      <td>4.7</td>\n",
       "      <td>Hardcover</td>\n",
       "    </tr>\n",
       "    <tr>\n",
       "      <th>1</th>\n",
       "      <td>b2</td>\n",
       "      <td>The Silent Wife: A gripping emotional page turner with a twist that will take your breath away</td>\n",
       "      <td>Kerry Fisher</td>\n",
       "      <td>4.1</td>\n",
       "      <td>Paperback</td>\n",
       "    </tr>\n",
       "  </tbody>\n",
       "</table>\n",
       "</div>"
      ],
      "text/plain": [
       "   ID  \\\n",
       "0  b1   \n",
       "1  b2   \n",
       "\n",
       "                                                                                            title  \\\n",
       "0                    Make Your Bed: Little Things That Can Change Your Life...And Maybe the World   \n",
       "1  The Silent Wife: A gripping emotional page turner with a twist that will take your breath away   \n",
       "\n",
       "               author rating     format  \n",
       "0  William H. McRaven    4.7  Hardcover  \n",
       "1        Kerry Fisher    4.1  Paperback  "
      ]
     },
     "execution_count": 7,
     "metadata": {},
     "output_type": "execute_result"
    }
   ],
   "source": [
    "B.head(2)"
   ]
  },
  {
   "cell_type": "code",
   "execution_count": 8,
   "metadata": {},
   "outputs": [
    {
     "data": {
      "text/plain": [
       "('ID', 'ID')"
      ]
     },
     "execution_count": 8,
     "metadata": {},
     "output_type": "execute_result"
    }
   ],
   "source": [
    "# Display the keys of the input tables\n",
    "em.get_key(A), em.get_key(B)"
   ]
  },
  {
   "cell_type": "markdown",
   "metadata": {},
   "source": [
    "# Block tables to get candidate set\n",
    "\n",
    "Before we do the matching, we would like to remove the obviously non-matching tuple pairs from the input tables. This would reduce the number of tuple pairs considered for matching.\n",
    "For the matching problem at hand, we know that two books with different titles will not match. So we decide the apply blocking over title:"
   ]
  },
  {
   "cell_type": "code",
   "execution_count": 9,
   "metadata": {},
   "outputs": [],
   "source": [
    "# Create overlap blocker\n",
    "ob = em.OverlapBlocker()\n",
    "\n",
    "# Block using title attribute\n",
    "C1= ob.block_tables(A, B, 'title', 'title', word_level=True, overlap_size=3, l_output_attrs=['title','author'], r_output_attrs=['title','author'], show_progress=False)"
   ]
  },
  {
   "cell_type": "code",
   "execution_count": 10,
   "metadata": {},
   "outputs": [
    {
     "data": {
      "text/plain": [
       "54723"
      ]
     },
     "execution_count": 10,
     "metadata": {},
     "output_type": "execute_result"
    }
   ],
   "source": [
    "len(C1)"
   ]
  },
  {
   "cell_type": "markdown",
   "metadata": {},
   "source": [
    "The number of tuple pairs are still huge. So, we would like to further reduce it. Knowing the dataset, we can say that two books with different authors will not match. Hence, we can block the candidate set of tuple pairs on author."
   ]
  },
  {
   "cell_type": "code",
   "execution_count": 11,
   "metadata": {},
   "outputs": [],
   "source": [
    "C2 = ob.block_candset(C1, 'author', 'author', word_level=True, overlap_size=1, show_progress=False)"
   ]
  },
  {
   "cell_type": "code",
   "execution_count": 12,
   "metadata": {},
   "outputs": [
    {
     "data": {
      "text/plain": [
       "548"
      ]
     },
     "execution_count": 12,
     "metadata": {},
     "output_type": "execute_result"
    }
   ],
   "source": [
    "len(C2)"
   ]
  },
  {
   "cell_type": "markdown",
   "metadata": {},
   "source": [
    "# Debug blocker output\n",
    "\n",
    "The number of tuple pairs considered for matching is reduced to 54723 (from 9000000), but we would want to make sure that the blocker did not drop any potential matches. We could debug the blocker output in py_entitymatching as follows:"
   ]
  },
  {
   "cell_type": "code",
   "execution_count": 13,
   "metadata": {},
   "outputs": [],
   "source": [
    "# Debug blocker output\n",
    "dbg = em.debug_blocker(C2, A, B, output_size=200)"
   ]
  },
  {
   "cell_type": "code",
   "execution_count": 14,
   "metadata": {},
   "outputs": [
    {
     "data": {
      "text/html": [
       "<div>\n",
       "<style scoped>\n",
       "    .dataframe tbody tr th:only-of-type {\n",
       "        vertical-align: middle;\n",
       "    }\n",
       "\n",
       "    .dataframe tbody tr th {\n",
       "        vertical-align: top;\n",
       "    }\n",
       "\n",
       "    .dataframe thead th {\n",
       "        text-align: right;\n",
       "    }\n",
       "</style>\n",
       "<table border=\"1\" class=\"dataframe\">\n",
       "  <thead>\n",
       "    <tr style=\"text-align: right;\">\n",
       "      <th></th>\n",
       "      <th>_id</th>\n",
       "      <th>ltable_ID</th>\n",
       "      <th>rtable_ID</th>\n",
       "      <th>ltable_title</th>\n",
       "      <th>ltable_author</th>\n",
       "      <th>ltable_rating</th>\n",
       "      <th>ltable_format</th>\n",
       "      <th>rtable_title</th>\n",
       "      <th>rtable_author</th>\n",
       "      <th>rtable_rating</th>\n",
       "      <th>rtable_format</th>\n",
       "    </tr>\n",
       "  </thead>\n",
       "  <tbody>\n",
       "    <tr>\n",
       "      <th>0</th>\n",
       "      <td>0</td>\n",
       "      <td>a33</td>\n",
       "      <td>b2990</td>\n",
       "      <td>Holy Bible: King James Version</td>\n",
       "      <td>Anonymous</td>\n",
       "      <td>4.43</td>\n",
       "      <td>Hardcover</td>\n",
       "      <td>Holy Bible: King James Version, 1611 Edition</td>\n",
       "      <td>Hendrickson Publishers</td>\n",
       "      <td>4.4</td>\n",
       "      <td>Hardcover</td>\n",
       "    </tr>\n",
       "    <tr>\n",
       "      <th>1</th>\n",
       "      <td>1</td>\n",
       "      <td>a1861</td>\n",
       "      <td>b166</td>\n",
       "      <td>The Liars' Club</td>\n",
       "      <td>Mary Karr</td>\n",
       "      <td>3.93</td>\n",
       "      <td>Paperback</td>\n",
       "      <td>The Book Club</td>\n",
       "      <td>Mary Alice Monroe</td>\n",
       "      <td>4.3</td>\n",
       "      <td>Paperback</td>\n",
       "    </tr>\n",
       "    <tr>\n",
       "      <th>2</th>\n",
       "      <td>2</td>\n",
       "      <td>a2142</td>\n",
       "      <td>b2554</td>\n",
       "      <td>A Short History of Progress</td>\n",
       "      <td>Ronald Wright</td>\n",
       "      <td>4.11</td>\n",
       "      <td>Paperback</td>\n",
       "      <td>A Short History of Nearly Everything</td>\n",
       "      <td>Bill Bryson</td>\n",
       "      <td>4.6</td>\n",
       "      <td>Paperback</td>\n",
       "    </tr>\n",
       "    <tr>\n",
       "      <th>3</th>\n",
       "      <td>3</td>\n",
       "      <td>a120</td>\n",
       "      <td>b2197</td>\n",
       "      <td>The Lorax</td>\n",
       "      <td>Dr. Seuss</td>\n",
       "      <td>4.35</td>\n",
       "      <td>Hardcover</td>\n",
       "      <td>The Sneetches and Other Stories</td>\n",
       "      <td>Dr. Seuss</td>\n",
       "      <td>4.8</td>\n",
       "      <td>Hardcover</td>\n",
       "    </tr>\n",
       "    <tr>\n",
       "      <th>4</th>\n",
       "      <td>4</td>\n",
       "      <td>a1688</td>\n",
       "      <td>b2024</td>\n",
       "      <td>Fantastic Beasts and Where to Find Them</td>\n",
       "      <td>Newt Scamander</td>\n",
       "      <td>3.97</td>\n",
       "      <td>Hardcover</td>\n",
       "      <td>Fantastic Beasts and Where to Find Them: The Original Screenplay</td>\n",
       "      <td>J.K. Rowling</td>\n",
       "      <td>4.6</td>\n",
       "      <td>Hardcover</td>\n",
       "    </tr>\n",
       "  </tbody>\n",
       "</table>\n",
       "</div>"
      ],
      "text/plain": [
       "   _id ltable_ID rtable_ID                             ltable_title  \\\n",
       "0    0       a33     b2990           Holy Bible: King James Version   \n",
       "1    1     a1861      b166                          The Liars' Club   \n",
       "2    2     a2142     b2554              A Short History of Progress   \n",
       "3    3      a120     b2197                                The Lorax   \n",
       "4    4     a1688     b2024  Fantastic Beasts and Where to Find Them   \n",
       "\n",
       "    ltable_author  ltable_rating ltable_format  \\\n",
       "0       Anonymous           4.43     Hardcover   \n",
       "1       Mary Karr           3.93     Paperback   \n",
       "2   Ronald Wright           4.11     Paperback   \n",
       "3       Dr. Seuss           4.35     Hardcover   \n",
       "4  Newt Scamander           3.97     Hardcover   \n",
       "\n",
       "                                                       rtable_title  \\\n",
       "0                      Holy Bible: King James Version, 1611 Edition   \n",
       "1                                                     The Book Club   \n",
       "2                              A Short History of Nearly Everything   \n",
       "3                                   The Sneetches and Other Stories   \n",
       "4  Fantastic Beasts and Where to Find Them: The Original Screenplay   \n",
       "\n",
       "            rtable_author rtable_rating rtable_format  \n",
       "0  Hendrickson Publishers           4.4     Hardcover  \n",
       "1       Mary Alice Monroe           4.3     Paperback  \n",
       "2             Bill Bryson           4.6     Paperback  \n",
       "3               Dr. Seuss           4.8     Hardcover  \n",
       "4            J.K. Rowling           4.6     Hardcover  "
      ]
     },
     "execution_count": 14,
     "metadata": {},
     "output_type": "execute_result"
    }
   ],
   "source": [
    "# Display first few tuple pairs from the debug_blocker's output\n",
    "dbg.head()"
   ]
  },
  {
   "cell_type": "markdown",
   "metadata": {},
   "source": [
    "From the debug blocker's output we observe that the current blocker drops few potential matches. We would want to update the blocking sequence to avoid dropping these potential matches.\n",
    "The potential matches are the ones where the book title length is less than 3 words. Hence, we could use block box blocker to create a rule to avoid blocking these tuple pairs. After comparing the length of the book titles, we used jacard measure on the attribute 'author'."
   ]
  },
  {
   "cell_type": "code",
   "execution_count": 15,
   "metadata": {},
   "outputs": [],
   "source": [
    "# Getting q-gram and jacard from the library\n",
    "qgm_3 = em.get_tokenizers_for_blocking()['qgm_3']\n",
    "jaccard = em.get_sim_funs_for_blocking()['jaccard']"
   ]
  },
  {
   "cell_type": "code",
   "execution_count": 16,
   "metadata": {},
   "outputs": [],
   "source": [
    "# Defining the black box blocker rule\n",
    "def bbRule(ltuple, rtuple):\n",
    "    l_title = ltuple['title'].split()\n",
    "    r_title = rtuple['title'].split()\n",
    "    if len(l_title) < 3 and (len(r_title) == len(l_title)):\n",
    "        for i in range(len(l_title)):\n",
    "            if (l_title[i] != r_title[i]):\n",
    "                return True\n",
    "            if (jaccard(qgm_3(ltuple['author']), qgm_3(rtuple['author'])) < 0.5):\n",
    "                return True\n",
    "        return False\n",
    "    else:\n",
    "        return True\n",
    "\n",
    "bb = em.BlackBoxBlocker()\n",
    "# Setting the rule in black box blocker\n",
    "bb.set_black_box_function(bbRule)"
   ]
  },
  {
   "cell_type": "code",
   "execution_count": 17,
   "metadata": {},
   "outputs": [
    {
     "name": "stderr",
     "output_type": "stream",
     "text": [
      "0% [##############################] 100% | ETA: 00:00:00\n",
      "Total time elapsed: 00:05:49\n"
     ]
    }
   ],
   "source": [
    "D = bb.block_tables(A, B, l_output_attrs=['title','author'], r_output_attrs=['title','author'])"
   ]
  },
  {
   "cell_type": "code",
   "execution_count": 18,
   "metadata": {},
   "outputs": [
    {
     "data": {
      "text/plain": [
       "17"
      ]
     },
     "execution_count": 18,
     "metadata": {},
     "output_type": "execute_result"
    }
   ],
   "source": [
    "len(D)"
   ]
  },
  {
   "cell_type": "code",
   "execution_count": 19,
   "metadata": {},
   "outputs": [
    {
     "data": {
      "text/html": [
       "<div>\n",
       "<style scoped>\n",
       "    .dataframe tbody tr th:only-of-type {\n",
       "        vertical-align: middle;\n",
       "    }\n",
       "\n",
       "    .dataframe tbody tr th {\n",
       "        vertical-align: top;\n",
       "    }\n",
       "\n",
       "    .dataframe thead th {\n",
       "        text-align: right;\n",
       "    }\n",
       "</style>\n",
       "<table border=\"1\" class=\"dataframe\">\n",
       "  <thead>\n",
       "    <tr style=\"text-align: right;\">\n",
       "      <th></th>\n",
       "      <th>_id</th>\n",
       "      <th>ltable_ID</th>\n",
       "      <th>rtable_ID</th>\n",
       "      <th>ltable_title</th>\n",
       "      <th>ltable_author</th>\n",
       "      <th>rtable_title</th>\n",
       "      <th>rtable_author</th>\n",
       "    </tr>\n",
       "  </thead>\n",
       "  <tbody>\n",
       "    <tr>\n",
       "      <th>0</th>\n",
       "      <td>0</td>\n",
       "      <td>a10</td>\n",
       "      <td>b2979</td>\n",
       "      <td>Jane Eyre</td>\n",
       "      <td>Charlotte Brontë</td>\n",
       "      <td>Jane Eyre</td>\n",
       "      <td>Charlotte Bronte</td>\n",
       "    </tr>\n",
       "    <tr>\n",
       "      <th>1</th>\n",
       "      <td>1</td>\n",
       "      <td>a28</td>\n",
       "      <td>b2987</td>\n",
       "      <td>Wuthering Heights</td>\n",
       "      <td>Emily Brontë</td>\n",
       "      <td>Wuthering Heights</td>\n",
       "      <td>Emily Bronte</td>\n",
       "    </tr>\n",
       "  </tbody>\n",
       "</table>\n",
       "</div>"
      ],
      "text/plain": [
       "   _id ltable_ID rtable_ID       ltable_title     ltable_author  \\\n",
       "0    0       a10     b2979          Jane Eyre  Charlotte Brontë   \n",
       "1    1       a28     b2987  Wuthering Heights      Emily Brontë   \n",
       "\n",
       "        rtable_title     rtable_author  \n",
       "0          Jane Eyre  Charlotte Bronte  \n",
       "1  Wuthering Heights      Emily Bronte  "
      ]
     },
     "execution_count": 19,
     "metadata": {},
     "output_type": "execute_result"
    }
   ],
   "source": [
    "D.head(2)"
   ]
  },
  {
   "cell_type": "code",
   "execution_count": 20,
   "metadata": {},
   "outputs": [],
   "source": [
    "# Combine blocker outputs\n",
    "C = em.combine_blocker_outputs_via_union([C2, D])"
   ]
  },
  {
   "cell_type": "code",
   "execution_count": 21,
   "metadata": {},
   "outputs": [
    {
     "data": {
      "text/plain": [
       "565"
      ]
     },
     "execution_count": 21,
     "metadata": {},
     "output_type": "execute_result"
    }
   ],
   "source": [
    "len(C)"
   ]
  },
  {
   "cell_type": "markdown",
   "metadata": {},
   "source": [
    "We observe that the number of tuple pairs considered for matching is increased to 565 (from 548). Now let us debug the blocker output again to check if the current blocker sequence is dropping any potential matches."
   ]
  },
  {
   "cell_type": "code",
   "execution_count": 22,
   "metadata": {},
   "outputs": [],
   "source": [
    "# Debug again\n",
    "dbg = em.debug_blocker(C, A, B)"
   ]
  },
  {
   "cell_type": "code",
   "execution_count": 23,
   "metadata": {},
   "outputs": [
    {
     "data": {
      "text/html": [
       "<div>\n",
       "<style scoped>\n",
       "    .dataframe tbody tr th:only-of-type {\n",
       "        vertical-align: middle;\n",
       "    }\n",
       "\n",
       "    .dataframe tbody tr th {\n",
       "        vertical-align: top;\n",
       "    }\n",
       "\n",
       "    .dataframe thead th {\n",
       "        text-align: right;\n",
       "    }\n",
       "</style>\n",
       "<table border=\"1\" class=\"dataframe\">\n",
       "  <thead>\n",
       "    <tr style=\"text-align: right;\">\n",
       "      <th></th>\n",
       "      <th>_id</th>\n",
       "      <th>ltable_ID</th>\n",
       "      <th>rtable_ID</th>\n",
       "      <th>ltable_title</th>\n",
       "      <th>ltable_author</th>\n",
       "      <th>ltable_rating</th>\n",
       "      <th>ltable_format</th>\n",
       "      <th>rtable_title</th>\n",
       "      <th>rtable_author</th>\n",
       "      <th>rtable_rating</th>\n",
       "      <th>rtable_format</th>\n",
       "    </tr>\n",
       "  </thead>\n",
       "  <tbody>\n",
       "    <tr>\n",
       "      <th>0</th>\n",
       "      <td>0</td>\n",
       "      <td>a33</td>\n",
       "      <td>b2990</td>\n",
       "      <td>Holy Bible: King James Version</td>\n",
       "      <td>Anonymous</td>\n",
       "      <td>4.43</td>\n",
       "      <td>Hardcover</td>\n",
       "      <td>Holy Bible: King James Version, 1611 Edition</td>\n",
       "      <td>Hendrickson Publishers</td>\n",
       "      <td>4.4</td>\n",
       "      <td>Hardcover</td>\n",
       "    </tr>\n",
       "    <tr>\n",
       "      <th>1</th>\n",
       "      <td>1</td>\n",
       "      <td>a120</td>\n",
       "      <td>b2197</td>\n",
       "      <td>The Lorax</td>\n",
       "      <td>Dr. Seuss</td>\n",
       "      <td>4.35</td>\n",
       "      <td>Hardcover</td>\n",
       "      <td>The Sneetches and Other Stories</td>\n",
       "      <td>Dr. Seuss</td>\n",
       "      <td>4.8</td>\n",
       "      <td>Hardcover</td>\n",
       "    </tr>\n",
       "    <tr>\n",
       "      <th>2</th>\n",
       "      <td>2</td>\n",
       "      <td>a2142</td>\n",
       "      <td>b2554</td>\n",
       "      <td>A Short History of Progress</td>\n",
       "      <td>Ronald Wright</td>\n",
       "      <td>4.11</td>\n",
       "      <td>Paperback</td>\n",
       "      <td>A Short History of Nearly Everything</td>\n",
       "      <td>Bill Bryson</td>\n",
       "      <td>4.6</td>\n",
       "      <td>Paperback</td>\n",
       "    </tr>\n",
       "  </tbody>\n",
       "</table>\n",
       "</div>"
      ],
      "text/plain": [
       "   _id ltable_ID rtable_ID                    ltable_title  ltable_author  \\\n",
       "0    0       a33     b2990  Holy Bible: King James Version      Anonymous   \n",
       "1    1      a120     b2197                       The Lorax      Dr. Seuss   \n",
       "2    2     a2142     b2554     A Short History of Progress  Ronald Wright   \n",
       "\n",
       "   ltable_rating ltable_format                                  rtable_title  \\\n",
       "0           4.43     Hardcover  Holy Bible: King James Version, 1611 Edition   \n",
       "1           4.35     Hardcover               The Sneetches and Other Stories   \n",
       "2           4.11     Paperback          A Short History of Nearly Everything   \n",
       "\n",
       "            rtable_author rtable_rating rtable_format  \n",
       "0  Hendrickson Publishers           4.4     Hardcover  \n",
       "1               Dr. Seuss           4.8     Hardcover  \n",
       "2             Bill Bryson           4.6     Paperback  "
      ]
     },
     "execution_count": 23,
     "metadata": {},
     "output_type": "execute_result"
    }
   ],
   "source": [
    "# Display first few rows from the debugger output\n",
    "dbg.head(3)"
   ]
  },
  {
   "cell_type": "markdown",
   "metadata": {},
   "source": [
    "We observe that the current blocker sequence does not drop obvious potential matches, and we can proceed with the matching step now. A subtle point to note here is, debugging blocker output practically provides a stopping criteria for modifying the blocker sequence."
   ]
  },
  {
   "cell_type": "markdown",
   "metadata": {},
   "source": [
    "# Matching tuple pairs in the candidate \n",
    "\n",
    "In this step, we would want to match the tuple pairs in the candidate set. Specifically, we use learning-based method for matching purposes. This typically involves the following five steps:\n",
    "\n",
    "    Sampling and labeling the candidate set\n",
    "    Splitting the labeled data into development and evaluation set\n",
    "    Selecting the best learning based matcher using the development set\n",
    "    Evaluating the selected matcher using the evaluation set"
   ]
  },
  {
   "cell_type": "markdown",
   "metadata": {},
   "source": [
    "As the number of tuple pairs after blocking are only 565, we can skip sampling the candidate set. Also we have manually labeled the tuple pairs which have survived blocking."
   ]
  },
  {
   "cell_type": "code",
   "execution_count": 7,
   "metadata": {},
   "outputs": [
    {
     "name": "stderr",
     "output_type": "stream",
     "text": [
      "Metadata file is not present in the given path; proceeding to read the csv file.\n"
     ]
    },
    {
     "data": {
      "text/plain": [
       "565"
      ]
     },
     "execution_count": 7,
     "metadata": {},
     "output_type": "execute_result"
    }
   ],
   "source": [
    "#Loading manually labeled data\n",
    "G = em.read_csv_metadata(\"../DATA/Labelled Set G.csv\", key=\"_id\", fk_ltable=\"ltable_ID\", fk_rtable=\"rtable_ID\", ltable=A, rtable=B)\n",
    "len(G)"
   ]
  },
  {
   "cell_type": "markdown",
   "metadata": {},
   "source": [
    "## Splitting the labeled data into development and evaluation set\n",
    "\n",
    "In this step, we split the labeled data into two sets: development (I) and evaluation (J). Specifically, the development set is used to come up with the best learning-based matcher and the evaluation set used to evaluate the selected matcher on unseen data."
   ]
  },
  {
   "cell_type": "code",
   "execution_count": 54,
   "metadata": {},
   "outputs": [],
   "source": [
    "# Split S into development set (I) and evaluation set (J)\n",
    "# Label I and J\n",
    "IJ = em.split_train_test(G, train_proportion=0.66, random_state=29)\n",
    "I = IJ['train']\n",
    "J = IJ['test']"
   ]
  },
  {
   "cell_type": "markdown",
   "metadata": {},
   "source": [
    "## Selecting the best learning-based matcher\n",
    "\n",
    "Selecting the best learning-based matcher typically involves the following steps:\n",
    "\n",
    "    Creating a set of learning-based matchers\n",
    "    Creating features\n",
    "    Converting the development set into feature vectors\n",
    "    Selecting the best learning-based matcher using k-fold cross validation\n",
    "    \n",
    "### Creating a set of learning-based matchers"
   ]
  },
  {
   "cell_type": "code",
   "execution_count": 26,
   "metadata": {},
   "outputs": [],
   "source": [
    "# Create a set of ML-matchers\n",
    "dt = em.DTMatcher(name='DecisionTree', random_state=0)\n",
    "svm = em.SVMMatcher(name='SVM', random_state=0, probability=True)\n",
    "rf = em.RFMatcher(name='RF', random_state=0)\n",
    "lg = em.LogRegMatcher(name='LogReg', random_state=0)\n",
    "ln = em.LinRegMatcher(name='LinReg')\n",
    "nb = em.NBMatcher(name='Naive Bayes')"
   ]
  },
  {
   "cell_type": "markdown",
   "metadata": {},
   "source": [
    "### Creating features\n",
    "\n",
    "Next, we need to create a set of features for the development set. py_entitymatching provides a way to automatically generate features based on the attributes in the input tables. "
   ]
  },
  {
   "cell_type": "code",
   "execution_count": 27,
   "metadata": {},
   "outputs": [],
   "source": [
    "atypes1 = em.get_attr_types(A)\n",
    "atypes2 = em.get_attr_types(B)"
   ]
  },
  {
   "cell_type": "code",
   "execution_count": 28,
   "metadata": {},
   "outputs": [],
   "source": [
    "block_c = em.get_attr_corres(A, B)\n",
    "# Only title and author are sufficient to learn the matcher\n",
    "block_c['corres'] = [('title', 'title'), ('author', 'author')]"
   ]
  },
  {
   "cell_type": "code",
   "execution_count": 29,
   "metadata": {},
   "outputs": [],
   "source": [
    "# Creating tokenizers and similarity functions\n",
    "tok = em.get_tokenizers_for_blocking()\n",
    "sim = em.get_sim_funs_for_blocking()"
   ]
  },
  {
   "cell_type": "code",
   "execution_count": 30,
   "metadata": {},
   "outputs": [],
   "source": [
    "# Generate features\n",
    "feature_table = em.get_features(A, B, atypes1, atypes2, block_c, tok, sim)"
   ]
  },
  {
   "cell_type": "code",
   "execution_count": 31,
   "metadata": {},
   "outputs": [
    {
     "data": {
      "text/plain": [
       "0           title_title_jac_qgm_3_qgm_3\n",
       "1       title_title_cos_dlm_dc0_dlm_dc0\n",
       "2                       title_title_mel\n",
       "3                  title_title_lev_dist\n",
       "4                   title_title_lev_sim\n",
       "5         author_author_jac_qgm_3_qgm_3\n",
       "6     author_author_cos_dlm_dc0_dlm_dc0\n",
       "7     author_author_jac_dlm_dc0_dlm_dc0\n",
       "8                     author_author_mel\n",
       "9                author_author_lev_dist\n",
       "10                author_author_lev_sim\n",
       "11                    author_author_nmw\n",
       "12                     author_author_sw\n",
       "Name: feature_name, dtype: object"
      ]
     },
     "execution_count": 31,
     "metadata": {},
     "output_type": "execute_result"
    }
   ],
   "source": [
    "# List the names of the features generated\n",
    "feature_table['feature_name']"
   ]
  },
  {
   "cell_type": "markdown",
   "metadata": {},
   "source": [
    "### Converting the development set to feature vectors"
   ]
  },
  {
   "cell_type": "code",
   "execution_count": 55,
   "metadata": {},
   "outputs": [],
   "source": [
    "# Convert the I into a set of feature vectors using F\n",
    "H = em.extract_feature_vecs(I, feature_table=feature_table, attrs_after='label',show_progress=False)\n",
    "# Impute feature vectors with the mean of the column values.\n",
    "H = em.impute_table(H, exclude_attrs=['_id', 'ltable_ID', 'rtable_ID', 'label'], strategy='mean')"
   ]
  },
  {
   "cell_type": "code",
   "execution_count": 56,
   "metadata": {},
   "outputs": [
    {
     "data": {
      "text/html": [
       "<div>\n",
       "<style scoped>\n",
       "    .dataframe tbody tr th:only-of-type {\n",
       "        vertical-align: middle;\n",
       "    }\n",
       "\n",
       "    .dataframe tbody tr th {\n",
       "        vertical-align: top;\n",
       "    }\n",
       "\n",
       "    .dataframe thead th {\n",
       "        text-align: right;\n",
       "    }\n",
       "</style>\n",
       "<table border=\"1\" class=\"dataframe\">\n",
       "  <thead>\n",
       "    <tr style=\"text-align: right;\">\n",
       "      <th></th>\n",
       "      <th>_id</th>\n",
       "      <th>ltable_ID</th>\n",
       "      <th>rtable_ID</th>\n",
       "      <th>title_title_jac_qgm_3_qgm_3</th>\n",
       "      <th>title_title_cos_dlm_dc0_dlm_dc0</th>\n",
       "      <th>title_title_mel</th>\n",
       "      <th>title_title_lev_dist</th>\n",
       "      <th>title_title_lev_sim</th>\n",
       "      <th>author_author_jac_qgm_3_qgm_3</th>\n",
       "      <th>author_author_cos_dlm_dc0_dlm_dc0</th>\n",
       "      <th>author_author_jac_dlm_dc0_dlm_dc0</th>\n",
       "      <th>author_author_mel</th>\n",
       "      <th>author_author_lev_dist</th>\n",
       "      <th>author_author_lev_sim</th>\n",
       "      <th>author_author_nmw</th>\n",
       "      <th>author_author_sw</th>\n",
       "      <th>label</th>\n",
       "    </tr>\n",
       "  </thead>\n",
       "  <tbody>\n",
       "    <tr>\n",
       "      <th>185</th>\n",
       "      <td>185</td>\n",
       "      <td>a1961</td>\n",
       "      <td>b689</td>\n",
       "      <td>1.000000</td>\n",
       "      <td>1.000000</td>\n",
       "      <td>1.000000</td>\n",
       "      <td>0.0</td>\n",
       "      <td>1.000000</td>\n",
       "      <td>0.608696</td>\n",
       "      <td>0.816497</td>\n",
       "      <td>0.666667</td>\n",
       "      <td>0.947368</td>\n",
       "      <td>5.0</td>\n",
       "      <td>0.736842</td>\n",
       "      <td>9.0</td>\n",
       "      <td>14.0</td>\n",
       "      <td>1</td>\n",
       "    </tr>\n",
       "    <tr>\n",
       "      <th>176</th>\n",
       "      <td>176</td>\n",
       "      <td>a189</td>\n",
       "      <td>b1012</td>\n",
       "      <td>0.078125</td>\n",
       "      <td>0.235702</td>\n",
       "      <td>0.735376</td>\n",
       "      <td>82.0</td>\n",
       "      <td>0.211538</td>\n",
       "      <td>0.225806</td>\n",
       "      <td>0.408248</td>\n",
       "      <td>0.250000</td>\n",
       "      <td>0.831818</td>\n",
       "      <td>13.0</td>\n",
       "      <td>0.409091</td>\n",
       "      <td>-1.0</td>\n",
       "      <td>9.0</td>\n",
       "      <td>0</td>\n",
       "    </tr>\n",
       "    <tr>\n",
       "      <th>121</th>\n",
       "      <td>121</td>\n",
       "      <td>a15</td>\n",
       "      <td>b1477</td>\n",
       "      <td>0.250000</td>\n",
       "      <td>0.490290</td>\n",
       "      <td>0.840823</td>\n",
       "      <td>44.0</td>\n",
       "      <td>0.488372</td>\n",
       "      <td>0.571429</td>\n",
       "      <td>0.816497</td>\n",
       "      <td>0.666667</td>\n",
       "      <td>0.941176</td>\n",
       "      <td>5.0</td>\n",
       "      <td>0.705882</td>\n",
       "      <td>7.0</td>\n",
       "      <td>12.0</td>\n",
       "      <td>0</td>\n",
       "    </tr>\n",
       "  </tbody>\n",
       "</table>\n",
       "</div>"
      ],
      "text/plain": [
       "     _id ltable_ID rtable_ID  title_title_jac_qgm_3_qgm_3  \\\n",
       "185  185     a1961      b689                     1.000000   \n",
       "176  176      a189     b1012                     0.078125   \n",
       "121  121       a15     b1477                     0.250000   \n",
       "\n",
       "     title_title_cos_dlm_dc0_dlm_dc0  title_title_mel  title_title_lev_dist  \\\n",
       "185                         1.000000         1.000000                   0.0   \n",
       "176                         0.235702         0.735376                  82.0   \n",
       "121                         0.490290         0.840823                  44.0   \n",
       "\n",
       "     title_title_lev_sim  author_author_jac_qgm_3_qgm_3  \\\n",
       "185             1.000000                       0.608696   \n",
       "176             0.211538                       0.225806   \n",
       "121             0.488372                       0.571429   \n",
       "\n",
       "     author_author_cos_dlm_dc0_dlm_dc0  author_author_jac_dlm_dc0_dlm_dc0  \\\n",
       "185                           0.816497                           0.666667   \n",
       "176                           0.408248                           0.250000   \n",
       "121                           0.816497                           0.666667   \n",
       "\n",
       "     author_author_mel  author_author_lev_dist  author_author_lev_sim  \\\n",
       "185           0.947368                     5.0               0.736842   \n",
       "176           0.831818                    13.0               0.409091   \n",
       "121           0.941176                     5.0               0.705882   \n",
       "\n",
       "     author_author_nmw  author_author_sw  label  \n",
       "185                9.0              14.0      1  \n",
       "176               -1.0               9.0      0  \n",
       "121                7.0              12.0      0  "
      ]
     },
     "execution_count": 56,
     "metadata": {},
     "output_type": "execute_result"
    }
   ],
   "source": [
    "# Display first few rows\n",
    "H.head(3)"
   ]
  },
  {
   "cell_type": "markdown",
   "metadata": {},
   "source": [
    "### Selecting the best matcher using cross-validation\n",
    "\n",
    "Now, we select the best matcher using k-fold cross-validation. For the purposes of this guide, we use five fold cross validation and use 'precision' and 'recall' metric to select the best matcher."
   ]
  },
  {
   "cell_type": "code",
   "execution_count": 57,
   "metadata": {},
   "outputs": [
    {
     "data": {
      "text/html": [
       "<div>\n",
       "<style scoped>\n",
       "    .dataframe tbody tr th:only-of-type {\n",
       "        vertical-align: middle;\n",
       "    }\n",
       "\n",
       "    .dataframe tbody tr th {\n",
       "        vertical-align: top;\n",
       "    }\n",
       "\n",
       "    .dataframe thead th {\n",
       "        text-align: right;\n",
       "    }\n",
       "</style>\n",
       "<table border=\"1\" class=\"dataframe\">\n",
       "  <thead>\n",
       "    <tr style=\"text-align: right;\">\n",
       "      <th></th>\n",
       "      <th>Matcher</th>\n",
       "      <th>Average precision</th>\n",
       "      <th>Average recall</th>\n",
       "      <th>Average f1</th>\n",
       "    </tr>\n",
       "  </thead>\n",
       "  <tbody>\n",
       "    <tr>\n",
       "      <th>0</th>\n",
       "      <td>DecisionTree</td>\n",
       "      <td>0.885933</td>\n",
       "      <td>0.880029</td>\n",
       "      <td>0.881771</td>\n",
       "    </tr>\n",
       "    <tr>\n",
       "      <th>1</th>\n",
       "      <td>RF</td>\n",
       "      <td>0.901088</td>\n",
       "      <td>0.903844</td>\n",
       "      <td>0.901685</td>\n",
       "    </tr>\n",
       "    <tr>\n",
       "      <th>2</th>\n",
       "      <td>SVM</td>\n",
       "      <td>0.915229</td>\n",
       "      <td>0.839137</td>\n",
       "      <td>0.875228</td>\n",
       "    </tr>\n",
       "    <tr>\n",
       "      <th>3</th>\n",
       "      <td>LinReg</td>\n",
       "      <td>0.883766</td>\n",
       "      <td>0.929070</td>\n",
       "      <td>0.904290</td>\n",
       "    </tr>\n",
       "    <tr>\n",
       "      <th>4</th>\n",
       "      <td>LogReg</td>\n",
       "      <td>0.856335</td>\n",
       "      <td>0.918478</td>\n",
       "      <td>0.884201</td>\n",
       "    </tr>\n",
       "    <tr>\n",
       "      <th>5</th>\n",
       "      <td>Naive Bayes</td>\n",
       "      <td>0.802324</td>\n",
       "      <td>0.877938</td>\n",
       "      <td>0.837078</td>\n",
       "    </tr>\n",
       "  </tbody>\n",
       "</table>\n",
       "</div>"
      ],
      "text/plain": [
       "        Matcher  Average precision  Average recall  Average f1\n",
       "0  DecisionTree           0.885933        0.880029    0.881771\n",
       "1            RF           0.901088        0.903844    0.901685\n",
       "2           SVM           0.915229        0.839137    0.875228\n",
       "3        LinReg           0.883766        0.929070    0.904290\n",
       "4        LogReg           0.856335        0.918478    0.884201\n",
       "5   Naive Bayes           0.802324        0.877938    0.837078"
      ]
     },
     "execution_count": 57,
     "metadata": {},
     "output_type": "execute_result"
    }
   ],
   "source": [
    "result = em.select_matcher([dt, rf, svm, ln, lg, nb], table=H, exclude_attrs=['_id', 'ltable_ID', 'rtable_ID', 'label'], k=5, target_attr='label', metric_to_select_matcher='f1', random_state=0)\n",
    "result['cv_stats']"
   ]
  },
  {
   "cell_type": "markdown",
   "metadata": {},
   "source": [
    "We observe that the requied precision of at least 90% and high recall is achieved by Random Forest. Hence, debugging a matcher is not required."
   ]
  },
  {
   "cell_type": "markdown",
   "metadata": {},
   "source": [
    "## Evaluating the matching output\n",
    "\n",
    "Evaluating the matching outputs for the evaluation set typically involves the following four steps:\n",
    "\n",
    "    Converting the evaluation set to feature vectors\n",
    "    Training matcher using the feature vectors extracted from the development set\n",
    "    Predicting the evaluation set using the trained matcher\n",
    "    Evaluating the predicted matches"
   ]
  },
  {
   "cell_type": "markdown",
   "metadata": {},
   "source": [
    "### Converting the evaluation set to feature vectors\n",
    "\n",
    "As before, we convert to the feature vectors (using the feature table and the evaluation set)"
   ]
  },
  {
   "cell_type": "code",
   "execution_count": 58,
   "metadata": {},
   "outputs": [],
   "source": [
    "# Convert the J into a set of feature vectors using F\n",
    "L = em.extract_feature_vecs(J, feature_table=feature_table, attrs_after='label',show_progress=False)\n",
    "L = em.impute_table(H, exclude_attrs=['_id', 'ltable_ID', 'rtable_ID', 'label'], strategy='mean')"
   ]
  },
  {
   "cell_type": "code",
   "execution_count": 59,
   "metadata": {},
   "outputs": [],
   "source": [
    "# Training the matchers\n",
    "dt.fit(table=H, exclude_attrs=['_id', 'ltable_ID', 'rtable_ID', 'label'], target_attr='label')\n",
    "svm.fit(table=H, exclude_attrs=['_id', 'ltable_ID', 'rtable_ID', 'label'], target_attr='label')\n",
    "lg.fit(table=H, exclude_attrs=['_id', 'ltable_ID', 'rtable_ID', 'label'], target_attr='label')\n",
    "ln.fit(table=H, exclude_attrs=['_id', 'ltable_ID', 'rtable_ID', 'label'], target_attr='label')\n",
    "rf.fit(table=H, exclude_attrs=['_id', 'ltable_ID', 'rtable_ID', 'label'], target_attr='label')\n",
    "nb.fit(table=H, exclude_attrs=['_id', 'ltable_ID', 'rtable_ID', 'label'], target_attr='label')"
   ]
  },
  {
   "cell_type": "markdown",
   "metadata": {},
   "source": [
    "### Predicting the matches\n",
    "\n",
    "Next, we predict the matches for the evaluation set (using the feature vectors extracted from it)."
   ]
  },
  {
   "cell_type": "code",
   "execution_count": 60,
   "metadata": {},
   "outputs": [
    {
     "name": "stderr",
     "output_type": "stream",
     "text": [
      "There is no proba function defined for Linear Regression Matcher in scikit learn. So we return the probs as 1\n"
     ]
    }
   ],
   "source": [
    "predictionsDT = dt.predict(table=L, exclude_attrs=['_id', 'ltable_ID', 'rtable_ID', 'label'], append=True, target_attr='predicted', inplace=False, return_probs=True, probs_attr='proba')\n",
    "predictionsRF = rf.predict(table=L, exclude_attrs=['_id', 'ltable_ID', 'rtable_ID', 'label'], append=True, target_attr='predicted', inplace=False, return_probs=True, probs_attr='proba')\n",
    "predictionsSVM = svm.predict(table=L, exclude_attrs=['_id', 'ltable_ID', 'rtable_ID', 'label'], append=True, target_attr='predicted', inplace=False, return_probs=True, probs_attr='proba')\n",
    "predictionsLinReg = ln.predict(table=L, exclude_attrs=['_id', 'ltable_ID', 'rtable_ID', 'label'], append=True, target_attr='predicted', inplace=False, return_probs=True, probs_attr='proba')\n",
    "predictionsLogReg = lg.predict(table=L, exclude_attrs=['_id', 'ltable_ID', 'rtable_ID', 'label'], append=True, target_attr='predicted', inplace=False, return_probs=True, probs_attr='proba')\n",
    "predictionsNB = nb.predict(table=L, exclude_attrs=['_id', 'ltable_ID', 'rtable_ID', 'label'], append=True, target_attr='predicted', inplace=False, return_probs=True, probs_attr='proba')"
   ]
  },
  {
   "cell_type": "markdown",
   "metadata": {},
   "source": [
    "### Evaluating the predictions\n",
    "\n",
    "Finally, we evaluate the accuracy of predicted outputs"
   ]
  },
  {
   "cell_type": "code",
   "execution_count": 62,
   "metadata": {},
   "outputs": [
    {
     "name": "stdout",
     "output_type": "stream",
     "text": [
      "Precision : 98.92% (183/185)\n",
      "Recall : 100.0% (183/183)\n",
      "F1 : 99.46%\n",
      "False positives : 2 (out of 185 positive predictions)\n",
      "False negatives : 0 (out of 187 negative predictions)\n"
     ]
    }
   ],
   "source": [
    "eval_resultRF = em.eval_matches(predictionsRF, 'label', 'predicted')\n",
    "em.print_eval_summary(eval_resultRF)"
   ]
  }
 ],
 "metadata": {
  "kernelspec": {
   "display_name": "Python 3",
   "language": "python",
   "name": "python3"
  },
  "language_info": {
   "codemirror_mode": {
    "name": "ipython",
    "version": 3
   },
   "file_extension": ".py",
   "mimetype": "text/x-python",
   "name": "python",
   "nbconvert_exporter": "python",
   "pygments_lexer": "ipython3",
   "version": "3.6.3"
  }
 },
 "nbformat": 4,
 "nbformat_minor": 2
}
