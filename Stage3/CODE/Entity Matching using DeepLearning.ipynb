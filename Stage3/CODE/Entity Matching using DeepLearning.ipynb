{
 "cells": [
  {
   "cell_type": "markdown",
   "metadata": {},
   "source": [
    "# Introduction"
   ]
  },
  {
   "cell_type": "markdown",
   "metadata": {},
   "source": [
    "\n",
    "This IPython notebook explains a basic workflow of matching two tables using deepmatcher. Our goal is to come up with a workflow to match books from amazon and goodread sites. Specifically, we want to create a matcher with precision of at least 90% and recall as high as possible. The datasets contain information about the books.\n",
    "\n",
    "We used Magellan to perform blocking of tuple pairs and matching is done my using deepmatcher package.\n",
    "\n",
    "First, we need to import py_entitymatching package and other libraries as follows:"
   ]
  },
  {
   "cell_type": "code",
   "execution_count": 142,
   "metadata": {},
   "outputs": [],
   "source": [
    "import sys\n",
    "import py_entitymatching as em\n",
    "import deepmatcher as dm\n",
    "import os"
   ]
  },
  {
   "cell_type": "markdown",
   "metadata": {},
   "source": [
    "Matching two tables typically consists of the following three steps:\n",
    "\n",
    "1. Reading the input tables\n",
    "\n",
    "2. Blocking the input tables to get a candidate set\n",
    "\n",
    "3. Matching the tuple pairs in the candidate set"
   ]
  },
  {
   "cell_type": "markdown",
   "metadata": {},
   "source": [
    "# Read input tables"
   ]
  },
  {
   "cell_type": "code",
   "execution_count": 143,
   "metadata": {},
   "outputs": [
    {
     "name": "stderr",
     "output_type": "stream",
     "text": [
      "WARNING:py_entitymatching.io.parsers:Metadata file is not present in the given path; proceeding to read the csv file.\n",
      "WARNING:py_entitymatching.io.parsers:Metadata file is not present in the given path; proceeding to read the csv file.\n"
     ]
    }
   ],
   "source": [
    "# Get the paths\n",
    "path_A = \"../DATA/TableA.csv\"\n",
    "path_B = \"../DATA/TableB.csv\"\n",
    "A = em.read_csv_metadata(path_A, key='ID')\n",
    "B = em.read_csv_metadata(path_B, key='ID')"
   ]
  },
  {
   "cell_type": "code",
   "execution_count": 144,
   "metadata": {},
   "outputs": [
    {
     "name": "stdout",
     "output_type": "stream",
     "text": [
      "Number of tuples in A: 3000\n",
      "Number of tuples in B: 3000\n",
      "Number of tuples in A X B (i.e the cartesian product): 9000000\n"
     ]
    }
   ],
   "source": [
    "print('Number of tuples in A: ' + str(len(A)))\n",
    "print('Number of tuples in B: ' + str(len(B)))\n",
    "print('Number of tuples in A X B (i.e the cartesian product): ' + str(len(A)*len(B)))"
   ]
  },
  {
   "cell_type": "code",
   "execution_count": 145,
   "metadata": {},
   "outputs": [
    {
     "data": {
      "text/html": [
       "<div>\n",
       "<style scoped>\n",
       "    .dataframe tbody tr th:only-of-type {\n",
       "        vertical-align: middle;\n",
       "    }\n",
       "\n",
       "    .dataframe tbody tr th {\n",
       "        vertical-align: top;\n",
       "    }\n",
       "\n",
       "    .dataframe thead th {\n",
       "        text-align: right;\n",
       "    }\n",
       "</style>\n",
       "<table border=\"1\" class=\"dataframe\">\n",
       "  <thead>\n",
       "    <tr style=\"text-align: right;\">\n",
       "      <th></th>\n",
       "      <th>ID</th>\n",
       "      <th>title</th>\n",
       "      <th>author</th>\n",
       "      <th>rating</th>\n",
       "      <th>format</th>\n",
       "    </tr>\n",
       "  </thead>\n",
       "  <tbody>\n",
       "    <tr>\n",
       "      <th>0</th>\n",
       "      <td>a1</td>\n",
       "      <td>To Kill a Mockingbird</td>\n",
       "      <td>Harper Lee</td>\n",
       "      <td>4.26</td>\n",
       "      <td>Paperback</td>\n",
       "    </tr>\n",
       "    <tr>\n",
       "      <th>1</th>\n",
       "      <td>a2</td>\n",
       "      <td>Harry Potter and the Sorcerer's Stone (Harry Potter #1)</td>\n",
       "      <td>J.K. Rowling</td>\n",
       "      <td>4.45</td>\n",
       "      <td>Hardcover</td>\n",
       "    </tr>\n",
       "  </tbody>\n",
       "</table>\n",
       "</div>"
      ],
      "text/plain": [
       "   ID                                                    title        author  \\\n",
       "0  a1                                    To Kill a Mockingbird    Harper Lee   \n",
       "1  a2  Harry Potter and the Sorcerer's Stone (Harry Potter #1)  J.K. Rowling   \n",
       "\n",
       "   rating     format  \n",
       "0    4.26  Paperback  \n",
       "1    4.45  Hardcover  "
      ]
     },
     "execution_count": 145,
     "metadata": {},
     "output_type": "execute_result"
    }
   ],
   "source": [
    "A.head(2)"
   ]
  },
  {
   "cell_type": "code",
   "execution_count": 146,
   "metadata": {},
   "outputs": [
    {
     "data": {
      "text/html": [
       "<div>\n",
       "<style scoped>\n",
       "    .dataframe tbody tr th:only-of-type {\n",
       "        vertical-align: middle;\n",
       "    }\n",
       "\n",
       "    .dataframe tbody tr th {\n",
       "        vertical-align: top;\n",
       "    }\n",
       "\n",
       "    .dataframe thead th {\n",
       "        text-align: right;\n",
       "    }\n",
       "</style>\n",
       "<table border=\"1\" class=\"dataframe\">\n",
       "  <thead>\n",
       "    <tr style=\"text-align: right;\">\n",
       "      <th></th>\n",
       "      <th>ID</th>\n",
       "      <th>title</th>\n",
       "      <th>author</th>\n",
       "      <th>rating</th>\n",
       "      <th>format</th>\n",
       "    </tr>\n",
       "  </thead>\n",
       "  <tbody>\n",
       "    <tr>\n",
       "      <th>0</th>\n",
       "      <td>b1</td>\n",
       "      <td>Make Your Bed: Little Things That Can Change Your Life...And Maybe the World</td>\n",
       "      <td>William H. McRaven</td>\n",
       "      <td>4.7</td>\n",
       "      <td>Hardcover</td>\n",
       "    </tr>\n",
       "    <tr>\n",
       "      <th>1</th>\n",
       "      <td>b2</td>\n",
       "      <td>The Silent Wife: A gripping emotional page turner with a twist that will take your breath away</td>\n",
       "      <td>Kerry Fisher</td>\n",
       "      <td>4.1</td>\n",
       "      <td>Paperback</td>\n",
       "    </tr>\n",
       "  </tbody>\n",
       "</table>\n",
       "</div>"
      ],
      "text/plain": [
       "   ID  \\\n",
       "0  b1   \n",
       "1  b2   \n",
       "\n",
       "                                                                                            title  \\\n",
       "0                    Make Your Bed: Little Things That Can Change Your Life...And Maybe the World   \n",
       "1  The Silent Wife: A gripping emotional page turner with a twist that will take your breath away   \n",
       "\n",
       "               author rating     format  \n",
       "0  William H. McRaven    4.7  Hardcover  \n",
       "1        Kerry Fisher    4.1  Paperback  "
      ]
     },
     "execution_count": 146,
     "metadata": {},
     "output_type": "execute_result"
    }
   ],
   "source": [
    "B.head(2)"
   ]
  },
  {
   "cell_type": "code",
   "execution_count": 147,
   "metadata": {},
   "outputs": [
    {
     "data": {
      "text/plain": [
       "('ID', 'ID')"
      ]
     },
     "execution_count": 147,
     "metadata": {},
     "output_type": "execute_result"
    }
   ],
   "source": [
    "# Display the keys of the input tables\n",
    "em.get_key(A), em.get_key(B)"
   ]
  },
  {
   "cell_type": "markdown",
   "metadata": {},
   "source": [
    "# Block tables to get candidate set\n",
    "\n",
    "Before we do the matching, we would like to remove the obviously non-matching tuple pairs from the input tables. This would reduce the number of tuple pairs considered for matching.\n",
    "For the matching problem at hand, we know that two books with different titles will not match. So we decide the apply blocking over title:"
   ]
  },
  {
   "cell_type": "code",
   "execution_count": 148,
   "metadata": {},
   "outputs": [],
   "source": [
    "# Create overlap blocker\n",
    "ob = em.OverlapBlocker()\n",
    "\n",
    "# Block using title attribute\n",
    "C1= ob.block_tables(A, B, 'title', 'title', word_level=True, overlap_size=3, l_output_attrs=['title','author'], r_output_attrs=['title','author'], show_progress=False)"
   ]
  },
  {
   "cell_type": "code",
   "execution_count": 149,
   "metadata": {},
   "outputs": [
    {
     "data": {
      "text/plain": [
       "54723"
      ]
     },
     "execution_count": 149,
     "metadata": {},
     "output_type": "execute_result"
    }
   ],
   "source": [
    "len(C1)"
   ]
  },
  {
   "cell_type": "markdown",
   "metadata": {},
   "source": [
    "We write the output of C1 to csv file which is unlabelled and will be used as candidate set for deepmatcher."
   ]
  },
  {
   "cell_type": "code",
   "execution_count": 150,
   "metadata": {},
   "outputs": [],
   "source": [
    "path_C = os.path.join('.', '..', 'DATA', 'candidate.csv')\n",
    "C1.to_csv(path_C, index=False)"
   ]
  },
  {
   "cell_type": "markdown",
   "metadata": {},
   "source": [
    "The number of tuple pairs are still huge. So, we would like to further reduce it. Knowing the dataset, we can say that two books with different authors will not match. Hence, we can block the candidate set of tuple pairs on author."
   ]
  },
  {
   "cell_type": "code",
   "execution_count": 151,
   "metadata": {},
   "outputs": [],
   "source": [
    "C2 = ob.block_candset(C1, 'author', 'author', word_level=True, overlap_size=1, show_progress=False)"
   ]
  },
  {
   "cell_type": "code",
   "execution_count": 152,
   "metadata": {},
   "outputs": [
    {
     "data": {
      "text/plain": [
       "548"
      ]
     },
     "execution_count": 152,
     "metadata": {},
     "output_type": "execute_result"
    }
   ],
   "source": [
    "len(C2)"
   ]
  },
  {
   "cell_type": "markdown",
   "metadata": {},
   "source": [
    "# Debug blocker output\n",
    "\n",
    "The number of tuple pairs considered for matching is reduced to 54723 (from 9000000), but we would want to make sure that the blocker did not drop any potential matches. We could debug the blocker output in py_entitymatching as follows:"
   ]
  },
  {
   "cell_type": "code",
   "execution_count": 153,
   "metadata": {},
   "outputs": [],
   "source": [
    "# Debug blocker output\n",
    "dbg = em.debug_blocker(C2, A, B, output_size=200)"
   ]
  },
  {
   "cell_type": "code",
   "execution_count": 154,
   "metadata": {},
   "outputs": [
    {
     "data": {
      "text/html": [
       "<div>\n",
       "<style scoped>\n",
       "    .dataframe tbody tr th:only-of-type {\n",
       "        vertical-align: middle;\n",
       "    }\n",
       "\n",
       "    .dataframe tbody tr th {\n",
       "        vertical-align: top;\n",
       "    }\n",
       "\n",
       "    .dataframe thead th {\n",
       "        text-align: right;\n",
       "    }\n",
       "</style>\n",
       "<table border=\"1\" class=\"dataframe\">\n",
       "  <thead>\n",
       "    <tr style=\"text-align: right;\">\n",
       "      <th></th>\n",
       "      <th>_id</th>\n",
       "      <th>ltable_ID</th>\n",
       "      <th>rtable_ID</th>\n",
       "      <th>ltable_title</th>\n",
       "      <th>ltable_author</th>\n",
       "      <th>ltable_rating</th>\n",
       "      <th>ltable_format</th>\n",
       "      <th>rtable_title</th>\n",
       "      <th>rtable_author</th>\n",
       "      <th>rtable_rating</th>\n",
       "      <th>rtable_format</th>\n",
       "    </tr>\n",
       "  </thead>\n",
       "  <tbody>\n",
       "    <tr>\n",
       "      <th>0</th>\n",
       "      <td>0</td>\n",
       "      <td>a33</td>\n",
       "      <td>b2990</td>\n",
       "      <td>Holy Bible: King James Version</td>\n",
       "      <td>Anonymous</td>\n",
       "      <td>4.43</td>\n",
       "      <td>Hardcover</td>\n",
       "      <td>Holy Bible: King James Version, 1611 Edition</td>\n",
       "      <td>Hendrickson Publishers</td>\n",
       "      <td>4.4</td>\n",
       "      <td>Hardcover</td>\n",
       "    </tr>\n",
       "    <tr>\n",
       "      <th>1</th>\n",
       "      <td>1</td>\n",
       "      <td>a1861</td>\n",
       "      <td>b166</td>\n",
       "      <td>The Liars' Club</td>\n",
       "      <td>Mary Karr</td>\n",
       "      <td>3.93</td>\n",
       "      <td>Paperback</td>\n",
       "      <td>The Book Club</td>\n",
       "      <td>Mary Alice Monroe</td>\n",
       "      <td>4.3</td>\n",
       "      <td>Paperback</td>\n",
       "    </tr>\n",
       "    <tr>\n",
       "      <th>2</th>\n",
       "      <td>2</td>\n",
       "      <td>a2142</td>\n",
       "      <td>b2554</td>\n",
       "      <td>A Short History of Progress</td>\n",
       "      <td>Ronald Wright</td>\n",
       "      <td>4.11</td>\n",
       "      <td>Paperback</td>\n",
       "      <td>A Short History of Nearly Everything</td>\n",
       "      <td>Bill Bryson</td>\n",
       "      <td>4.6</td>\n",
       "      <td>Paperback</td>\n",
       "    </tr>\n",
       "    <tr>\n",
       "      <th>3</th>\n",
       "      <td>3</td>\n",
       "      <td>a120</td>\n",
       "      <td>b2197</td>\n",
       "      <td>The Lorax</td>\n",
       "      <td>Dr. Seuss</td>\n",
       "      <td>4.35</td>\n",
       "      <td>Hardcover</td>\n",
       "      <td>The Sneetches and Other Stories</td>\n",
       "      <td>Dr. Seuss</td>\n",
       "      <td>4.8</td>\n",
       "      <td>Hardcover</td>\n",
       "    </tr>\n",
       "    <tr>\n",
       "      <th>4</th>\n",
       "      <td>4</td>\n",
       "      <td>a1688</td>\n",
       "      <td>b2024</td>\n",
       "      <td>Fantastic Beasts and Where to Find Them</td>\n",
       "      <td>Newt Scamander</td>\n",
       "      <td>3.97</td>\n",
       "      <td>Hardcover</td>\n",
       "      <td>Fantastic Beasts and Where to Find Them: The Original Screenplay</td>\n",
       "      <td>J.K. Rowling</td>\n",
       "      <td>4.6</td>\n",
       "      <td>Hardcover</td>\n",
       "    </tr>\n",
       "  </tbody>\n",
       "</table>\n",
       "</div>"
      ],
      "text/plain": [
       "   _id ltable_ID rtable_ID                             ltable_title  \\\n",
       "0    0       a33     b2990           Holy Bible: King James Version   \n",
       "1    1     a1861      b166                          The Liars' Club   \n",
       "2    2     a2142     b2554              A Short History of Progress   \n",
       "3    3      a120     b2197                                The Lorax   \n",
       "4    4     a1688     b2024  Fantastic Beasts and Where to Find Them   \n",
       "\n",
       "    ltable_author  ltable_rating ltable_format  \\\n",
       "0       Anonymous           4.43     Hardcover   \n",
       "1       Mary Karr           3.93     Paperback   \n",
       "2   Ronald Wright           4.11     Paperback   \n",
       "3       Dr. Seuss           4.35     Hardcover   \n",
       "4  Newt Scamander           3.97     Hardcover   \n",
       "\n",
       "                                                       rtable_title  \\\n",
       "0                      Holy Bible: King James Version, 1611 Edition   \n",
       "1                                                     The Book Club   \n",
       "2                              A Short History of Nearly Everything   \n",
       "3                                   The Sneetches and Other Stories   \n",
       "4  Fantastic Beasts and Where to Find Them: The Original Screenplay   \n",
       "\n",
       "            rtable_author rtable_rating rtable_format  \n",
       "0  Hendrickson Publishers           4.4     Hardcover  \n",
       "1       Mary Alice Monroe           4.3     Paperback  \n",
       "2             Bill Bryson           4.6     Paperback  \n",
       "3               Dr. Seuss           4.8     Hardcover  \n",
       "4            J.K. Rowling           4.6     Hardcover  "
      ]
     },
     "execution_count": 154,
     "metadata": {},
     "output_type": "execute_result"
    }
   ],
   "source": [
    "# Display first few tuple pairs from the debug_blocker's output\n",
    "dbg.head()"
   ]
  },
  {
   "cell_type": "markdown",
   "metadata": {},
   "source": [
    "From the debug blocker's output we observe that the current blocker drops few potential matches. We would want to update the blocking sequence to avoid dropping these potential matches.\n",
    "The potential matches are the ones where the book title length is less than 3 words. Hence, we could use block box blocker to create a rule to avoid blocking these tuple pairs. After comparing the length of the book titles, we used jacard measure on the attribute 'author'."
   ]
  },
  {
   "cell_type": "code",
   "execution_count": 155,
   "metadata": {},
   "outputs": [],
   "source": [
    "# Getting q-gram and jacard from the library\n",
    "qgm_3 = em.get_tokenizers_for_blocking()['qgm_3']\n",
    "jaccard = em.get_sim_funs_for_blocking()['jaccard']"
   ]
  },
  {
   "cell_type": "code",
   "execution_count": 156,
   "metadata": {},
   "outputs": [],
   "source": [
    "# Defining the black box blocker rule\n",
    "def bbRule(ltuple, rtuple):\n",
    "    l_title = ltuple['title'].split()\n",
    "    r_title = rtuple['title'].split()\n",
    "    if len(l_title) < 3 and (len(r_title) == len(l_title)):\n",
    "        for i in range(len(l_title)):\n",
    "            if (l_title[i] != r_title[i]):\n",
    "                return True\n",
    "            if (jaccard(qgm_3(ltuple['author']), qgm_3(rtuple['author'])) < 0.5):\n",
    "                return True\n",
    "        return False\n",
    "    else:\n",
    "        return True\n",
    "\n",
    "bb = em.BlackBoxBlocker()\n",
    "# Setting the rule in black box blocker\n",
    "bb.set_black_box_function(bbRule)"
   ]
  },
  {
   "cell_type": "code",
   "execution_count": 157,
   "metadata": {},
   "outputs": [
    {
     "name": "stderr",
     "output_type": "stream",
     "text": [
      "0% [##############################] 100% | ETA: 00:00:00\n",
      "Total time elapsed: 00:02:41\n"
     ]
    }
   ],
   "source": [
    "D = bb.block_tables(A, B, l_output_attrs=['title','author'], r_output_attrs=['title','author'])"
   ]
  },
  {
   "cell_type": "code",
   "execution_count": 158,
   "metadata": {},
   "outputs": [
    {
     "data": {
      "text/plain": [
       "17"
      ]
     },
     "execution_count": 158,
     "metadata": {},
     "output_type": "execute_result"
    }
   ],
   "source": [
    "len(D)"
   ]
  },
  {
   "cell_type": "code",
   "execution_count": 159,
   "metadata": {},
   "outputs": [
    {
     "data": {
      "text/html": [
       "<div>\n",
       "<style scoped>\n",
       "    .dataframe tbody tr th:only-of-type {\n",
       "        vertical-align: middle;\n",
       "    }\n",
       "\n",
       "    .dataframe tbody tr th {\n",
       "        vertical-align: top;\n",
       "    }\n",
       "\n",
       "    .dataframe thead th {\n",
       "        text-align: right;\n",
       "    }\n",
       "</style>\n",
       "<table border=\"1\" class=\"dataframe\">\n",
       "  <thead>\n",
       "    <tr style=\"text-align: right;\">\n",
       "      <th></th>\n",
       "      <th>_id</th>\n",
       "      <th>ltable_ID</th>\n",
       "      <th>rtable_ID</th>\n",
       "      <th>ltable_title</th>\n",
       "      <th>ltable_author</th>\n",
       "      <th>rtable_title</th>\n",
       "      <th>rtable_author</th>\n",
       "    </tr>\n",
       "  </thead>\n",
       "  <tbody>\n",
       "    <tr>\n",
       "      <th>0</th>\n",
       "      <td>0</td>\n",
       "      <td>a10</td>\n",
       "      <td>b2979</td>\n",
       "      <td>Jane Eyre</td>\n",
       "      <td>Charlotte Brontë</td>\n",
       "      <td>Jane Eyre</td>\n",
       "      <td>Charlotte Bronte</td>\n",
       "    </tr>\n",
       "    <tr>\n",
       "      <th>1</th>\n",
       "      <td>1</td>\n",
       "      <td>a28</td>\n",
       "      <td>b2987</td>\n",
       "      <td>Wuthering Heights</td>\n",
       "      <td>Emily Brontë</td>\n",
       "      <td>Wuthering Heights</td>\n",
       "      <td>Emily Bronte</td>\n",
       "    </tr>\n",
       "  </tbody>\n",
       "</table>\n",
       "</div>"
      ],
      "text/plain": [
       "   _id ltable_ID rtable_ID       ltable_title     ltable_author  \\\n",
       "0    0       a10     b2979          Jane Eyre  Charlotte Brontë   \n",
       "1    1       a28     b2987  Wuthering Heights      Emily Brontë   \n",
       "\n",
       "        rtable_title     rtable_author  \n",
       "0          Jane Eyre  Charlotte Bronte  \n",
       "1  Wuthering Heights      Emily Bronte  "
      ]
     },
     "execution_count": 159,
     "metadata": {},
     "output_type": "execute_result"
    }
   ],
   "source": [
    "D.head(2)"
   ]
  },
  {
   "cell_type": "code",
   "execution_count": 160,
   "metadata": {},
   "outputs": [],
   "source": [
    "# Combine blocker outputs\n",
    "C = em.combine_blocker_outputs_via_union([C2, D])"
   ]
  },
  {
   "cell_type": "code",
   "execution_count": 161,
   "metadata": {},
   "outputs": [
    {
     "data": {
      "text/plain": [
       "565"
      ]
     },
     "execution_count": 161,
     "metadata": {},
     "output_type": "execute_result"
    }
   ],
   "source": [
    "len(C)"
   ]
  },
  {
   "cell_type": "markdown",
   "metadata": {},
   "source": [
    "We observe that the current blocker sequence does not drop obvious potential matches, and we can proceed with the matching step now. A subtle point to note here is, debugging blocker output practically provides a stopping criteria for modifying the blocker sequence."
   ]
  },
  {
   "cell_type": "markdown",
   "metadata": {},
   "source": [
    "## Train a classifier using labeled data\n",
    "Once we have the labeled data, we use `deepmatcher` to train a classifier. The first thing we need to do is to split the data for training purpose. In this example, we split the labeled data into three parts: training, validation and test data, with the ratio of 3:1:1. (For now we only support spliting the labeled data into three parts train/valid/test, where the validation set is used for selecting the best model during the training epochs.) For the purpose of caching data and progressive training, we will first save the split parts to disk in the format of csv files, then load them back in. The cache file will be saved during the loading procedure. For subsequent training runs, the cache file will be used to save preprocessing time on the raw csv files, unless the csv files are modified (in this case, new cache file will be generated)."
   ]
  },
  {
   "cell_type": "markdown",
   "metadata": {},
   "source": [
    "As the number of tuple pairs after blocking are only 565, we can skip sampling the candidate set. Also we have manually labeled the tuple pairs which have survived blocking."
   ]
  },
  {
   "cell_type": "code",
   "execution_count": 162,
   "metadata": {},
   "outputs": [
    {
     "name": "stderr",
     "output_type": "stream",
     "text": [
      "WARNING:py_entitymatching.io.parsers:Metadata file is not present in the given path; proceeding to read the csv file.\n"
     ]
    },
    {
     "data": {
      "text/plain": [
       "565"
      ]
     },
     "execution_count": 162,
     "metadata": {},
     "output_type": "execute_result"
    }
   ],
   "source": [
    "#Loading manually labeled data\n",
    "G = em.read_csv_metadata(\"../DATA/Labelled Set G.csv\", key=\"_id\", fk_ltable=\"ltable_ID\", fk_rtable=\"rtable_ID\", ltable=A, rtable=B)\n",
    "len(G)"
   ]
  },
  {
   "cell_type": "code",
   "execution_count": 163,
   "metadata": {},
   "outputs": [
    {
     "data": {
      "text/html": [
       "<div>\n",
       "<style scoped>\n",
       "    .dataframe tbody tr th:only-of-type {\n",
       "        vertical-align: middle;\n",
       "    }\n",
       "\n",
       "    .dataframe tbody tr th {\n",
       "        vertical-align: top;\n",
       "    }\n",
       "\n",
       "    .dataframe thead th {\n",
       "        text-align: right;\n",
       "    }\n",
       "</style>\n",
       "<table border=\"1\" class=\"dataframe\">\n",
       "  <thead>\n",
       "    <tr style=\"text-align: right;\">\n",
       "      <th></th>\n",
       "      <th>Unnamed: 0</th>\n",
       "      <th>_id</th>\n",
       "      <th>ltable_ID</th>\n",
       "      <th>rtable_ID</th>\n",
       "      <th>ltable_title</th>\n",
       "      <th>ltable_author</th>\n",
       "      <th>rtable_title</th>\n",
       "      <th>rtable_author</th>\n",
       "      <th>label</th>\n",
       "    </tr>\n",
       "  </thead>\n",
       "  <tbody>\n",
       "    <tr>\n",
       "      <th>0</th>\n",
       "      <td>0</td>\n",
       "      <td>0</td>\n",
       "      <td>a1</td>\n",
       "      <td>b1421</td>\n",
       "      <td>To Kill a Mockingbird</td>\n",
       "      <td>Harper Lee</td>\n",
       "      <td>To Kill a Mockingbird</td>\n",
       "      <td>Harper Lee</td>\n",
       "      <td>1</td>\n",
       "    </tr>\n",
       "    <tr>\n",
       "      <th>1</th>\n",
       "      <td>1</td>\n",
       "      <td>1</td>\n",
       "      <td>a10</td>\n",
       "      <td>b2979</td>\n",
       "      <td>Jane Eyre</td>\n",
       "      <td>Charlotte Brontë</td>\n",
       "      <td>Jane Eyre</td>\n",
       "      <td>Charlotte Bronte</td>\n",
       "      <td>1</td>\n",
       "    </tr>\n",
       "    <tr>\n",
       "      <th>2</th>\n",
       "      <td>2</td>\n",
       "      <td>2</td>\n",
       "      <td>a1003</td>\n",
       "      <td>b1012</td>\n",
       "      <td>Mrs. Frisby and the Rats of NIMH (Rats of NIMH #1)</td>\n",
       "      <td>Robert C. O'Brien</td>\n",
       "      <td>The Million Dollar Decision: Get Out of the Rigged Game of Investing and Add a Million to Your N...</td>\n",
       "      <td>Robert Rolih</td>\n",
       "      <td>0</td>\n",
       "    </tr>\n",
       "    <tr>\n",
       "      <th>3</th>\n",
       "      <td>3</td>\n",
       "      <td>3</td>\n",
       "      <td>a1003</td>\n",
       "      <td>b1932</td>\n",
       "      <td>Mrs. Frisby and the Rats of NIMH (Rats of NIMH #1)</td>\n",
       "      <td>Robert C. O'Brien</td>\n",
       "      <td>The 21 Irrefutable Laws of Leadership: Follow Them and People Will Follow You (10th Anniversary ...</td>\n",
       "      <td>John C. Maxwell and</td>\n",
       "      <td>0</td>\n",
       "    </tr>\n",
       "    <tr>\n",
       "      <th>4</th>\n",
       "      <td>4</td>\n",
       "      <td>4</td>\n",
       "      <td>a1003</td>\n",
       "      <td>b2980</td>\n",
       "      <td>Mrs. Frisby and the Rats of NIMH (Rats of NIMH #1)</td>\n",
       "      <td>Robert C. O'Brien</td>\n",
       "      <td>The Lion, the Witch and the Wardrobe (The Chronicles of Narnia)</td>\n",
       "      <td>C. S. Lewis</td>\n",
       "      <td>0</td>\n",
       "    </tr>\n",
       "  </tbody>\n",
       "</table>\n",
       "</div>"
      ],
      "text/plain": [
       "   Unnamed: 0  _id ltable_ID rtable_ID  \\\n",
       "0           0    0        a1     b1421   \n",
       "1           1    1       a10     b2979   \n",
       "2           2    2     a1003     b1012   \n",
       "3           3    3     a1003     b1932   \n",
       "4           4    4     a1003     b2980   \n",
       "\n",
       "                                         ltable_title      ltable_author  \\\n",
       "0                               To Kill a Mockingbird         Harper Lee   \n",
       "1                                           Jane Eyre   Charlotte Brontë   \n",
       "2  Mrs. Frisby and the Rats of NIMH (Rats of NIMH #1)  Robert C. O'Brien   \n",
       "3  Mrs. Frisby and the Rats of NIMH (Rats of NIMH #1)  Robert C. O'Brien   \n",
       "4  Mrs. Frisby and the Rats of NIMH (Rats of NIMH #1)  Robert C. O'Brien   \n",
       "\n",
       "                                                                                          rtable_title  \\\n",
       "0                                                                                To Kill a Mockingbird   \n",
       "1                                                                                            Jane Eyre   \n",
       "2  The Million Dollar Decision: Get Out of the Rigged Game of Investing and Add a Million to Your N...   \n",
       "3  The 21 Irrefutable Laws of Leadership: Follow Them and People Will Follow You (10th Anniversary ...   \n",
       "4                                      The Lion, the Witch and the Wardrobe (The Chronicles of Narnia)   \n",
       "\n",
       "          rtable_author  label  \n",
       "0            Harper Lee      1  \n",
       "1      Charlotte Bronte      1  \n",
       "2          Robert Rolih      0  \n",
       "3  John C. Maxwell and       0  \n",
       "4           C. S. Lewis      0  "
      ]
     },
     "execution_count": 163,
     "metadata": {},
     "output_type": "execute_result"
    }
   ],
   "source": [
    "G.head()"
   ]
  },
  {
   "cell_type": "code",
   "execution_count": 164,
   "metadata": {},
   "outputs": [],
   "source": [
    "G = G.drop(columns=['Unnamed: 0'])"
   ]
  },
  {
   "cell_type": "code",
   "execution_count": 165,
   "metadata": {},
   "outputs": [],
   "source": [
    "# The directory where the data splits will be saved.\n",
    "split_path = os.path.join('.', '..', 'DATA')"
   ]
  },
  {
   "cell_type": "code",
   "execution_count": 166,
   "metadata": {},
   "outputs": [],
   "source": [
    "# Split labeled data into train, valid, and test csv files to disk, with the split ratio of 3:1:1.\n",
    "dm.data.split(G, split_path, 'train.csv', 'valid.csv', 'test.csv',\n",
    "              [3, 1, 1])"
   ]
  },
  {
   "cell_type": "markdown",
   "metadata": {},
   "source": [
    "## Selecting the best learning-based matcher\n",
    "\n",
    "Selecting the best learning-based matcher involves training the models for 4 different algorithms:\n",
    "\n",
    "    SIF\n",
    "    Hybrid\n",
    "    RNN\n",
    "    Attention"
   ]
  },
  {
   "cell_type": "code",
   "execution_count": 167,
   "metadata": {},
   "outputs": [
    {
     "name": "stdout",
     "output_type": "stream",
     "text": [
      "Rebuilding data cache because: {'One or more data files have been modified.'}\n",
      "Load time: 0.444913548999466\n",
      "Vocab time: 0.07991927705006674\n",
      "Metadata time: 0.19269640097627416\n",
      "Cache time: 0.22147205099463463\n"
     ]
    }
   ],
   "source": [
    "# Load the training data files from the disk. Ignore the \"left_id\" and \"right_id\" \n",
    "# columns for data preprocessing.\n",
    "train, validation, test = dm.data.process(\n",
    "    path=os.path.join('.', '..', 'DATA'),\n",
    "    cache='train_cache.pth',\n",
    "    train='train.csv',\n",
    "    validation='valid.csv',\n",
    "    test='test.csv',\n",
    "    left_prefix='ltable_',\n",
    "    right_prefix='rtable_',\n",
    "    id_attr='_id',\n",
    "    ignore_columns=('ltable_id', 'rtable_id'))"
   ]
  },
  {
   "cell_type": "markdown",
   "metadata": {},
   "source": [
    "## Hybrid model train and test"
   ]
  },
  {
   "cell_type": "code",
   "execution_count": 168,
   "metadata": {},
   "outputs": [],
   "source": [
    "# Create a hybrid model.\n",
    "model = dm.MatchingModel(attr_summarizer='hybrid')"
   ]
  },
  {
   "cell_type": "code",
   "execution_count": 169,
   "metadata": {},
   "outputs": [
    {
     "name": "stdout",
     "output_type": "stream",
     "text": [
      "* Number of trainable parameters: 7133105\n",
      "===>  TRAIN Epoch 1 :\n"
     ]
    },
    {
     "name": "stderr",
     "output_type": "stream",
     "text": [
      "0% [████] 100% | ETA: 00:00:00\n",
      "Total time elapsed: 00:00:09\n"
     ]
    },
    {
     "name": "stdout",
     "output_type": "stream",
     "text": [
      "Finished Epoch 1 || Run Time:   10.9 | Load Time:    0.0 || F1:  70.12 | Prec:  57.03 | Rec:  91.03 || Ex/s:  31.05\n",
      "\n",
      "===>  EVAL Epoch 1 :\n"
     ]
    },
    {
     "name": "stderr",
     "output_type": "stream",
     "text": [
      "0% [█] 100% | ETA: 00:00:00\n",
      "Total time elapsed: 00:00:00\n"
     ]
    },
    {
     "name": "stdout",
     "output_type": "stream",
     "text": [
      "Finished Epoch 1 || Run Time:    1.3 | Load Time:    0.0 || F1:  81.82 | Prec:  84.91 | Rec:  78.95 || Ex/s:  86.30\n",
      "\n",
      "* Best F1: 81.81818181818181\n",
      "Saving best model...\n",
      "===>  TRAIN Epoch 2 :\n"
     ]
    },
    {
     "name": "stderr",
     "output_type": "stream",
     "text": [
      "0% [████] 100% | ETA: 00:00:00\n",
      "Total time elapsed: 00:00:11\n"
     ]
    },
    {
     "name": "stdout",
     "output_type": "stream",
     "text": [
      "Finished Epoch 2 || Run Time:   13.5 | Load Time:    0.0 || F1:  85.63 | Prec:  80.34 | Rec:  91.67 || Ex/s:  25.02\n",
      "\n",
      "===>  EVAL Epoch 2 :\n"
     ]
    },
    {
     "name": "stderr",
     "output_type": "stream",
     "text": [
      "0% [█] 100% | ETA: 00:00:00\n",
      "Total time elapsed: 00:00:00\n"
     ]
    },
    {
     "name": "stdout",
     "output_type": "stream",
     "text": [
      "Finished Epoch 2 || Run Time:    1.2 | Load Time:    0.0 || F1:  86.96 | Prec:  86.21 | Rec:  87.72 || Ex/s:  90.87\n",
      "\n",
      "* Best F1: 86.95652173913044\n",
      "Saving best model...\n",
      "===>  TRAIN Epoch 3 :\n"
     ]
    },
    {
     "name": "stderr",
     "output_type": "stream",
     "text": [
      "0% [████] 100% | ETA: 00:00:00\n",
      "Total time elapsed: 00:00:10\n"
     ]
    },
    {
     "name": "stdout",
     "output_type": "stream",
     "text": [
      "Finished Epoch 3 || Run Time:   11.4 | Load Time:    0.0 || F1:  88.62 | Prec:  83.15 | Rec:  94.87 || Ex/s:  29.66\n",
      "\n",
      "===>  EVAL Epoch 3 :\n"
     ]
    },
    {
     "name": "stderr",
     "output_type": "stream",
     "text": [
      "0% [█] 100% | ETA: 00:00:00\n",
      "Total time elapsed: 00:00:00\n"
     ]
    },
    {
     "name": "stdout",
     "output_type": "stream",
     "text": [
      "Finished Epoch 3 || Run Time:    0.9 | Load Time:    0.0 || F1:  83.64 | Prec:  86.79 | Rec:  80.70 || Ex/s: 118.20\n",
      "\n",
      "===>  TRAIN Epoch 4 :\n"
     ]
    },
    {
     "name": "stderr",
     "output_type": "stream",
     "text": [
      "0% [████] 100% | ETA: 00:00:00\n",
      "Total time elapsed: 00:00:09\n"
     ]
    },
    {
     "name": "stdout",
     "output_type": "stream",
     "text": [
      "Finished Epoch 4 || Run Time:   10.7 | Load Time:    0.0 || F1:  90.15 | Prec:  84.36 | Rec:  96.79 || Ex/s:  31.70\n",
      "\n",
      "===>  EVAL Epoch 4 :\n"
     ]
    },
    {
     "name": "stderr",
     "output_type": "stream",
     "text": [
      "0% [█] 100% | ETA: 00:00:00\n",
      "Total time elapsed: 00:00:00\n"
     ]
    },
    {
     "name": "stdout",
     "output_type": "stream",
     "text": [
      "Finished Epoch 4 || Run Time:    0.9 | Load Time:    0.0 || F1:  84.68 | Prec:  87.04 | Rec:  82.46 || Ex/s: 118.87\n",
      "\n",
      "===>  TRAIN Epoch 5 :\n"
     ]
    },
    {
     "name": "stderr",
     "output_type": "stream",
     "text": [
      "0% [████] 100% | ETA: 00:00:00\n",
      "Total time elapsed: 00:00:09\n"
     ]
    },
    {
     "name": "stdout",
     "output_type": "stream",
     "text": [
      "Finished Epoch 5 || Run Time:   10.7 | Load Time:    0.0 || F1:  90.69 | Prec:  85.31 | Rec:  96.79 || Ex/s:  31.63\n",
      "\n",
      "===>  EVAL Epoch 5 :\n"
     ]
    },
    {
     "name": "stderr",
     "output_type": "stream",
     "text": [
      "0% [█] 100% | ETA: 00:00:00\n",
      "Total time elapsed: 00:00:00\n"
     ]
    },
    {
     "name": "stdout",
     "output_type": "stream",
     "text": [
      "Finished Epoch 5 || Run Time:    0.9 | Load Time:    0.0 || F1:  85.96 | Prec:  85.96 | Rec:  85.96 || Ex/s: 119.00\n",
      "\n",
      "===>  TRAIN Epoch 6 :\n"
     ]
    },
    {
     "name": "stderr",
     "output_type": "stream",
     "text": [
      "0% [████] 100% | ETA: 00:00:00\n",
      "Total time elapsed: 00:00:09\n"
     ]
    },
    {
     "name": "stdout",
     "output_type": "stream",
     "text": [
      "Finished Epoch 6 || Run Time:   11.0 | Load Time:    0.0 || F1:  92.40 | Prec:  87.86 | Rec:  97.44 || Ex/s:  30.66\n",
      "\n",
      "===>  EVAL Epoch 6 :\n"
     ]
    },
    {
     "name": "stderr",
     "output_type": "stream",
     "text": [
      "0% [█] 100% | ETA: 00:00:00\n",
      "Total time elapsed: 00:00:00\n"
     ]
    },
    {
     "name": "stdout",
     "output_type": "stream",
     "text": [
      "Finished Epoch 6 || Run Time:    0.9 | Load Time:    0.0 || F1:  88.33 | Prec:  84.13 | Rec:  92.98 || Ex/s: 118.86\n",
      "\n",
      "* Best F1: 88.33333333333333\n",
      "Saving best model...\n",
      "===>  TRAIN Epoch 7 :\n"
     ]
    },
    {
     "name": "stderr",
     "output_type": "stream",
     "text": [
      "0% [████] 100% | ETA: 00:00:00\n",
      "Total time elapsed: 00:00:09\n"
     ]
    },
    {
     "name": "stdout",
     "output_type": "stream",
     "text": [
      "Finished Epoch 7 || Run Time:   10.8 | Load Time:    0.0 || F1:  94.19 | Prec:  90.06 | Rec:  98.72 || Ex/s:  31.29\n",
      "\n",
      "===>  EVAL Epoch 7 :\n"
     ]
    },
    {
     "name": "stderr",
     "output_type": "stream",
     "text": [
      "0% [█] 100% | ETA: 00:00:00\n",
      "Total time elapsed: 00:00:00\n"
     ]
    },
    {
     "name": "stdout",
     "output_type": "stream",
     "text": [
      "Finished Epoch 7 || Run Time:    0.9 | Load Time:    0.0 || F1:  85.04 | Prec:  77.14 | Rec:  94.74 || Ex/s: 117.42\n",
      "\n",
      "===>  TRAIN Epoch 8 :\n"
     ]
    },
    {
     "name": "stderr",
     "output_type": "stream",
     "text": [
      "0% [████] 100% | ETA: 00:00:00\n",
      "Total time elapsed: 00:00:09\n"
     ]
    },
    {
     "name": "stdout",
     "output_type": "stream",
     "text": [
      "Finished Epoch 8 || Run Time:   10.9 | Load Time:    0.0 || F1:  94.41 | Prec:  91.57 | Rec:  97.44 || Ex/s:  31.09\n",
      "\n",
      "===>  EVAL Epoch 8 :\n"
     ]
    },
    {
     "name": "stderr",
     "output_type": "stream",
     "text": [
      "0% [█] 100% | ETA: 00:00:00\n",
      "Total time elapsed: 00:00:00\n"
     ]
    },
    {
     "name": "stdout",
     "output_type": "stream",
     "text": [
      "Finished Epoch 8 || Run Time:    0.9 | Load Time:    0.0 || F1:  83.46 | Prec:  75.71 | Rec:  92.98 || Ex/s: 118.00\n",
      "\n",
      "===>  TRAIN Epoch 9 :\n"
     ]
    },
    {
     "name": "stderr",
     "output_type": "stream",
     "text": [
      "0% [████] 100% | ETA: 00:00:00\n",
      "Total time elapsed: 00:00:09\n"
     ]
    },
    {
     "name": "stdout",
     "output_type": "stream",
     "text": [
      "Finished Epoch 9 || Run Time:   10.7 | Load Time:    0.0 || F1:  93.62 | Prec:  89.02 | Rec:  98.72 || Ex/s:  31.56\n",
      "\n",
      "===>  EVAL Epoch 9 :\n"
     ]
    },
    {
     "name": "stderr",
     "output_type": "stream",
     "text": [
      "0% [█] 100% | ETA: 00:00:00\n",
      "Total time elapsed: 00:00:00\n"
     ]
    },
    {
     "name": "stdout",
     "output_type": "stream",
     "text": [
      "Finished Epoch 9 || Run Time:    1.0 | Load Time:    0.0 || F1:  84.48 | Prec:  83.05 | Rec:  85.96 || Ex/s: 116.40\n",
      "\n",
      "===>  TRAIN Epoch 10 :\n"
     ]
    },
    {
     "name": "stderr",
     "output_type": "stream",
     "text": [
      "0% [████] 100% | ETA: 00:00:00\n",
      "Total time elapsed: 00:00:09\n"
     ]
    },
    {
     "name": "stdout",
     "output_type": "stream",
     "text": [
      "Finished Epoch 10 || Run Time:   10.7 | Load Time:    0.0 || F1:  95.71 | Prec:  91.76 | Rec: 100.00 || Ex/s:  31.66\n",
      "\n",
      "===>  EVAL Epoch 10 :\n"
     ]
    },
    {
     "name": "stderr",
     "output_type": "stream",
     "text": [
      "0% [█] 100% | ETA: 00:00:00\n",
      "Total time elapsed: 00:00:00\n"
     ]
    },
    {
     "name": "stdout",
     "output_type": "stream",
     "text": [
      "Finished Epoch 10 || Run Time:    0.9 | Load Time:    0.0 || F1:  84.75 | Prec:  81.97 | Rec:  87.72 || Ex/s: 118.58\n",
      "\n",
      "Loading best model...\n"
     ]
    }
   ],
   "source": [
    "# Train the hybrid model with 10 training epochs, batch size of 16, positive-to-negative \n",
    "# ratio to be 3. We save the best model (with the \n",
    "# highest F1 score on the validation set) to 'hybrid_model.pth'.\n",
    "model.run_train(\n",
    "    train,\n",
    "    validation,\n",
    "    epochs=10,\n",
    "    batch_size=16,\n",
    "    best_save_path='hybrid_model.pth',\n",
    "    pos_neg_ratio=3)"
   ]
  },
  {
   "cell_type": "code",
   "execution_count": 170,
   "metadata": {},
   "outputs": [
    {
     "name": "stdout",
     "output_type": "stream",
     "text": [
      "===>  EVAL Epoch 6 :\n",
      "Finished Epoch 6 || Run Time:    0.8 | Load Time:    0.0 || F1:  88.70 | Prec:  87.93 | Rec:  89.47 || Ex/s: 132.05\n",
      "\n"
     ]
    },
    {
     "data": {
      "text/plain": [
       "88.69565217391303"
      ]
     },
     "execution_count": 170,
     "metadata": {},
     "output_type": "execute_result"
    }
   ],
   "source": [
    "# Evaluate the accuracy on the test data.\n",
    "model.run_eval(test)"
   ]
  },
  {
   "cell_type": "markdown",
   "metadata": {},
   "source": [
    "## SIF model train and test"
   ]
  },
  {
   "cell_type": "code",
   "execution_count": 171,
   "metadata": {},
   "outputs": [],
   "source": [
    "# Create a hybrid model.\n",
    "model_sif = dm.MatchingModel(attr_summarizer='sif')"
   ]
  },
  {
   "cell_type": "code",
   "execution_count": 172,
   "metadata": {},
   "outputs": [
    {
     "name": "stdout",
     "output_type": "stream",
     "text": [
      "* Number of trainable parameters: 542402\n",
      "===>  TRAIN Epoch 1 :\n"
     ]
    },
    {
     "name": "stderr",
     "output_type": "stream",
     "text": [
      "0% [████] 100% | ETA: 00:00:00\n",
      "Total time elapsed: 00:00:00\n"
     ]
    },
    {
     "name": "stdout",
     "output_type": "stream",
     "text": [
      "Finished Epoch 1 || Run Time:    0.2 | Load Time:    0.0 || F1:  64.00 | Prec:  47.65 | Rec:  97.44 || Ex/s: 1238.62\n",
      "\n",
      "===>  EVAL Epoch 1 :\n"
     ]
    },
    {
     "name": "stderr",
     "output_type": "stream",
     "text": [
      "0% [█] 100% | ETA: 00:00:00\n",
      "Total time elapsed: 00:00:00\n"
     ]
    },
    {
     "name": "stdout",
     "output_type": "stream",
     "text": [
      "Finished Epoch 1 || Run Time:    0.0 | Load Time:    0.0 || F1:  67.06 | Prec:  50.44 | Rec: 100.00 || Ex/s: 2301.19\n",
      "\n",
      "* Best F1: 67.05882352941177\n",
      "Saving best model...\n",
      "===>  TRAIN Epoch 2 :\n"
     ]
    },
    {
     "name": "stderr",
     "output_type": "stream",
     "text": [
      "0% [████] 100% | ETA: 00:00:00\n",
      "Total time elapsed: 00:00:00\n"
     ]
    },
    {
     "name": "stdout",
     "output_type": "stream",
     "text": [
      "Finished Epoch 2 || Run Time:    0.2 | Load Time:    0.0 || F1:  64.73 | Prec:  47.85 | Rec: 100.00 || Ex/s: 1253.28\n",
      "\n",
      "===>  EVAL Epoch 2 :\n"
     ]
    },
    {
     "name": "stderr",
     "output_type": "stream",
     "text": [
      "0% [█] 100% | ETA: 00:00:00\n",
      "Total time elapsed: 00:00:00\n"
     ]
    },
    {
     "name": "stdout",
     "output_type": "stream",
     "text": [
      "Finished Epoch 2 || Run Time:    0.0 | Load Time:    0.0 || F1:  70.81 | Prec:  54.81 | Rec: 100.00 || Ex/s: 2449.75\n",
      "\n",
      "* Best F1: 70.80745341614906\n",
      "Saving best model...\n",
      "===>  TRAIN Epoch 3 :\n"
     ]
    },
    {
     "name": "stderr",
     "output_type": "stream",
     "text": [
      "0% [████] 100% | ETA: 00:00:00\n",
      "Total time elapsed: 00:00:00\n"
     ]
    },
    {
     "name": "stdout",
     "output_type": "stream",
     "text": [
      "Finished Epoch 3 || Run Time:    0.2 | Load Time:    0.0 || F1:  77.61 | Prec:  63.41 | Rec: 100.00 || Ex/s: 1259.02\n",
      "\n",
      "===>  EVAL Epoch 3 :\n"
     ]
    },
    {
     "name": "stderr",
     "output_type": "stream",
     "text": [
      "0% [█] 100% | ETA: 00:00:00\n",
      "Total time elapsed: 00:00:00\n"
     ]
    },
    {
     "name": "stdout",
     "output_type": "stream",
     "text": [
      "Finished Epoch 3 || Run Time:    0.0 | Load Time:    0.0 || F1:  73.33 | Prec:  59.14 | Rec:  96.49 || Ex/s: 2337.32\n",
      "\n",
      "* Best F1: 73.33333333333333\n",
      "Saving best model...\n",
      "===>  TRAIN Epoch 4 :\n"
     ]
    },
    {
     "name": "stderr",
     "output_type": "stream",
     "text": [
      "0% [████] 100% | ETA: 00:00:00\n",
      "Total time elapsed: 00:00:00\n"
     ]
    },
    {
     "name": "stdout",
     "output_type": "stream",
     "text": [
      "Finished Epoch 4 || Run Time:    0.2 | Load Time:    0.0 || F1:  84.24 | Prec:  73.11 | Rec:  99.36 || Ex/s: 1261.69\n",
      "\n",
      "===>  EVAL Epoch 4 :\n"
     ]
    },
    {
     "name": "stderr",
     "output_type": "stream",
     "text": [
      "0% [█] 100% | ETA: 00:00:00\n",
      "Total time elapsed: 00:00:00\n"
     ]
    },
    {
     "name": "stdout",
     "output_type": "stream",
     "text": [
      "Finished Epoch 4 || Run Time:    0.0 | Load Time:    0.0 || F1:  76.26 | Prec:  64.63 | Rec:  92.98 || Ex/s: 2288.56\n",
      "\n",
      "* Best F1: 76.2589928057554\n",
      "Saving best model...\n",
      "===>  TRAIN Epoch 5 :\n"
     ]
    },
    {
     "name": "stderr",
     "output_type": "stream",
     "text": [
      "0% [████] 100% | ETA: 00:00:00\n",
      "Total time elapsed: 00:00:00\n"
     ]
    },
    {
     "name": "stdout",
     "output_type": "stream",
     "text": [
      "Finished Epoch 5 || Run Time:    0.2 | Load Time:    0.0 || F1:  86.91 | Prec:  76.85 | Rec: 100.00 || Ex/s: 1252.78\n",
      "\n",
      "===>  EVAL Epoch 5 :\n"
     ]
    },
    {
     "name": "stderr",
     "output_type": "stream",
     "text": [
      "0% [█] 100% | ETA: 00:00:00\n",
      "Total time elapsed: 00:00:00\n"
     ]
    },
    {
     "name": "stdout",
     "output_type": "stream",
     "text": [
      "Finished Epoch 5 || Run Time:    0.0 | Load Time:    0.0 || F1:  77.94 | Prec:  67.09 | Rec:  92.98 || Ex/s: 2374.95\n",
      "\n",
      "* Best F1: 77.94117647058825\n",
      "Saving best model...\n",
      "===>  TRAIN Epoch 6 :\n"
     ]
    },
    {
     "name": "stderr",
     "output_type": "stream",
     "text": [
      "0% [████] 100% | ETA: 00:00:00\n",
      "Total time elapsed: 00:00:00\n"
     ]
    },
    {
     "name": "stdout",
     "output_type": "stream",
     "text": [
      "Finished Epoch 6 || Run Time:    0.2 | Load Time:    0.0 || F1:  88.64 | Prec:  79.59 | Rec: 100.00 || Ex/s: 1263.37\n",
      "\n",
      "===>  EVAL Epoch 6 :\n"
     ]
    },
    {
     "name": "stderr",
     "output_type": "stream",
     "text": [
      "0% [█] 100% | ETA: 00:00:00\n",
      "Total time elapsed: 00:00:00\n"
     ]
    },
    {
     "name": "stdout",
     "output_type": "stream",
     "text": [
      "Finished Epoch 6 || Run Time:    0.0 | Load Time:    0.0 || F1:  80.92 | Prec:  71.62 | Rec:  92.98 || Ex/s: 2314.76\n",
      "\n",
      "* Best F1: 80.91603053435114\n",
      "Saving best model...\n",
      "===>  TRAIN Epoch 7 :\n"
     ]
    },
    {
     "name": "stderr",
     "output_type": "stream",
     "text": [
      "0% [████] 100% | ETA: 00:00:00\n",
      "Total time elapsed: 00:00:00\n"
     ]
    },
    {
     "name": "stdout",
     "output_type": "stream",
     "text": [
      "Finished Epoch 7 || Run Time:    0.2 | Load Time:    0.0 || F1:  89.40 | Prec:  80.83 | Rec: 100.00 || Ex/s: 1228.48\n",
      "\n",
      "===>  EVAL Epoch 7 :\n"
     ]
    },
    {
     "name": "stderr",
     "output_type": "stream",
     "text": [
      "0% [█] 100% | ETA: 00:00:00\n",
      "Total time elapsed: 00:00:00\n"
     ]
    },
    {
     "name": "stdout",
     "output_type": "stream",
     "text": [
      "Finished Epoch 7 || Run Time:    0.0 | Load Time:    0.0 || F1:  80.00 | Prec:  71.23 | Rec:  91.23 || Ex/s: 2294.33\n",
      "\n",
      "===>  TRAIN Epoch 8 :\n"
     ]
    },
    {
     "name": "stderr",
     "output_type": "stream",
     "text": [
      "0% [████] 100% | ETA: 00:00:00\n",
      "Total time elapsed: 00:00:00\n"
     ]
    },
    {
     "name": "stdout",
     "output_type": "stream",
     "text": [
      "Finished Epoch 8 || Run Time:    0.2 | Load Time:    0.0 || F1:  90.43 | Prec:  82.54 | Rec: 100.00 || Ex/s: 1220.06\n",
      "\n",
      "===>  EVAL Epoch 8 :\n"
     ]
    },
    {
     "name": "stderr",
     "output_type": "stream",
     "text": [
      "0% [█] 100% | ETA: 00:00:00\n",
      "Total time elapsed: 00:00:00\n"
     ]
    },
    {
     "name": "stdout",
     "output_type": "stream",
     "text": [
      "Finished Epoch 8 || Run Time:    0.0 | Load Time:    0.0 || F1:  80.00 | Prec:  71.23 | Rec:  91.23 || Ex/s: 2229.02\n",
      "\n",
      "===>  TRAIN Epoch 9 :\n"
     ]
    },
    {
     "name": "stderr",
     "output_type": "stream",
     "text": [
      "0% [████] 100% | ETA: 00:00:00\n",
      "Total time elapsed: 00:00:00\n"
     ]
    },
    {
     "name": "stdout",
     "output_type": "stream",
     "text": [
      "Finished Epoch 9 || Run Time:    0.2 | Load Time:    0.0 || F1:  91.23 | Prec:  83.87 | Rec: 100.00 || Ex/s: 1268.60\n",
      "\n",
      "===>  EVAL Epoch 9 :\n"
     ]
    },
    {
     "name": "stderr",
     "output_type": "stream",
     "text": [
      "0% [█] 100% | ETA: 00:00:00\n",
      "Total time elapsed: 00:00:00\n"
     ]
    },
    {
     "name": "stdout",
     "output_type": "stream",
     "text": [
      "Finished Epoch 9 || Run Time:    0.0 | Load Time:    0.0 || F1:  80.62 | Prec:  72.22 | Rec:  91.23 || Ex/s: 2300.46\n",
      "\n",
      "===>  TRAIN Epoch 10 :\n"
     ]
    },
    {
     "name": "stderr",
     "output_type": "stream",
     "text": [
      "0% [████] 100% | ETA: 00:00:00\n",
      "Total time elapsed: 00:00:00\n"
     ]
    },
    {
     "name": "stdout",
     "output_type": "stream",
     "text": [
      "Finished Epoch 10 || Run Time:    0.2 | Load Time:    0.0 || F1:  92.04 | Prec:  85.25 | Rec: 100.00 || Ex/s: 1254.65\n",
      "\n",
      "===>  EVAL Epoch 10 :\n"
     ]
    },
    {
     "name": "stderr",
     "output_type": "stream",
     "text": [
      "0% [█] 100% | ETA: 00:00:00\n",
      "Total time elapsed: 00:00:00\n"
     ]
    },
    {
     "name": "stdout",
     "output_type": "stream",
     "text": [
      "Finished Epoch 10 || Run Time:    0.0 | Load Time:    0.0 || F1:  80.62 | Prec:  72.22 | Rec:  91.23 || Ex/s: 2341.79\n",
      "\n",
      "Loading best model...\n"
     ]
    }
   ],
   "source": [
    "# Train the hybrid model with 10 training epochs, batch size of 16, positive-to-negative \n",
    "# ratio to be 3. We save the best model (with the \n",
    "# highest F1 score on the validation set) to 'hybrid_model.pth'.\n",
    "model_sif.run_train(\n",
    "    train,\n",
    "    validation,\n",
    "    epochs=10,\n",
    "    batch_size=16,\n",
    "    best_save_path='sif_model.pth',\n",
    "    pos_neg_ratio=3)"
   ]
  },
  {
   "cell_type": "code",
   "execution_count": 173,
   "metadata": {},
   "outputs": [
    {
     "name": "stdout",
     "output_type": "stream",
     "text": [
      "===>  EVAL Epoch 6 :\n",
      "Finished Epoch 6 || Run Time:    0.0 | Load Time:    0.0 || F1:  82.96 | Prec:  71.79 | Rec:  98.25 || Ex/s: 2774.77\n",
      "\n"
     ]
    },
    {
     "data": {
      "text/plain": [
       "82.96296296296296"
      ]
     },
     "execution_count": 173,
     "metadata": {},
     "output_type": "execute_result"
    }
   ],
   "source": [
    "# Evaluate the accuracy on the test data.\n",
    "model_sif.run_eval(test)"
   ]
  },
  {
   "cell_type": "markdown",
   "metadata": {},
   "source": [
    "## RNN model train and test"
   ]
  },
  {
   "cell_type": "code",
   "execution_count": 174,
   "metadata": {},
   "outputs": [],
   "source": [
    "# Create a hybrid model.\n",
    "model_rnn = dm.MatchingModel(attr_summarizer='rnn')"
   ]
  },
  {
   "cell_type": "code",
   "execution_count": 175,
   "metadata": {},
   "outputs": [
    {
     "name": "stdout",
     "output_type": "stream",
     "text": [
      "* Number of trainable parameters: 1762802\n",
      "===>  TRAIN Epoch 1 :\n"
     ]
    },
    {
     "name": "stderr",
     "output_type": "stream",
     "text": [
      "0% [████] 100% | ETA: 00:00:00\n",
      "Total time elapsed: 00:00:02\n"
     ]
    },
    {
     "name": "stdout",
     "output_type": "stream",
     "text": [
      "Finished Epoch 1 || Run Time:    2.9 | Load Time:    0.0 || F1:  62.14 | Prec:  45.76 | Rec:  96.79 || Ex/s: 115.10\n",
      "\n",
      "===>  EVAL Epoch 1 :\n"
     ]
    },
    {
     "name": "stderr",
     "output_type": "stream",
     "text": [
      "0% [█] 100% | ETA: 00:00:00\n",
      "Total time elapsed: 00:00:00\n"
     ]
    },
    {
     "name": "stdout",
     "output_type": "stream",
     "text": [
      "Finished Epoch 1 || Run Time:    0.3 | Load Time:    0.0 || F1:  67.46 | Prec:  50.89 | Rec: 100.00 || Ex/s: 416.48\n",
      "\n",
      "* Best F1: 67.45562130177515\n",
      "Saving best model...\n",
      "===>  TRAIN Epoch 2 :\n"
     ]
    },
    {
     "name": "stderr",
     "output_type": "stream",
     "text": [
      "0% [████] 100% | ETA: 00:00:00\n",
      "Total time elapsed: 00:00:02\n"
     ]
    },
    {
     "name": "stdout",
     "output_type": "stream",
     "text": [
      "Finished Epoch 2 || Run Time:    2.9 | Load Time:    0.0 || F1:  71.19 | Prec:  56.09 | Rec:  97.44 || Ex/s: 115.84\n",
      "\n",
      "===>  EVAL Epoch 2 :\n"
     ]
    },
    {
     "name": "stderr",
     "output_type": "stream",
     "text": [
      "0% [█] 100% | ETA: 00:00:00\n",
      "Total time elapsed: 00:00:00\n"
     ]
    },
    {
     "name": "stdout",
     "output_type": "stream",
     "text": [
      "Finished Epoch 2 || Run Time:    0.3 | Load Time:    0.0 || F1:  77.14 | Prec:  65.06 | Rec:  94.74 || Ex/s: 413.86\n",
      "\n",
      "* Best F1: 77.14285714285715\n",
      "Saving best model...\n",
      "===>  TRAIN Epoch 3 :\n"
     ]
    },
    {
     "name": "stderr",
     "output_type": "stream",
     "text": [
      "0% [████] 100% | ETA: 00:00:00\n",
      "Total time elapsed: 00:00:02\n"
     ]
    },
    {
     "name": "stdout",
     "output_type": "stream",
     "text": [
      "Finished Epoch 3 || Run Time:    2.9 | Load Time:    0.0 || F1:  88.12 | Prec:  80.42 | Rec:  97.44 || Ex/s: 114.66\n",
      "\n",
      "===>  EVAL Epoch 3 :\n"
     ]
    },
    {
     "name": "stderr",
     "output_type": "stream",
     "text": [
      "0% [█] 100% | ETA: 00:00:00\n",
      "Total time elapsed: 00:00:00\n"
     ]
    },
    {
     "name": "stdout",
     "output_type": "stream",
     "text": [
      "Finished Epoch 3 || Run Time:    0.3 | Load Time:    0.0 || F1:  78.01 | Prec:  65.48 | Rec:  96.49 || Ex/s: 418.24\n",
      "\n",
      "* Best F1: 78.01418439716312\n",
      "Saving best model...\n",
      "===>  TRAIN Epoch 4 :\n"
     ]
    },
    {
     "name": "stderr",
     "output_type": "stream",
     "text": [
      "0% [████] 100% | ETA: 00:00:00\n",
      "Total time elapsed: 00:00:02\n"
     ]
    },
    {
     "name": "stdout",
     "output_type": "stream",
     "text": [
      "Finished Epoch 4 || Run Time:    2.9 | Load Time:    0.0 || F1:  93.90 | Prec:  89.53 | Rec:  98.72 || Ex/s: 115.45\n",
      "\n",
      "===>  EVAL Epoch 4 :\n"
     ]
    },
    {
     "name": "stderr",
     "output_type": "stream",
     "text": [
      "0% [█] 100% | ETA: 00:00:00\n",
      "Total time elapsed: 00:00:00\n"
     ]
    },
    {
     "name": "stdout",
     "output_type": "stream",
     "text": [
      "Finished Epoch 4 || Run Time:    0.3 | Load Time:    0.0 || F1:  78.26 | Prec:  66.67 | Rec:  94.74 || Ex/s: 420.04\n",
      "\n",
      "* Best F1: 78.2608695652174\n",
      "Saving best model...\n",
      "===>  TRAIN Epoch 5 :\n"
     ]
    },
    {
     "name": "stderr",
     "output_type": "stream",
     "text": [
      "0% [████] 100% | ETA: 00:00:00\n",
      "Total time elapsed: 00:00:02\n"
     ]
    },
    {
     "name": "stdout",
     "output_type": "stream",
     "text": [
      "Finished Epoch 5 || Run Time:    2.9 | Load Time:    0.0 || F1:  97.20 | Prec:  94.55 | Rec: 100.00 || Ex/s: 115.86\n",
      "\n",
      "===>  EVAL Epoch 5 :\n"
     ]
    },
    {
     "name": "stderr",
     "output_type": "stream",
     "text": [
      "0% [█] 100% | ETA: 00:00:00\n",
      "Total time elapsed: 00:00:00\n"
     ]
    },
    {
     "name": "stdout",
     "output_type": "stream",
     "text": [
      "Finished Epoch 5 || Run Time:    0.3 | Load Time:    0.0 || F1:  80.92 | Prec:  71.62 | Rec:  92.98 || Ex/s: 413.02\n",
      "\n",
      "* Best F1: 80.91603053435114\n",
      "Saving best model...\n",
      "===>  TRAIN Epoch 6 :\n"
     ]
    },
    {
     "name": "stderr",
     "output_type": "stream",
     "text": [
      "0% [████] 100% | ETA: 00:00:00\n",
      "Total time elapsed: 00:00:02\n"
     ]
    },
    {
     "name": "stdout",
     "output_type": "stream",
     "text": [
      "Finished Epoch 6 || Run Time:    2.9 | Load Time:    0.0 || F1:  98.73 | Prec:  97.50 | Rec: 100.00 || Ex/s: 115.96\n",
      "\n",
      "===>  EVAL Epoch 6 :\n"
     ]
    },
    {
     "name": "stderr",
     "output_type": "stream",
     "text": [
      "0% [█] 100% | ETA: 00:00:00\n",
      "Total time elapsed: 00:00:00\n"
     ]
    },
    {
     "name": "stdout",
     "output_type": "stream",
     "text": [
      "Finished Epoch 6 || Run Time:    0.3 | Load Time:    0.0 || F1:  79.10 | Prec:  68.83 | Rec:  92.98 || Ex/s: 416.77\n",
      "\n",
      "===>  TRAIN Epoch 7 :\n"
     ]
    },
    {
     "name": "stderr",
     "output_type": "stream",
     "text": [
      "0% [████] 100% | ETA: 00:00:00\n",
      "Total time elapsed: 00:00:02\n"
     ]
    },
    {
     "name": "stdout",
     "output_type": "stream",
     "text": [
      "Finished Epoch 7 || Run Time:    2.9 | Load Time:    0.0 || F1: 100.00 | Prec: 100.00 | Rec: 100.00 || Ex/s: 116.05\n",
      "\n",
      "===>  EVAL Epoch 7 :\n"
     ]
    },
    {
     "name": "stderr",
     "output_type": "stream",
     "text": [
      "0% [█] 100% | ETA: 00:00:00\n",
      "Total time elapsed: 00:00:00\n"
     ]
    },
    {
     "name": "stdout",
     "output_type": "stream",
     "text": [
      "Finished Epoch 7 || Run Time:    0.3 | Load Time:    0.0 || F1:  78.52 | Prec:  67.95 | Rec:  92.98 || Ex/s: 420.39\n",
      "\n",
      "===>  TRAIN Epoch 8 :\n"
     ]
    },
    {
     "name": "stderr",
     "output_type": "stream",
     "text": [
      "0% [████] 100% | ETA: 00:00:00\n",
      "Total time elapsed: 00:00:03\n"
     ]
    },
    {
     "name": "stdout",
     "output_type": "stream",
     "text": [
      "Finished Epoch 8 || Run Time:    3.6 | Load Time:    0.0 || F1: 100.00 | Prec: 100.00 | Rec: 100.00 || Ex/s:  93.46\n",
      "\n",
      "===>  EVAL Epoch 8 :\n"
     ]
    },
    {
     "name": "stderr",
     "output_type": "stream",
     "text": [
      "0% [█] 100% | ETA: 00:00:00\n",
      "Total time elapsed: 00:00:00\n"
     ]
    },
    {
     "name": "stdout",
     "output_type": "stream",
     "text": [
      "Finished Epoch 8 || Run Time:    0.3 | Load Time:    0.0 || F1:  79.10 | Prec:  68.83 | Rec:  92.98 || Ex/s: 318.92\n",
      "\n",
      "===>  TRAIN Epoch 9 :\n"
     ]
    },
    {
     "name": "stderr",
     "output_type": "stream",
     "text": [
      "0% [████] 100% | ETA: 00:00:00\n",
      "Total time elapsed: 00:00:03\n"
     ]
    },
    {
     "name": "stdout",
     "output_type": "stream",
     "text": [
      "Finished Epoch 9 || Run Time:    3.5 | Load Time:    0.0 || F1: 100.00 | Prec: 100.00 | Rec: 100.00 || Ex/s:  96.92\n",
      "\n",
      "===>  EVAL Epoch 9 :\n"
     ]
    },
    {
     "name": "stderr",
     "output_type": "stream",
     "text": [
      "0% [█] 100% | ETA: 00:00:00\n",
      "Total time elapsed: 00:00:00\n"
     ]
    },
    {
     "name": "stdout",
     "output_type": "stream",
     "text": [
      "Finished Epoch 9 || Run Time:    0.3 | Load Time:    0.0 || F1:  79.10 | Prec:  68.83 | Rec:  92.98 || Ex/s: 402.04\n",
      "\n",
      "===>  TRAIN Epoch 10 :\n"
     ]
    },
    {
     "name": "stderr",
     "output_type": "stream",
     "text": [
      "0% [████] 100% | ETA: 00:00:00\n",
      "Total time elapsed: 00:00:02\n"
     ]
    },
    {
     "name": "stdout",
     "output_type": "stream",
     "text": [
      "Finished Epoch 10 || Run Time:    3.0 | Load Time:    0.0 || F1: 100.00 | Prec: 100.00 | Rec: 100.00 || Ex/s: 113.48\n",
      "\n",
      "===>  EVAL Epoch 10 :\n"
     ]
    },
    {
     "name": "stderr",
     "output_type": "stream",
     "text": [
      "0% [█] 100% | ETA: 00:00:00\n",
      "Total time elapsed: 00:00:00\n"
     ]
    },
    {
     "name": "stdout",
     "output_type": "stream",
     "text": [
      "Finished Epoch 10 || Run Time:    0.3 | Load Time:    0.0 || F1:  79.10 | Prec:  68.83 | Rec:  92.98 || Ex/s: 416.68\n",
      "\n",
      "Loading best model...\n"
     ]
    }
   ],
   "source": [
    "\n",
    "model_rnn.run_train(\n",
    "    train,\n",
    "    validation,\n",
    "    epochs=10,\n",
    "    batch_size=16,\n",
    "    best_save_path='rnn_model.pth',\n",
    "    pos_neg_ratio=3)"
   ]
  },
  {
   "cell_type": "code",
   "execution_count": 176,
   "metadata": {},
   "outputs": [
    {
     "name": "stdout",
     "output_type": "stream",
     "text": [
      "===>  EVAL Epoch 5 :\n",
      "Finished Epoch 5 || Run Time:    0.2 | Load Time:    0.0 || F1:  83.87 | Prec:  77.61 | Rec:  91.23 || Ex/s: 508.46\n",
      "\n"
     ]
    },
    {
     "data": {
      "text/plain": [
       "83.8709677419355"
      ]
     },
     "execution_count": 176,
     "metadata": {},
     "output_type": "execute_result"
    }
   ],
   "source": [
    "# Evaluate the accuracy on the test data.\n",
    "model_rnn.run_eval(test)"
   ]
  },
  {
   "cell_type": "markdown",
   "metadata": {},
   "source": [
    "## Attention model train and test"
   ]
  },
  {
   "cell_type": "code",
   "execution_count": 177,
   "metadata": {},
   "outputs": [],
   "source": [
    "# Create a hybrid model.\n",
    "model_attn = dm.MatchingModel(attr_summarizer='attention')"
   ]
  },
  {
   "cell_type": "code",
   "execution_count": 178,
   "metadata": {},
   "outputs": [
    {
     "name": "stdout",
     "output_type": "stream",
     "text": [
      "* Number of trainable parameters: 3429602\n",
      "===>  TRAIN Epoch 1 :\n"
     ]
    },
    {
     "name": "stderr",
     "output_type": "stream",
     "text": [
      "0% [████] 100% | ETA: 00:00:00\n",
      "Total time elapsed: 00:00:03\n"
     ]
    },
    {
     "name": "stdout",
     "output_type": "stream",
     "text": [
      "Finished Epoch 1 || Run Time:    4.4 | Load Time:    0.0 || F1:  69.76 | Prec:  56.30 | Rec:  91.67 || Ex/s:  77.28\n",
      "\n",
      "===>  EVAL Epoch 1 :\n"
     ]
    },
    {
     "name": "stderr",
     "output_type": "stream",
     "text": [
      "0% [█] 100% | ETA: 00:00:00\n",
      "Total time elapsed: 00:00:00\n"
     ]
    },
    {
     "name": "stdout",
     "output_type": "stream",
     "text": [
      "Finished Epoch 1 || Run Time:    0.5 | Load Time:    0.0 || F1:  77.78 | Prec:  71.01 | Rec:  85.96 || Ex/s: 225.60\n",
      "\n",
      "* Best F1: 77.77777777777777\n",
      "Saving best model...\n",
      "===>  TRAIN Epoch 2 :\n"
     ]
    },
    {
     "name": "stderr",
     "output_type": "stream",
     "text": [
      "0% [████] 100% | ETA: 00:00:00\n",
      "Total time elapsed: 00:00:03\n"
     ]
    },
    {
     "name": "stdout",
     "output_type": "stream",
     "text": [
      "Finished Epoch 2 || Run Time:    4.2 | Load Time:    0.0 || F1:  82.19 | Prec:  71.77 | Rec:  96.15 || Ex/s:  80.21\n",
      "\n",
      "===>  EVAL Epoch 2 :\n"
     ]
    },
    {
     "name": "stderr",
     "output_type": "stream",
     "text": [
      "0% [█] 100% | ETA: 00:00:00\n",
      "Total time elapsed: 00:00:00\n"
     ]
    },
    {
     "name": "stdout",
     "output_type": "stream",
     "text": [
      "Finished Epoch 2 || Run Time:    0.4 | Load Time:    0.0 || F1:  79.37 | Prec:  72.46 | Rec:  87.72 || Ex/s: 287.79\n",
      "\n",
      "* Best F1: 79.36507936507935\n",
      "Saving best model...\n",
      "===>  TRAIN Epoch 3 :\n"
     ]
    },
    {
     "name": "stderr",
     "output_type": "stream",
     "text": [
      "0% [████] 100% | ETA: 00:00:00\n",
      "Total time elapsed: 00:00:03\n"
     ]
    },
    {
     "name": "stdout",
     "output_type": "stream",
     "text": [
      "Finished Epoch 3 || Run Time:    4.3 | Load Time:    0.0 || F1:  86.59 | Prec:  76.73 | Rec:  99.36 || Ex/s:  78.02\n",
      "\n",
      "===>  EVAL Epoch 3 :\n"
     ]
    },
    {
     "name": "stderr",
     "output_type": "stream",
     "text": [
      "0% [█] 100% | ETA: 00:00:00\n",
      "Total time elapsed: 00:00:00\n"
     ]
    },
    {
     "name": "stdout",
     "output_type": "stream",
     "text": [
      "Finished Epoch 3 || Run Time:    0.5 | Load Time:    0.0 || F1:  81.54 | Prec:  72.60 | Rec:  92.98 || Ex/s: 227.78\n",
      "\n",
      "* Best F1: 81.53846153846153\n",
      "Saving best model...\n",
      "===>  TRAIN Epoch 4 :\n"
     ]
    },
    {
     "name": "stderr",
     "output_type": "stream",
     "text": [
      "0% [████] 100% | ETA: 00:00:00\n",
      "Total time elapsed: 00:00:03\n"
     ]
    },
    {
     "name": "stdout",
     "output_type": "stream",
     "text": [
      "Finished Epoch 4 || Run Time:    4.2 | Load Time:    0.0 || F1:  89.21 | Prec:  81.82 | Rec:  98.08 || Ex/s:  80.28\n",
      "\n",
      "===>  EVAL Epoch 4 :\n"
     ]
    },
    {
     "name": "stderr",
     "output_type": "stream",
     "text": [
      "0% [█] 100% | ETA: 00:00:00\n",
      "Total time elapsed: 00:00:00\n"
     ]
    },
    {
     "name": "stdout",
     "output_type": "stream",
     "text": [
      "Finished Epoch 4 || Run Time:    0.4 | Load Time:    0.0 || F1:  80.30 | Prec:  70.67 | Rec:  92.98 || Ex/s: 281.58\n",
      "\n",
      "===>  TRAIN Epoch 5 :\n"
     ]
    },
    {
     "name": "stderr",
     "output_type": "stream",
     "text": [
      "0% [████] 100% | ETA: 00:00:00\n",
      "Total time elapsed: 00:00:03\n"
     ]
    },
    {
     "name": "stdout",
     "output_type": "stream",
     "text": [
      "Finished Epoch 5 || Run Time:    4.5 | Load Time:    0.0 || F1:  90.48 | Prec:  84.44 | Rec:  97.44 || Ex/s:  74.56\n",
      "\n",
      "===>  EVAL Epoch 5 :\n"
     ]
    },
    {
     "name": "stderr",
     "output_type": "stream",
     "text": [
      "0% [█] 100% | ETA: 00:00:00\n",
      "Total time elapsed: 00:00:00\n"
     ]
    },
    {
     "name": "stdout",
     "output_type": "stream",
     "text": [
      "Finished Epoch 5 || Run Time:    0.5 | Load Time:    0.0 || F1:  82.17 | Prec:  73.61 | Rec:  92.98 || Ex/s: 213.41\n",
      "\n",
      "* Best F1: 82.17054263565892\n",
      "Saving best model...\n",
      "===>  TRAIN Epoch 6 :\n"
     ]
    },
    {
     "name": "stderr",
     "output_type": "stream",
     "text": [
      "0% [████] 100% | ETA: 00:00:00\n",
      "Total time elapsed: 00:00:03\n"
     ]
    },
    {
     "name": "stdout",
     "output_type": "stream",
     "text": [
      "Finished Epoch 6 || Run Time:    4.5 | Load Time:    0.0 || F1:  90.59 | Prec:  83.70 | Rec:  98.72 || Ex/s:  74.64\n",
      "\n",
      "===>  EVAL Epoch 6 :\n"
     ]
    },
    {
     "name": "stderr",
     "output_type": "stream",
     "text": [
      "0% [█] 100% | ETA: 00:00:00\n",
      "Total time elapsed: 00:00:00\n"
     ]
    },
    {
     "name": "stdout",
     "output_type": "stream",
     "text": [
      "Finished Epoch 6 || Run Time:    0.5 | Load Time:    0.0 || F1:  83.87 | Prec:  77.61 | Rec:  91.23 || Ex/s: 228.54\n",
      "\n",
      "* Best F1: 83.8709677419355\n",
      "Saving best model...\n",
      "===>  TRAIN Epoch 7 :\n"
     ]
    },
    {
     "name": "stderr",
     "output_type": "stream",
     "text": [
      "0% [████] 100% | ETA: 00:00:00\n",
      "Total time elapsed: 00:00:04\n"
     ]
    },
    {
     "name": "stdout",
     "output_type": "stream",
     "text": [
      "Finished Epoch 7 || Run Time:    5.0 | Load Time:    0.0 || F1:  91.76 | Prec:  84.78 | Rec: 100.00 || Ex/s:  67.03\n",
      "\n",
      "===>  EVAL Epoch 7 :\n"
     ]
    },
    {
     "name": "stderr",
     "output_type": "stream",
     "text": [
      "0% [█] 100% | ETA: 00:00:00\n",
      "Total time elapsed: 00:00:00\n"
     ]
    },
    {
     "name": "stdout",
     "output_type": "stream",
     "text": [
      "Finished Epoch 7 || Run Time:    0.5 | Load Time:    0.0 || F1:  84.55 | Prec:  78.79 | Rec:  91.23 || Ex/s: 204.81\n",
      "\n",
      "* Best F1: 84.55284552845528\n",
      "Saving best model...\n",
      "===>  TRAIN Epoch 8 :\n"
     ]
    },
    {
     "name": "stderr",
     "output_type": "stream",
     "text": [
      "0% [████] 100% | ETA: 00:00:00\n",
      "Total time elapsed: 00:00:03\n"
     ]
    },
    {
     "name": "stdout",
     "output_type": "stream",
     "text": [
      "Finished Epoch 8 || Run Time:    4.4 | Load Time:    0.0 || F1:  92.86 | Prec:  86.67 | Rec: 100.00 || Ex/s:  76.31\n",
      "\n",
      "===>  EVAL Epoch 8 :\n"
     ]
    },
    {
     "name": "stderr",
     "output_type": "stream",
     "text": [
      "0% [█] 100% | ETA: 00:00:00\n",
      "Total time elapsed: 00:00:00\n"
     ]
    },
    {
     "name": "stdout",
     "output_type": "stream",
     "text": [
      "Finished Epoch 8 || Run Time:    0.5 | Load Time:    0.0 || F1:  85.25 | Prec:  80.00 | Rec:  91.23 || Ex/s: 233.16\n",
      "\n",
      "* Best F1: 85.24590163934425\n",
      "Saving best model...\n",
      "===>  TRAIN Epoch 9 :\n"
     ]
    },
    {
     "name": "stderr",
     "output_type": "stream",
     "text": [
      "0% [████] 100% | ETA: 00:00:00\n",
      "Total time elapsed: 00:00:03\n"
     ]
    },
    {
     "name": "stdout",
     "output_type": "stream",
     "text": [
      "Finished Epoch 9 || Run Time:    4.3 | Load Time:    0.0 || F1:  93.98 | Prec:  88.64 | Rec: 100.00 || Ex/s:  78.33\n",
      "\n",
      "===>  EVAL Epoch 9 :\n"
     ]
    },
    {
     "name": "stderr",
     "output_type": "stream",
     "text": [
      "0% [█] 100% | ETA: 00:00:00\n",
      "Total time elapsed: 00:00:00\n"
     ]
    },
    {
     "name": "stdout",
     "output_type": "stream",
     "text": [
      "Finished Epoch 9 || Run Time:    0.4 | Load Time:    0.0 || F1:  85.25 | Prec:  80.00 | Rec:  91.23 || Ex/s: 288.87\n",
      "\n",
      "===>  TRAIN Epoch 10 :\n"
     ]
    },
    {
     "name": "stderr",
     "output_type": "stream",
     "text": [
      "0% [████] 100% | ETA: 00:00:00\n",
      "Total time elapsed: 00:00:03\n"
     ]
    },
    {
     "name": "stdout",
     "output_type": "stream",
     "text": [
      "Finished Epoch 10 || Run Time:    3.9 | Load Time:    0.0 || F1:  94.55 | Prec:  89.66 | Rec: 100.00 || Ex/s:  85.19\n",
      "\n",
      "===>  EVAL Epoch 10 :\n"
     ]
    },
    {
     "name": "stderr",
     "output_type": "stream",
     "text": [
      "0% [█] 100% | ETA: 00:00:00\n",
      "Total time elapsed: 00:00:00\n"
     ]
    },
    {
     "name": "stdout",
     "output_type": "stream",
     "text": [
      "Finished Epoch 10 || Run Time:    0.4 | Load Time:    0.0 || F1:  85.95 | Prec:  81.25 | Rec:  91.23 || Ex/s: 289.93\n",
      "\n",
      "* Best F1: 85.9504132231405\n",
      "Saving best model...\n",
      "Loading best model...\n"
     ]
    }
   ],
   "source": [
    "\n",
    "model_attn.run_train(\n",
    "    train,\n",
    "    validation,\n",
    "    epochs=10,\n",
    "    batch_size=16,\n",
    "    best_save_path='attn_model.pth',\n",
    "    pos_neg_ratio=3)"
   ]
  },
  {
   "cell_type": "code",
   "execution_count": 179,
   "metadata": {},
   "outputs": [
    {
     "name": "stdout",
     "output_type": "stream",
     "text": [
      "===>  EVAL Epoch 10 :\n",
      "Finished Epoch 10 || Run Time:    0.4 | Load Time:    0.0 || F1:  85.00 | Prec:  80.95 | Rec:  89.47 || Ex/s: 285.72\n",
      "\n"
     ]
    },
    {
     "data": {
      "text/plain": [
       "85.0"
      ]
     },
     "execution_count": 179,
     "metadata": {},
     "output_type": "execute_result"
    }
   ],
   "source": [
    "# Evaluate the accuracy on the test data.\n",
    "model_attn.run_eval(test)"
   ]
  },
  {
   "cell_type": "markdown",
   "metadata": {},
   "source": [
    "## Predictions using Hybrid Model"
   ]
  },
  {
   "cell_type": "code",
   "execution_count": 180,
   "metadata": {},
   "outputs": [],
   "source": [
    "# Load the model - Hybrid model.\n",
    "model = dm.MatchingModel(attr_summarizer='hybrid')\n",
    "model.load_state('hybrid_model.pth')"
   ]
  },
  {
   "cell_type": "code",
   "execution_count": 181,
   "metadata": {},
   "outputs": [
    {
     "name": "stdout",
     "output_type": "stream",
     "text": [
      "Load time: 29.54633905098308\n",
      "Vocab update time: 0.4504475080175325\n"
     ]
    }
   ],
   "source": [
    "# Hybrid Model -Load the candidate set. Note that the trained model is an input parameter as we need to trained \n",
    "# model for candidate set preprocessing.\n",
    "candidate = dm.data.process_unlabeled(\n",
    "    path=os.path.join('.', '..', 'DATA', 'candidate.csv'),\n",
    "    trained_model=model,\n",
    "    ignore_columns=('ltable_id', 'rtable_id'))"
   ]
  },
  {
   "cell_type": "code",
   "execution_count": 182,
   "metadata": {},
   "outputs": [
    {
     "name": "stdout",
     "output_type": "stream",
     "text": [
      "===>  PREDICT Epoch 6 :\n"
     ]
    },
    {
     "name": "stderr",
     "output_type": "stream",
     "text": [
      "0% [██████████████████████████████] 100% | ETA: 00:00:00\n",
      "Total time elapsed: 00:05:47\n"
     ]
    },
    {
     "name": "stdout",
     "output_type": "stream",
     "text": [
      "Finished Epoch 6 || Run Time:  344.0 | Load Time:    3.9 || F1:   0.00 | Prec:   0.00 | Rec:   0.00 || Ex/s:   0.00\n",
      "\n"
     ]
    }
   ],
   "source": [
    "# Predict the pairs in the candidate set and return a dataframe containing the pair id with \n",
    "# the score of being a match.\n",
    "predictions = model.run_prediction(candidate, output_attributes=list(candidate.get_raw_table().columns))"
   ]
  },
  {
   "cell_type": "code",
   "execution_count": 183,
   "metadata": {},
   "outputs": [
    {
     "data": {
      "text/html": [
       "<div>\n",
       "<style scoped>\n",
       "    .dataframe tbody tr th:only-of-type {\n",
       "        vertical-align: middle;\n",
       "    }\n",
       "\n",
       "    .dataframe tbody tr th {\n",
       "        vertical-align: top;\n",
       "    }\n",
       "\n",
       "    .dataframe thead th {\n",
       "        text-align: right;\n",
       "    }\n",
       "</style>\n",
       "<table border=\"1\" class=\"dataframe\">\n",
       "  <thead>\n",
       "    <tr style=\"text-align: right;\">\n",
       "      <th></th>\n",
       "      <th>match_score</th>\n",
       "      <th>ltable_ID</th>\n",
       "      <th>rtable_ID</th>\n",
       "      <th>ltable_title</th>\n",
       "      <th>ltable_author</th>\n",
       "      <th>rtable_title</th>\n",
       "      <th>rtable_author</th>\n",
       "    </tr>\n",
       "    <tr>\n",
       "      <th>_id</th>\n",
       "      <th></th>\n",
       "      <th></th>\n",
       "      <th></th>\n",
       "      <th></th>\n",
       "      <th></th>\n",
       "      <th></th>\n",
       "      <th></th>\n",
       "    </tr>\n",
       "  </thead>\n",
       "  <tbody>\n",
       "    <tr>\n",
       "      <th>26670</th>\n",
       "      <td>0.992591</td>\n",
       "      <td>a1</td>\n",
       "      <td>b1421</td>\n",
       "      <td>To Kill a Mockingbird</td>\n",
       "      <td>Harper Lee</td>\n",
       "      <td>To Kill a Mockingbird</td>\n",
       "      <td>Harper Lee</td>\n",
       "    </tr>\n",
       "    <tr>\n",
       "      <th>26668</th>\n",
       "      <td>0.993153</td>\n",
       "      <td>a21</td>\n",
       "      <td>b1418</td>\n",
       "      <td>Green Eggs and Ham</td>\n",
       "      <td>Dr. Seuss</td>\n",
       "      <td>Green Eggs and Ham</td>\n",
       "      <td>Dr. Seuss</td>\n",
       "    </tr>\n",
       "    <tr>\n",
       "      <th>14602</th>\n",
       "      <td>0.983933</td>\n",
       "      <td>a2270</td>\n",
       "      <td>b849</td>\n",
       "      <td>The Hate U Give</td>\n",
       "      <td>Angie Thomas</td>\n",
       "      <td>The Hate U Give</td>\n",
       "      <td>Angie Thomas</td>\n",
       "    </tr>\n",
       "    <tr>\n",
       "      <th>11028</th>\n",
       "      <td>0.991205</td>\n",
       "      <td>a1034</td>\n",
       "      <td>b615</td>\n",
       "      <td>The Very Hungry Caterpillar</td>\n",
       "      <td>Eric Carle</td>\n",
       "      <td>The Very Hungry Caterpillar</td>\n",
       "      <td>Eric Carle</td>\n",
       "    </tr>\n",
       "    <tr>\n",
       "      <th>969</th>\n",
       "      <td>0.985455</td>\n",
       "      <td>a1387</td>\n",
       "      <td>b60</td>\n",
       "      <td>The Book of Disquiet</td>\n",
       "      <td>Fernando Pessoa</td>\n",
       "      <td>The Book of Awesome</td>\n",
       "      <td>Neil Pasricha</td>\n",
       "    </tr>\n",
       "  </tbody>\n",
       "</table>\n",
       "</div>"
      ],
      "text/plain": [
       "       match_score ltable_ID rtable_ID                 ltable_title  \\\n",
       "_id                                                                   \n",
       "26670     0.992591        a1     b1421        To Kill a Mockingbird   \n",
       "26668     0.993153       a21     b1418           Green Eggs and Ham   \n",
       "14602     0.983933     a2270      b849              The Hate U Give   \n",
       "11028     0.991205     a1034      b615  The Very Hungry Caterpillar   \n",
       "969       0.985455     a1387       b60         The Book of Disquiet   \n",
       "\n",
       "         ltable_author                 rtable_title  rtable_author  \n",
       "_id                                                                 \n",
       "26670       Harper Lee        To Kill a Mockingbird     Harper Lee  \n",
       "26668        Dr. Seuss           Green Eggs and Ham      Dr. Seuss  \n",
       "14602     Angie Thomas              The Hate U Give   Angie Thomas  \n",
       "11028       Eric Carle  The Very Hungry Caterpillar     Eric Carle  \n",
       "969    Fernando Pessoa          The Book of Awesome  Neil Pasricha  "
      ]
     },
     "execution_count": 183,
     "metadata": {},
     "output_type": "execute_result"
    }
   ],
   "source": [
    "predictions.head()"
   ]
  },
  {
   "cell_type": "code",
   "execution_count": 184,
   "metadata": {},
   "outputs": [
    {
     "data": {
      "text/html": [
       "<div>\n",
       "<style scoped>\n",
       "    .dataframe tbody tr th:only-of-type {\n",
       "        vertical-align: middle;\n",
       "    }\n",
       "\n",
       "    .dataframe tbody tr th {\n",
       "        vertical-align: top;\n",
       "    }\n",
       "\n",
       "    .dataframe thead th {\n",
       "        text-align: right;\n",
       "    }\n",
       "</style>\n",
       "<table border=\"1\" class=\"dataframe\">\n",
       "  <thead>\n",
       "    <tr style=\"text-align: right;\">\n",
       "      <th></th>\n",
       "      <th>match_score</th>\n",
       "      <th>ltable_ID</th>\n",
       "      <th>rtable_ID</th>\n",
       "      <th>ltable_title</th>\n",
       "      <th>ltable_author</th>\n",
       "      <th>rtable_title</th>\n",
       "      <th>rtable_author</th>\n",
       "    </tr>\n",
       "    <tr>\n",
       "      <th>_id</th>\n",
       "      <th></th>\n",
       "      <th></th>\n",
       "      <th></th>\n",
       "      <th></th>\n",
       "      <th></th>\n",
       "      <th></th>\n",
       "      <th></th>\n",
       "    </tr>\n",
       "  </thead>\n",
       "  <tbody>\n",
       "    <tr>\n",
       "      <th>40357</th>\n",
       "      <td>0.996721</td>\n",
       "      <td>a1241</td>\n",
       "      <td>b2177</td>\n",
       "      <td>The Long Winter (Little House #6)</td>\n",
       "      <td>Laura Ingalls Wilder</td>\n",
       "      <td>The Little House (9 Volumes Set)</td>\n",
       "      <td>Laura Ingalls Wilder and</td>\n",
       "    </tr>\n",
       "    <tr>\n",
       "      <th>40353</th>\n",
       "      <td>0.996679</td>\n",
       "      <td>a87</td>\n",
       "      <td>b2177</td>\n",
       "      <td>The Little House Collection (Little House #1-9)</td>\n",
       "      <td>Laura Ingalls Wilder</td>\n",
       "      <td>The Little House (9 Volumes Set)</td>\n",
       "      <td>Laura Ingalls Wilder and</td>\n",
       "    </tr>\n",
       "    <tr>\n",
       "      <th>40355</th>\n",
       "      <td>0.995849</td>\n",
       "      <td>a380</td>\n",
       "      <td>b2177</td>\n",
       "      <td>Little House on the Prairie (Little House #2)</td>\n",
       "      <td>Laura Ingalls Wilder</td>\n",
       "      <td>The Little House (9 Volumes Set)</td>\n",
       "      <td>Laura Ingalls Wilder and</td>\n",
       "    </tr>\n",
       "    <tr>\n",
       "      <th>40356</th>\n",
       "      <td>0.995518</td>\n",
       "      <td>a1209</td>\n",
       "      <td>b2177</td>\n",
       "      <td>On the Banks of Plum Creek  (Little House #4)</td>\n",
       "      <td>Laura Ingalls Wilder</td>\n",
       "      <td>The Little House (9 Volumes Set)</td>\n",
       "      <td>Laura Ingalls Wilder and</td>\n",
       "    </tr>\n",
       "    <tr>\n",
       "      <th>24562</th>\n",
       "      <td>0.995413</td>\n",
       "      <td>a175</td>\n",
       "      <td>b1301</td>\n",
       "      <td>In Cold Blood</td>\n",
       "      <td>Truman Capote</td>\n",
       "      <td>In Cold Blood</td>\n",
       "      <td>Truman Capote</td>\n",
       "    </tr>\n",
       "    <tr>\n",
       "      <th>40359</th>\n",
       "      <td>0.995267</td>\n",
       "      <td>a2956</td>\n",
       "      <td>b2177</td>\n",
       "      <td>The Little House</td>\n",
       "      <td>Virginia Lee Burton</td>\n",
       "      <td>The Little House (9 Volumes Set)</td>\n",
       "      <td>Laura Ingalls Wilder and</td>\n",
       "    </tr>\n",
       "    <tr>\n",
       "      <th>38943</th>\n",
       "      <td>0.994365</td>\n",
       "      <td>a252</td>\n",
       "      <td>b2073</td>\n",
       "      <td>Things Fall Apart (The African Trilogy #1)</td>\n",
       "      <td>Chinua Achebe</td>\n",
       "      <td>Things Fall Apart</td>\n",
       "      <td>Chinua Achebe</td>\n",
       "    </tr>\n",
       "    <tr>\n",
       "      <th>40358</th>\n",
       "      <td>0.994276</td>\n",
       "      <td>a1573</td>\n",
       "      <td>b2177</td>\n",
       "      <td>Little Town on the Prairie  (Little House #7)</td>\n",
       "      <td>Laura Ingalls Wilder</td>\n",
       "      <td>The Little House (9 Volumes Set)</td>\n",
       "      <td>Laura Ingalls Wilder and</td>\n",
       "    </tr>\n",
       "    <tr>\n",
       "      <th>26668</th>\n",
       "      <td>0.993153</td>\n",
       "      <td>a21</td>\n",
       "      <td>b1418</td>\n",
       "      <td>Green Eggs and Ham</td>\n",
       "      <td>Dr. Seuss</td>\n",
       "      <td>Green Eggs and Ham</td>\n",
       "      <td>Dr. Seuss</td>\n",
       "    </tr>\n",
       "    <tr>\n",
       "      <th>40354</th>\n",
       "      <td>0.992893</td>\n",
       "      <td>a303</td>\n",
       "      <td>b2177</td>\n",
       "      <td>Little House in the Big Woods (Little House #1)</td>\n",
       "      <td>Laura Ingalls Wilder</td>\n",
       "      <td>The Little House (9 Volumes Set)</td>\n",
       "      <td>Laura Ingalls Wilder and</td>\n",
       "    </tr>\n",
       "    <tr>\n",
       "      <th>26670</th>\n",
       "      <td>0.992591</td>\n",
       "      <td>a1</td>\n",
       "      <td>b1421</td>\n",
       "      <td>To Kill a Mockingbird</td>\n",
       "      <td>Harper Lee</td>\n",
       "      <td>To Kill a Mockingbird</td>\n",
       "      <td>Harper Lee</td>\n",
       "    </tr>\n",
       "    <tr>\n",
       "      <th>6307</th>\n",
       "      <td>0.991868</td>\n",
       "      <td>a341</td>\n",
       "      <td>b350</td>\n",
       "      <td>Thirteen Reasons Why</td>\n",
       "      <td>Jay Asher</td>\n",
       "      <td>Thirteen Reasons Why</td>\n",
       "      <td>Jay Asher</td>\n",
       "    </tr>\n",
       "    <tr>\n",
       "      <th>26404</th>\n",
       "      <td>0.991655</td>\n",
       "      <td>a17</td>\n",
       "      <td>b1403</td>\n",
       "      <td>The Giving Tree</td>\n",
       "      <td>Shel Silverstein</td>\n",
       "      <td>The Giving Tree</td>\n",
       "      <td>Shel Silverstein</td>\n",
       "    </tr>\n",
       "    <tr>\n",
       "      <th>54538</th>\n",
       "      <td>0.991593</td>\n",
       "      <td>a51</td>\n",
       "      <td>b2974</td>\n",
       "      <td>The Color Purple</td>\n",
       "      <td>Alice Walker</td>\n",
       "      <td>The Color Purple</td>\n",
       "      <td>Alice Walker</td>\n",
       "    </tr>\n",
       "    <tr>\n",
       "      <th>54705</th>\n",
       "      <td>0.991581</td>\n",
       "      <td>a42</td>\n",
       "      <td>b2996</td>\n",
       "      <td>Crime and Punishment</td>\n",
       "      <td>Fyodor Dostoyevsky</td>\n",
       "      <td>Crime and Punishment</td>\n",
       "      <td>Fyodor Dostoyevsky</td>\n",
       "    </tr>\n",
       "    <tr>\n",
       "      <th>11028</th>\n",
       "      <td>0.991205</td>\n",
       "      <td>a1034</td>\n",
       "      <td>b615</td>\n",
       "      <td>The Very Hungry Caterpillar</td>\n",
       "      <td>Eric Carle</td>\n",
       "      <td>The Very Hungry Caterpillar</td>\n",
       "      <td>Eric Carle</td>\n",
       "    </tr>\n",
       "    <tr>\n",
       "      <th>54542</th>\n",
       "      <td>0.991019</td>\n",
       "      <td>a4</td>\n",
       "      <td>b2977</td>\n",
       "      <td>Pride and Prejudice</td>\n",
       "      <td>Jane Austen</td>\n",
       "      <td>Pride and Prejudice</td>\n",
       "      <td>Jane Austen</td>\n",
       "    </tr>\n",
       "    <tr>\n",
       "      <th>54679</th>\n",
       "      <td>0.991014</td>\n",
       "      <td>a168</td>\n",
       "      <td>b2986</td>\n",
       "      <td>Mockingjay (The Hunger Games #3)</td>\n",
       "      <td>Suzanne Collins</td>\n",
       "      <td>The Hunger Games</td>\n",
       "      <td>Suzanne Collins</td>\n",
       "    </tr>\n",
       "    <tr>\n",
       "      <th>20992</th>\n",
       "      <td>0.990875</td>\n",
       "      <td>a563</td>\n",
       "      <td>b1080</td>\n",
       "      <td>All the Light We Cannot See</td>\n",
       "      <td>Anthony Doerr</td>\n",
       "      <td>The Light We Lost</td>\n",
       "      <td>Jill Santopolo</td>\n",
       "    </tr>\n",
       "    <tr>\n",
       "      <th>41019</th>\n",
       "      <td>0.990033</td>\n",
       "      <td>a571</td>\n",
       "      <td>b2197</td>\n",
       "      <td>The Complete Stories and Poems</td>\n",
       "      <td>Edgar Allan Poe</td>\n",
       "      <td>The Sneetches and Other Stories</td>\n",
       "      <td>Dr. Seuss</td>\n",
       "    </tr>\n",
       "    <tr>\n",
       "      <th>8854</th>\n",
       "      <td>0.989782</td>\n",
       "      <td>a181</td>\n",
       "      <td>b501</td>\n",
       "      <td>On the Road</td>\n",
       "      <td>Jack Kerouac</td>\n",
       "      <td>The House on Persimmon Road</td>\n",
       "      <td>Jackie Weger</td>\n",
       "    </tr>\n",
       "    <tr>\n",
       "      <th>41015</th>\n",
       "      <td>0.989628</td>\n",
       "      <td>a443</td>\n",
       "      <td>b2197</td>\n",
       "      <td>The Yellow Wallpaper and Other Stories</td>\n",
       "      <td>Charlotte Perkins Gilman</td>\n",
       "      <td>The Sneetches and Other Stories</td>\n",
       "      <td>Dr. Seuss</td>\n",
       "    </tr>\n",
       "    <tr>\n",
       "      <th>39582</th>\n",
       "      <td>0.989625</td>\n",
       "      <td>a2716</td>\n",
       "      <td>b2117</td>\n",
       "      <td>The War of the End of the World</td>\n",
       "      <td>Mario Vargas Llosa</td>\n",
       "      <td>News of the World</td>\n",
       "      <td>Paulette Jiles</td>\n",
       "    </tr>\n",
       "    <tr>\n",
       "      <th>41014</th>\n",
       "      <td>0.989542</td>\n",
       "      <td>a116</td>\n",
       "      <td>b2197</td>\n",
       "      <td>The Tell-Tale Heart and Other Writings</td>\n",
       "      <td>Edgar Allan Poe</td>\n",
       "      <td>The Sneetches and Other Stories</td>\n",
       "      <td>Dr. Seuss</td>\n",
       "    </tr>\n",
       "    <tr>\n",
       "      <th>27475</th>\n",
       "      <td>0.989252</td>\n",
       "      <td>a1127</td>\n",
       "      <td>b1448</td>\n",
       "      <td>Thinking Fast and Slow</td>\n",
       "      <td>Daniel Kahneman</td>\n",
       "      <td>Thinking Fast and Slow</td>\n",
       "      <td>Daniel Kahneman</td>\n",
       "    </tr>\n",
       "    <tr>\n",
       "      <th>54680</th>\n",
       "      <td>0.989235</td>\n",
       "      <td>a449</td>\n",
       "      <td>b2986</td>\n",
       "      <td>The Hunger Games Trilogy Boxset (The Hunger Games #1-3)</td>\n",
       "      <td>Suzanne Collins</td>\n",
       "      <td>The Hunger Games</td>\n",
       "      <td>Suzanne Collins</td>\n",
       "    </tr>\n",
       "    <tr>\n",
       "      <th>964</th>\n",
       "      <td>0.989233</td>\n",
       "      <td>a763</td>\n",
       "      <td>b60</td>\n",
       "      <td>The Book of Negroes</td>\n",
       "      <td>Lawrence Hill</td>\n",
       "      <td>The Book of Awesome</td>\n",
       "      <td>Neil Pasricha</td>\n",
       "    </tr>\n",
       "    <tr>\n",
       "      <th>54678</th>\n",
       "      <td>0.989121</td>\n",
       "      <td>a125</td>\n",
       "      <td>b2986</td>\n",
       "      <td>Catching Fire (The Hunger Games #2)</td>\n",
       "      <td>Suzanne Collins</td>\n",
       "      <td>The Hunger Games</td>\n",
       "      <td>Suzanne Collins</td>\n",
       "    </tr>\n",
       "    <tr>\n",
       "      <th>38986</th>\n",
       "      <td>0.988964</td>\n",
       "      <td>a225</td>\n",
       "      <td>b2079</td>\n",
       "      <td>Into the Wild</td>\n",
       "      <td>Jon Krakauer</td>\n",
       "      <td>Into the Wild</td>\n",
       "      <td>Jon Krakauer</td>\n",
       "    </tr>\n",
       "    <tr>\n",
       "      <th>53875</th>\n",
       "      <td>0.988614</td>\n",
       "      <td>a928</td>\n",
       "      <td>b2895</td>\n",
       "      <td>The Westing Game</td>\n",
       "      <td>Ellen Raskin</td>\n",
       "      <td>The Westing Game (Puffin Modern Classics)</td>\n",
       "      <td>Ellen Raskin</td>\n",
       "    </tr>\n",
       "    <tr>\n",
       "      <th>...</th>\n",
       "      <td>...</td>\n",
       "      <td>...</td>\n",
       "      <td>...</td>\n",
       "      <td>...</td>\n",
       "      <td>...</td>\n",
       "      <td>...</td>\n",
       "      <td>...</td>\n",
       "    </tr>\n",
       "    <tr>\n",
       "      <th>52566</th>\n",
       "      <td>0.905121</td>\n",
       "      <td>a107</td>\n",
       "      <td>b2828</td>\n",
       "      <td>A Wrinkle in Time (A Wrinkle in Time Quintet #1)</td>\n",
       "      <td>Madeleine L'Engle</td>\n",
       "      <td>A Wrinkle in Time (A Wrinkle in Time Quintet Book 1)</td>\n",
       "      <td>Madeleine L'Engle</td>\n",
       "    </tr>\n",
       "    <tr>\n",
       "      <th>10844</th>\n",
       "      <td>0.904984</td>\n",
       "      <td>a1946</td>\n",
       "      <td>b611</td>\n",
       "      <td>Son of a Serial Killer</td>\n",
       "      <td>Jams N. Roses</td>\n",
       "      <td>For the Sins of My Father: A Mafia Killer His Son and the Legacy of a Mob Life</td>\n",
       "      <td>Albert DeMeo</td>\n",
       "    </tr>\n",
       "    <tr>\n",
       "      <th>53955</th>\n",
       "      <td>0.904979</td>\n",
       "      <td>a736</td>\n",
       "      <td>b2906</td>\n",
       "      <td>The Sea of Monsters (Percy Jackson and the Olympians #2)</td>\n",
       "      <td>Rick Riordan</td>\n",
       "      <td>Who Won – Year by Year Breakdown of all the Major Athletic Event Champions and Individual Trophy...</td>\n",
       "      <td>Pull Apps Inc.</td>\n",
       "    </tr>\n",
       "    <tr>\n",
       "      <th>24723</th>\n",
       "      <td>0.904692</td>\n",
       "      <td>a1453</td>\n",
       "      <td>b1307</td>\n",
       "      <td>A Time to Die (Out of Time #1)</td>\n",
       "      <td>Nadine Brandes</td>\n",
       "      <td>A Brief History of Time</td>\n",
       "      <td>Stephen Hawking</td>\n",
       "    </tr>\n",
       "    <tr>\n",
       "      <th>34453</th>\n",
       "      <td>0.904407</td>\n",
       "      <td>a122</td>\n",
       "      <td>b1812</td>\n",
       "      <td>The Declaration of Independence and The Constitution of the United States</td>\n",
       "      <td>Founding Fathers</td>\n",
       "      <td>Magnus Chase and the Gods of Asgard Book 3 The Ship of the Dead</td>\n",
       "      <td>Rick Riordan</td>\n",
       "    </tr>\n",
       "    <tr>\n",
       "      <th>49763</th>\n",
       "      <td>0.904275</td>\n",
       "      <td>a1325</td>\n",
       "      <td>b2683</td>\n",
       "      <td>A Debt Free You</td>\n",
       "      <td>Steve Julien</td>\n",
       "      <td>Conquering Debt: How I Paid Off $100000 in 5 Years: Helping You Develop a Debt-Free Plan</td>\n",
       "      <td>Chris Dillard</td>\n",
       "    </tr>\n",
       "    <tr>\n",
       "      <th>17948</th>\n",
       "      <td>0.904242</td>\n",
       "      <td>a912</td>\n",
       "      <td>b995</td>\n",
       "      <td>The Decline and Fall of the Roman Empire</td>\n",
       "      <td>Edward Gibbon</td>\n",
       "      <td>The Best Boring Book Ever of Select Healthcare Classification Systems and Databases</td>\n",
       "      <td>Katherine S. Rowell and</td>\n",
       "    </tr>\n",
       "    <tr>\n",
       "      <th>12241</th>\n",
       "      <td>0.903925</td>\n",
       "      <td>a1938</td>\n",
       "      <td>b688</td>\n",
       "      <td>Let's Pretend This Never Happened: A Mostly True Memoir</td>\n",
       "      <td>Jenny  Lawson</td>\n",
       "      <td>Let's Pretend This Never Happened: A Mostly True Memoir</td>\n",
       "      <td>Jenny Lawson</td>\n",
       "    </tr>\n",
       "    <tr>\n",
       "      <th>50492</th>\n",
       "      <td>0.903898</td>\n",
       "      <td>a2023</td>\n",
       "      <td>b2726</td>\n",
       "      <td>The Best Christmas Pageant Ever (The Herdmans #1)</td>\n",
       "      <td>Barbara Robinson</td>\n",
       "      <td>The Best Birthday Ever (Disney Frozen) (Little Golden Book)</td>\n",
       "      <td>Rico Green and</td>\n",
       "    </tr>\n",
       "    <tr>\n",
       "      <th>51684</th>\n",
       "      <td>0.903896</td>\n",
       "      <td>a1394</td>\n",
       "      <td>b2765</td>\n",
       "      <td>Fear and Loathing on the Campaign Trail '72</td>\n",
       "      <td>Hunter S. Thompson</td>\n",
       "      <td>The Last Kids on Earth and the Nightmare King</td>\n",
       "      <td>Max Brallier</td>\n",
       "    </tr>\n",
       "    <tr>\n",
       "      <th>17923</th>\n",
       "      <td>0.903824</td>\n",
       "      <td>a122</td>\n",
       "      <td>b995</td>\n",
       "      <td>The Declaration of Independence and The Constitution of the United States</td>\n",
       "      <td>Founding Fathers</td>\n",
       "      <td>The Best Boring Book Ever of Select Healthcare Classification Systems and Databases</td>\n",
       "      <td>Katherine S. Rowell and</td>\n",
       "    </tr>\n",
       "    <tr>\n",
       "      <th>38115</th>\n",
       "      <td>0.903765</td>\n",
       "      <td>a345</td>\n",
       "      <td>b1990</td>\n",
       "      <td>The Power of One (The Power of One #1)</td>\n",
       "      <td>Bryce Courtenay</td>\n",
       "      <td>The Power of a Praying® Wife</td>\n",
       "      <td>Stormie Omartian</td>\n",
       "    </tr>\n",
       "    <tr>\n",
       "      <th>34511</th>\n",
       "      <td>0.903758</td>\n",
       "      <td>a2096</td>\n",
       "      <td>b1812</td>\n",
       "      <td>The Book of Laughter and Forgetting</td>\n",
       "      <td>Milan Kundera</td>\n",
       "      <td>Magnus Chase and the Gods of Asgard Book 3 The Ship of the Dead</td>\n",
       "      <td>Rick Riordan</td>\n",
       "    </tr>\n",
       "    <tr>\n",
       "      <th>28149</th>\n",
       "      <td>0.903089</td>\n",
       "      <td>a1458</td>\n",
       "      <td>b1487</td>\n",
       "      <td>A Dance with Dragons (A Song of Ice and Fire #5)</td>\n",
       "      <td>George R.R. Martin</td>\n",
       "      <td>A Court of Frost and Starlight (A Court of Thorns and Roses)</td>\n",
       "      <td>Sarah J. Maas</td>\n",
       "    </tr>\n",
       "    <tr>\n",
       "      <th>47194</th>\n",
       "      <td>0.902966</td>\n",
       "      <td>a434</td>\n",
       "      <td>b2554</td>\n",
       "      <td>The Omnivore's Dilemma: A Natural History of Four Meals</td>\n",
       "      <td>Michael Pollan</td>\n",
       "      <td>A Short History of Nearly Everything</td>\n",
       "      <td>Bill Bryson</td>\n",
       "    </tr>\n",
       "    <tr>\n",
       "      <th>20258</th>\n",
       "      <td>0.902597</td>\n",
       "      <td>a2871</td>\n",
       "      <td>b1064</td>\n",
       "      <td>The Daughter of Ares Chronicles:  The Complete Trilogy</td>\n",
       "      <td>Shannon McRoberts</td>\n",
       "      <td>The Trilogy of Two</td>\n",
       "      <td>Juman Malouf</td>\n",
       "    </tr>\n",
       "    <tr>\n",
       "      <th>9321</th>\n",
       "      <td>0.902529</td>\n",
       "      <td>a2522</td>\n",
       "      <td>b528</td>\n",
       "      <td>Because I Love You</td>\n",
       "      <td>Max Lucado</td>\n",
       "      <td>When I Lost You: A gripping heart breaking novel of lost love</td>\n",
       "      <td>Kelly Rimmer</td>\n",
       "    </tr>\n",
       "    <tr>\n",
       "      <th>17951</th>\n",
       "      <td>0.902457</td>\n",
       "      <td>a976</td>\n",
       "      <td>b995</td>\n",
       "      <td>The Life and Opinions of Tristram Shandy Gentleman</td>\n",
       "      <td>Laurence Sterne</td>\n",
       "      <td>The Best Boring Book Ever of Select Healthcare Classification Systems and Databases</td>\n",
       "      <td>Katherine S. Rowell and</td>\n",
       "    </tr>\n",
       "    <tr>\n",
       "      <th>27719</th>\n",
       "      <td>0.902363</td>\n",
       "      <td>a2983</td>\n",
       "      <td>b1462</td>\n",
       "      <td>Being Mortal: Medicine and What Matters in the End</td>\n",
       "      <td>Atul Gawande</td>\n",
       "      <td>Being Mortal: Medicine and What Matters in the End</td>\n",
       "      <td>Atul Gawande</td>\n",
       "    </tr>\n",
       "    <tr>\n",
       "      <th>6589</th>\n",
       "      <td>0.902304</td>\n",
       "      <td>a268</td>\n",
       "      <td>b362</td>\n",
       "      <td>A Brief History of Time</td>\n",
       "      <td>Stephen Hawking</td>\n",
       "      <td>The First World War: A Brief History with Documents (The Bedford Series in History and Culture)</td>\n",
       "      <td>Susan R. Grayzel</td>\n",
       "    </tr>\n",
       "    <tr>\n",
       "      <th>50497</th>\n",
       "      <td>0.901670</td>\n",
       "      <td>a508</td>\n",
       "      <td>b2728</td>\n",
       "      <td>We Need to Talk About Kevin</td>\n",
       "      <td>Lionel Shriver</td>\n",
       "      <td>Why Her?: 6 Truths We Need to Hear When Measuring Up Leaves Us Falling Behind</td>\n",
       "      <td>Nicki Koziarz</td>\n",
       "    </tr>\n",
       "    <tr>\n",
       "      <th>9314</th>\n",
       "      <td>0.901599</td>\n",
       "      <td>a2156</td>\n",
       "      <td>b525</td>\n",
       "      <td>The Varieties of Scientific Experience: A Personal View of the Search for God</td>\n",
       "      <td>Carl Sagan</td>\n",
       "      <td>Indiscretions of a God</td>\n",
       "      <td>Sunniva Dee</td>\n",
       "    </tr>\n",
       "    <tr>\n",
       "      <th>34554</th>\n",
       "      <td>0.901430</td>\n",
       "      <td>a2501</td>\n",
       "      <td>b1812</td>\n",
       "      <td>Child of the Prophecy (Sevenwaters #3)</td>\n",
       "      <td>Juliet Marillier</td>\n",
       "      <td>Magnus Chase and the Gods of Asgard Book 3 The Ship of the Dead</td>\n",
       "      <td>Rick Riordan</td>\n",
       "    </tr>\n",
       "    <tr>\n",
       "      <th>33485</th>\n",
       "      <td>0.901398</td>\n",
       "      <td>a2449</td>\n",
       "      <td>b1779</td>\n",
       "      <td>The Ballad of the Sad Café and Other Stories</td>\n",
       "      <td>Carson McCullers</td>\n",
       "      <td>Harry Potter And The Chamber Of Secrets</td>\n",
       "      <td>J. K. Rowling and</td>\n",
       "    </tr>\n",
       "    <tr>\n",
       "      <th>1410</th>\n",
       "      <td>0.901241</td>\n",
       "      <td>a1731</td>\n",
       "      <td>b71</td>\n",
       "      <td>The Lincoln Lawyer (Mickey Haller #1; Harry Bosch Universe #17)</td>\n",
       "      <td>Michael Connelly</td>\n",
       "      <td>The Black Box (Harry Bosch)</td>\n",
       "      <td>Michael Connelly</td>\n",
       "    </tr>\n",
       "    <tr>\n",
       "      <th>16954</th>\n",
       "      <td>0.901214</td>\n",
       "      <td>a1071</td>\n",
       "      <td>b950</td>\n",
       "      <td>In the Shadow of Man</td>\n",
       "      <td>Jane Goodall</td>\n",
       "      <td>The Arrows of Islam - An Espionage Thriller - Book 1 in the Ari Cohen Series</td>\n",
       "      <td>Spencer Hawke</td>\n",
       "    </tr>\n",
       "    <tr>\n",
       "      <th>12954</th>\n",
       "      <td>0.901132</td>\n",
       "      <td>a1540</td>\n",
       "      <td>b725</td>\n",
       "      <td>The Girl Who Loved Tom Gordon</td>\n",
       "      <td>Stephen King</td>\n",
       "      <td>The Girl Who Wrote The New York Times Bestseller (Thaddeus Murfee Legal Thrillers)</td>\n",
       "      <td>John Ellsworth</td>\n",
       "    </tr>\n",
       "    <tr>\n",
       "      <th>52567</th>\n",
       "      <td>0.900255</td>\n",
       "      <td>a624</td>\n",
       "      <td>b2828</td>\n",
       "      <td>The Time Trilogy (A Wrinkle in Time Quintet #1-3)</td>\n",
       "      <td>Madeleine L'Engle</td>\n",
       "      <td>A Wrinkle in Time (A Wrinkle in Time Quintet Book 1)</td>\n",
       "      <td>Madeleine L'Engle</td>\n",
       "    </tr>\n",
       "    <tr>\n",
       "      <th>6265</th>\n",
       "      <td>0.900176</td>\n",
       "      <td>a763</td>\n",
       "      <td>b345</td>\n",
       "      <td>The Book of Negroes</td>\n",
       "      <td>Lawrence Hill</td>\n",
       "      <td>Colorful Creations Positively Inspired Coloring Book: Coloring Book Pages Designed to Inspire Cr...</td>\n",
       "      <td>Jess Volinski</td>\n",
       "    </tr>\n",
       "    <tr>\n",
       "      <th>24721</th>\n",
       "      <td>0.900167</td>\n",
       "      <td>a212</td>\n",
       "      <td>b1307</td>\n",
       "      <td>Three Cups of Tea: One Man's Mission to Promote Peace ... One School at a Time</td>\n",
       "      <td>Greg Mortenson</td>\n",
       "      <td>A Brief History of Time</td>\n",
       "      <td>Stephen Hawking</td>\n",
       "    </tr>\n",
       "  </tbody>\n",
       "</table>\n",
       "<p>1865 rows × 7 columns</p>\n",
       "</div>"
      ],
      "text/plain": [
       "       match_score ltable_ID rtable_ID  \\\n",
       "_id                                      \n",
       "40357     0.996721     a1241     b2177   \n",
       "40353     0.996679       a87     b2177   \n",
       "40355     0.995849      a380     b2177   \n",
       "40356     0.995518     a1209     b2177   \n",
       "24562     0.995413      a175     b1301   \n",
       "40359     0.995267     a2956     b2177   \n",
       "38943     0.994365      a252     b2073   \n",
       "40358     0.994276     a1573     b2177   \n",
       "26668     0.993153       a21     b1418   \n",
       "40354     0.992893      a303     b2177   \n",
       "26670     0.992591        a1     b1421   \n",
       "6307      0.991868      a341      b350   \n",
       "26404     0.991655       a17     b1403   \n",
       "54538     0.991593       a51     b2974   \n",
       "54705     0.991581       a42     b2996   \n",
       "11028     0.991205     a1034      b615   \n",
       "54542     0.991019        a4     b2977   \n",
       "54679     0.991014      a168     b2986   \n",
       "20992     0.990875      a563     b1080   \n",
       "41019     0.990033      a571     b2197   \n",
       "8854      0.989782      a181      b501   \n",
       "41015     0.989628      a443     b2197   \n",
       "39582     0.989625     a2716     b2117   \n",
       "41014     0.989542      a116     b2197   \n",
       "27475     0.989252     a1127     b1448   \n",
       "54680     0.989235      a449     b2986   \n",
       "964       0.989233      a763       b60   \n",
       "54678     0.989121      a125     b2986   \n",
       "38986     0.988964      a225     b2079   \n",
       "53875     0.988614      a928     b2895   \n",
       "...            ...       ...       ...   \n",
       "52566     0.905121      a107     b2828   \n",
       "10844     0.904984     a1946      b611   \n",
       "53955     0.904979      a736     b2906   \n",
       "24723     0.904692     a1453     b1307   \n",
       "34453     0.904407      a122     b1812   \n",
       "49763     0.904275     a1325     b2683   \n",
       "17948     0.904242      a912      b995   \n",
       "12241     0.903925     a1938      b688   \n",
       "50492     0.903898     a2023     b2726   \n",
       "51684     0.903896     a1394     b2765   \n",
       "17923     0.903824      a122      b995   \n",
       "38115     0.903765      a345     b1990   \n",
       "34511     0.903758     a2096     b1812   \n",
       "28149     0.903089     a1458     b1487   \n",
       "47194     0.902966      a434     b2554   \n",
       "20258     0.902597     a2871     b1064   \n",
       "9321      0.902529     a2522      b528   \n",
       "17951     0.902457      a976      b995   \n",
       "27719     0.902363     a2983     b1462   \n",
       "6589      0.902304      a268      b362   \n",
       "50497     0.901670      a508     b2728   \n",
       "9314      0.901599     a2156      b525   \n",
       "34554     0.901430     a2501     b1812   \n",
       "33485     0.901398     a2449     b1779   \n",
       "1410      0.901241     a1731       b71   \n",
       "16954     0.901214     a1071      b950   \n",
       "12954     0.901132     a1540      b725   \n",
       "52567     0.900255      a624     b2828   \n",
       "6265      0.900176      a763      b345   \n",
       "24721     0.900167      a212     b1307   \n",
       "\n",
       "                                                                         ltable_title  \\\n",
       "_id                                                                                     \n",
       "40357                                               The Long Winter (Little House #6)   \n",
       "40353                                 The Little House Collection (Little House #1-9)   \n",
       "40355                                   Little House on the Prairie (Little House #2)   \n",
       "40356                                   On the Banks of Plum Creek  (Little House #4)   \n",
       "24562                                                                   In Cold Blood   \n",
       "40359                                                                The Little House   \n",
       "38943                                      Things Fall Apart (The African Trilogy #1)   \n",
       "40358                                   Little Town on the Prairie  (Little House #7)   \n",
       "26668                                                              Green Eggs and Ham   \n",
       "40354                                 Little House in the Big Woods (Little House #1)   \n",
       "26670                                                           To Kill a Mockingbird   \n",
       "6307                                                             Thirteen Reasons Why   \n",
       "26404                                                                 The Giving Tree   \n",
       "54538                                                                The Color Purple   \n",
       "54705                                                            Crime and Punishment   \n",
       "11028                                                     The Very Hungry Caterpillar   \n",
       "54542                                                             Pride and Prejudice   \n",
       "54679                                                Mockingjay (The Hunger Games #3)   \n",
       "20992                                                     All the Light We Cannot See   \n",
       "41019                                                  The Complete Stories and Poems   \n",
       "8854                                                                      On the Road   \n",
       "41015                                          The Yellow Wallpaper and Other Stories   \n",
       "39582                                                 The War of the End of the World   \n",
       "41014                                          The Tell-Tale Heart and Other Writings   \n",
       "27475                                                          Thinking Fast and Slow   \n",
       "54680                         The Hunger Games Trilogy Boxset (The Hunger Games #1-3)   \n",
       "964                                                               The Book of Negroes   \n",
       "54678                                             Catching Fire (The Hunger Games #2)   \n",
       "38986                                                                   Into the Wild   \n",
       "53875                                                                The Westing Game   \n",
       "...                                                                               ...   \n",
       "52566                                A Wrinkle in Time (A Wrinkle in Time Quintet #1)   \n",
       "10844                                                          Son of a Serial Killer   \n",
       "53955                        The Sea of Monsters (Percy Jackson and the Olympians #2)   \n",
       "24723                                                  A Time to Die (Out of Time #1)   \n",
       "34453       The Declaration of Independence and The Constitution of the United States   \n",
       "49763                                                                 A Debt Free You   \n",
       "17948                                        The Decline and Fall of the Roman Empire   \n",
       "12241                         Let's Pretend This Never Happened: A Mostly True Memoir   \n",
       "50492                               The Best Christmas Pageant Ever (The Herdmans #1)   \n",
       "51684                                     Fear and Loathing on the Campaign Trail '72   \n",
       "17923       The Declaration of Independence and The Constitution of the United States   \n",
       "38115                                          The Power of One (The Power of One #1)   \n",
       "34511                                             The Book of Laughter and Forgetting   \n",
       "28149                                A Dance with Dragons (A Song of Ice and Fire #5)   \n",
       "47194                         The Omnivore's Dilemma: A Natural History of Four Meals   \n",
       "20258                          The Daughter of Ares Chronicles:  The Complete Trilogy   \n",
       "9321                                                               Because I Love You   \n",
       "17951                              The Life and Opinions of Tristram Shandy Gentleman   \n",
       "27719                              Being Mortal: Medicine and What Matters in the End   \n",
       "6589                                                          A Brief History of Time   \n",
       "50497                                                     We Need to Talk About Kevin   \n",
       "9314    The Varieties of Scientific Experience: A Personal View of the Search for God   \n",
       "34554                                          Child of the Prophecy (Sevenwaters #3)   \n",
       "33485                                    The Ballad of the Sad Café and Other Stories   \n",
       "1410                  The Lincoln Lawyer (Mickey Haller #1; Harry Bosch Universe #17)   \n",
       "16954                                                            In the Shadow of Man   \n",
       "12954                                                   The Girl Who Loved Tom Gordon   \n",
       "52567                               The Time Trilogy (A Wrinkle in Time Quintet #1-3)   \n",
       "6265                                                              The Book of Negroes   \n",
       "24721  Three Cups of Tea: One Man's Mission to Promote Peace ... One School at a Time   \n",
       "\n",
       "                  ltable_author  \\\n",
       "_id                               \n",
       "40357      Laura Ingalls Wilder   \n",
       "40353      Laura Ingalls Wilder   \n",
       "40355      Laura Ingalls Wilder   \n",
       "40356      Laura Ingalls Wilder   \n",
       "24562             Truman Capote   \n",
       "40359       Virginia Lee Burton   \n",
       "38943             Chinua Achebe   \n",
       "40358      Laura Ingalls Wilder   \n",
       "26668                 Dr. Seuss   \n",
       "40354      Laura Ingalls Wilder   \n",
       "26670                Harper Lee   \n",
       "6307                  Jay Asher   \n",
       "26404          Shel Silverstein   \n",
       "54538              Alice Walker   \n",
       "54705        Fyodor Dostoyevsky   \n",
       "11028                Eric Carle   \n",
       "54542               Jane Austen   \n",
       "54679           Suzanne Collins   \n",
       "20992             Anthony Doerr   \n",
       "41019           Edgar Allan Poe   \n",
       "8854               Jack Kerouac   \n",
       "41015  Charlotte Perkins Gilman   \n",
       "39582        Mario Vargas Llosa   \n",
       "41014           Edgar Allan Poe   \n",
       "27475           Daniel Kahneman   \n",
       "54680           Suzanne Collins   \n",
       "964               Lawrence Hill   \n",
       "54678           Suzanne Collins   \n",
       "38986              Jon Krakauer   \n",
       "53875              Ellen Raskin   \n",
       "...                         ...   \n",
       "52566         Madeleine L'Engle   \n",
       "10844             Jams N. Roses   \n",
       "53955              Rick Riordan   \n",
       "24723            Nadine Brandes   \n",
       "34453          Founding Fathers   \n",
       "49763              Steve Julien   \n",
       "17948             Edward Gibbon   \n",
       "12241             Jenny  Lawson   \n",
       "50492          Barbara Robinson   \n",
       "51684        Hunter S. Thompson   \n",
       "17923          Founding Fathers   \n",
       "38115           Bryce Courtenay   \n",
       "34511             Milan Kundera   \n",
       "28149        George R.R. Martin   \n",
       "47194            Michael Pollan   \n",
       "20258         Shannon McRoberts   \n",
       "9321                 Max Lucado   \n",
       "17951           Laurence Sterne   \n",
       "27719              Atul Gawande   \n",
       "6589            Stephen Hawking   \n",
       "50497            Lionel Shriver   \n",
       "9314                 Carl Sagan   \n",
       "34554          Juliet Marillier   \n",
       "33485          Carson McCullers   \n",
       "1410           Michael Connelly   \n",
       "16954              Jane Goodall   \n",
       "12954              Stephen King   \n",
       "52567         Madeleine L'Engle   \n",
       "6265              Lawrence Hill   \n",
       "24721            Greg Mortenson   \n",
       "\n",
       "                                                                                              rtable_title  \\\n",
       "_id                                                                                                          \n",
       "40357                                                                     The Little House (9 Volumes Set)   \n",
       "40353                                                                     The Little House (9 Volumes Set)   \n",
       "40355                                                                     The Little House (9 Volumes Set)   \n",
       "40356                                                                     The Little House (9 Volumes Set)   \n",
       "24562                                                                                        In Cold Blood   \n",
       "40359                                                                     The Little House (9 Volumes Set)   \n",
       "38943                                                                                    Things Fall Apart   \n",
       "40358                                                                     The Little House (9 Volumes Set)   \n",
       "26668                                                                                   Green Eggs and Ham   \n",
       "40354                                                                     The Little House (9 Volumes Set)   \n",
       "26670                                                                                To Kill a Mockingbird   \n",
       "6307                                                                                  Thirteen Reasons Why   \n",
       "26404                                                                                      The Giving Tree   \n",
       "54538                                                                                     The Color Purple   \n",
       "54705                                                                                 Crime and Punishment   \n",
       "11028                                                                          The Very Hungry Caterpillar   \n",
       "54542                                                                                  Pride and Prejudice   \n",
       "54679                                                                                     The Hunger Games   \n",
       "20992                                                                                    The Light We Lost   \n",
       "41019                                                                      The Sneetches and Other Stories   \n",
       "8854                                                                           The House on Persimmon Road   \n",
       "41015                                                                      The Sneetches and Other Stories   \n",
       "39582                                                                                    News of the World   \n",
       "41014                                                                      The Sneetches and Other Stories   \n",
       "27475                                                                               Thinking Fast and Slow   \n",
       "54680                                                                                     The Hunger Games   \n",
       "964                                                                                    The Book of Awesome   \n",
       "54678                                                                                     The Hunger Games   \n",
       "38986                                                                                        Into the Wild   \n",
       "53875                                                            The Westing Game (Puffin Modern Classics)   \n",
       "...                                                                                                    ...   \n",
       "52566                                                 A Wrinkle in Time (A Wrinkle in Time Quintet Book 1)   \n",
       "10844                       For the Sins of My Father: A Mafia Killer His Son and the Legacy of a Mob Life   \n",
       "53955  Who Won – Year by Year Breakdown of all the Major Athletic Event Champions and Individual Trophy...   \n",
       "24723                                                                              A Brief History of Time   \n",
       "34453                                      Magnus Chase and the Gods of Asgard Book 3 The Ship of the Dead   \n",
       "49763             Conquering Debt: How I Paid Off $100000 in 5 Years: Helping You Develop a Debt-Free Plan   \n",
       "17948                  The Best Boring Book Ever of Select Healthcare Classification Systems and Databases   \n",
       "12241                                              Let's Pretend This Never Happened: A Mostly True Memoir   \n",
       "50492                                          The Best Birthday Ever (Disney Frozen) (Little Golden Book)   \n",
       "51684                                                        The Last Kids on Earth and the Nightmare King   \n",
       "17923                  The Best Boring Book Ever of Select Healthcare Classification Systems and Databases   \n",
       "38115                                                                         The Power of a Praying® Wife   \n",
       "34511                                      Magnus Chase and the Gods of Asgard Book 3 The Ship of the Dead   \n",
       "28149                                         A Court of Frost and Starlight (A Court of Thorns and Roses)   \n",
       "47194                                                                 A Short History of Nearly Everything   \n",
       "20258                                                                                   The Trilogy of Two   \n",
       "9321                                         When I Lost You: A gripping heart breaking novel of lost love   \n",
       "17951                  The Best Boring Book Ever of Select Healthcare Classification Systems and Databases   \n",
       "27719                                                   Being Mortal: Medicine and What Matters in the End   \n",
       "6589       The First World War: A Brief History with Documents (The Bedford Series in History and Culture)   \n",
       "50497                        Why Her?: 6 Truths We Need to Hear When Measuring Up Leaves Us Falling Behind   \n",
       "9314                                                                                Indiscretions of a God   \n",
       "34554                                      Magnus Chase and the Gods of Asgard Book 3 The Ship of the Dead   \n",
       "33485                                                              Harry Potter And The Chamber Of Secrets   \n",
       "1410                                                                           The Black Box (Harry Bosch)   \n",
       "16954                         The Arrows of Islam - An Espionage Thriller - Book 1 in the Ari Cohen Series   \n",
       "12954                   The Girl Who Wrote The New York Times Bestseller (Thaddeus Murfee Legal Thrillers)   \n",
       "52567                                                 A Wrinkle in Time (A Wrinkle in Time Quintet Book 1)   \n",
       "6265   Colorful Creations Positively Inspired Coloring Book: Coloring Book Pages Designed to Inspire Cr...   \n",
       "24721                                                                              A Brief History of Time   \n",
       "\n",
       "                   rtable_author  \n",
       "_id                               \n",
       "40357  Laura Ingalls Wilder and   \n",
       "40353  Laura Ingalls Wilder and   \n",
       "40355  Laura Ingalls Wilder and   \n",
       "40356  Laura Ingalls Wilder and   \n",
       "24562              Truman Capote  \n",
       "40359  Laura Ingalls Wilder and   \n",
       "38943              Chinua Achebe  \n",
       "40358  Laura Ingalls Wilder and   \n",
       "26668                  Dr. Seuss  \n",
       "40354  Laura Ingalls Wilder and   \n",
       "26670                 Harper Lee  \n",
       "6307                   Jay Asher  \n",
       "26404           Shel Silverstein  \n",
       "54538               Alice Walker  \n",
       "54705         Fyodor Dostoyevsky  \n",
       "11028                 Eric Carle  \n",
       "54542                Jane Austen  \n",
       "54679            Suzanne Collins  \n",
       "20992             Jill Santopolo  \n",
       "41019                  Dr. Seuss  \n",
       "8854                Jackie Weger  \n",
       "41015                  Dr. Seuss  \n",
       "39582             Paulette Jiles  \n",
       "41014                  Dr. Seuss  \n",
       "27475            Daniel Kahneman  \n",
       "54680            Suzanne Collins  \n",
       "964                Neil Pasricha  \n",
       "54678            Suzanne Collins  \n",
       "38986               Jon Krakauer  \n",
       "53875               Ellen Raskin  \n",
       "...                          ...  \n",
       "52566          Madeleine L'Engle  \n",
       "10844               Albert DeMeo  \n",
       "53955             Pull Apps Inc.  \n",
       "24723            Stephen Hawking  \n",
       "34453               Rick Riordan  \n",
       "49763              Chris Dillard  \n",
       "17948   Katherine S. Rowell and   \n",
       "12241               Jenny Lawson  \n",
       "50492            Rico Green and   \n",
       "51684               Max Brallier  \n",
       "17923   Katherine S. Rowell and   \n",
       "38115           Stormie Omartian  \n",
       "34511               Rick Riordan  \n",
       "28149              Sarah J. Maas  \n",
       "47194                Bill Bryson  \n",
       "20258               Juman Malouf  \n",
       "9321                Kelly Rimmer  \n",
       "17951   Katherine S. Rowell and   \n",
       "27719               Atul Gawande  \n",
       "6589            Susan R. Grayzel  \n",
       "50497              Nicki Koziarz  \n",
       "9314                 Sunniva Dee  \n",
       "34554               Rick Riordan  \n",
       "33485         J. K. Rowling and   \n",
       "1410            Michael Connelly  \n",
       "16954              Spencer Hawke  \n",
       "12954             John Ellsworth  \n",
       "52567          Madeleine L'Engle  \n",
       "6265               Jess Volinski  \n",
       "24721            Stephen Hawking  \n",
       "\n",
       "[1865 rows x 7 columns]"
      ]
     },
     "execution_count": 184,
     "metadata": {},
     "output_type": "execute_result"
    }
   ],
   "source": [
    "high_score_pairs = predictions[predictions['match_score'] >= 0.9].sort_values(by=['match_score'], ascending=False)\n",
    "high_score_pairs"
   ]
  },
  {
   "cell_type": "code",
   "execution_count": 185,
   "metadata": {},
   "outputs": [
    {
     "name": "stdout",
     "output_type": "stream",
     "text": [
      "===>  PREDICT Epoch 6 :\n",
      "Finished Epoch 6 || Run Time:    0.8 | Load Time:    0.0 || F1:  87.60 | Prec:  82.81 | Rec:  92.98 || Ex/s: 132.59\n",
      "\n"
     ]
    },
    {
     "data": {
      "text/html": [
       "<div>\n",
       "<style scoped>\n",
       "    .dataframe tbody tr th:only-of-type {\n",
       "        vertical-align: middle;\n",
       "    }\n",
       "\n",
       "    .dataframe tbody tr th {\n",
       "        vertical-align: top;\n",
       "    }\n",
       "\n",
       "    .dataframe thead th {\n",
       "        text-align: right;\n",
       "    }\n",
       "</style>\n",
       "<table border=\"1\" class=\"dataframe\">\n",
       "  <thead>\n",
       "    <tr style=\"text-align: right;\">\n",
       "      <th></th>\n",
       "      <th>match_score</th>\n",
       "      <th>ltable_ID</th>\n",
       "      <th>rtable_ID</th>\n",
       "      <th>ltable_title</th>\n",
       "      <th>ltable_author</th>\n",
       "      <th>rtable_title</th>\n",
       "      <th>rtable_author</th>\n",
       "      <th>label</th>\n",
       "    </tr>\n",
       "    <tr>\n",
       "      <th>_id</th>\n",
       "      <th></th>\n",
       "      <th></th>\n",
       "      <th></th>\n",
       "      <th></th>\n",
       "      <th></th>\n",
       "      <th></th>\n",
       "      <th></th>\n",
       "      <th></th>\n",
       "    </tr>\n",
       "  </thead>\n",
       "  <tbody>\n",
       "    <tr>\n",
       "      <th>69</th>\n",
       "      <td>0.989513</td>\n",
       "      <td>a125</td>\n",
       "      <td>b2986</td>\n",
       "      <td>Catching Fire (The Hunger Games #2)</td>\n",
       "      <td>Suzanne Collins</td>\n",
       "      <td>The Hunger Games</td>\n",
       "      <td>Suzanne Collins</td>\n",
       "      <td>1</td>\n",
       "    </tr>\n",
       "    <tr>\n",
       "      <th>396</th>\n",
       "      <td>0.980363</td>\n",
       "      <td>a40</td>\n",
       "      <td>b1860</td>\n",
       "      <td>Brave New World / Brave New World Revisited</td>\n",
       "      <td>Aldous Huxley</td>\n",
       "      <td>Brave New World</td>\n",
       "      <td>Aldous Huxley</td>\n",
       "      <td>1</td>\n",
       "    </tr>\n",
       "    <tr>\n",
       "      <th>58</th>\n",
       "      <td>0.114351</td>\n",
       "      <td>a1221</td>\n",
       "      <td>b1008</td>\n",
       "      <td>Buddenbrooks: The Decline of a Family</td>\n",
       "      <td>Thomas Mann</td>\n",
       "      <td>The National Parks of the United States: A Photographic Journey</td>\n",
       "      <td>Andrew Thomas</td>\n",
       "      <td>0</td>\n",
       "    </tr>\n",
       "    <tr>\n",
       "      <th>218</th>\n",
       "      <td>0.578693</td>\n",
       "      <td>a2073</td>\n",
       "      <td>b1715</td>\n",
       "      <td>Influence: The Psychology of Persuasion</td>\n",
       "      <td>Robert B. Cialdini</td>\n",
       "      <td>Influence: The Psychology of Persuasion Revised Edition</td>\n",
       "      <td>Robert B. Cialdini</td>\n",
       "      <td>1</td>\n",
       "    </tr>\n",
       "    <tr>\n",
       "      <th>360</th>\n",
       "      <td>0.986460</td>\n",
       "      <td>a34</td>\n",
       "      <td>b2991</td>\n",
       "      <td>The Picture of Dorian Gray</td>\n",
       "      <td>Oscar Wilde</td>\n",
       "      <td>The Picture of Dorian Gray (Dover Thrift Editions)</td>\n",
       "      <td>Oscar Wilde</td>\n",
       "      <td>1</td>\n",
       "    </tr>\n",
       "  </tbody>\n",
       "</table>\n",
       "</div>"
      ],
      "text/plain": [
       "     match_score ltable_ID rtable_ID  \\\n",
       "_id                                    \n",
       "69      0.989513      a125     b2986   \n",
       "396     0.980363       a40     b1860   \n",
       "58      0.114351     a1221     b1008   \n",
       "218     0.578693     a2073     b1715   \n",
       "360     0.986460       a34     b2991   \n",
       "\n",
       "                                    ltable_title       ltable_author  \\\n",
       "_id                                                                    \n",
       "69           Catching Fire (The Hunger Games #2)     Suzanne Collins   \n",
       "396  Brave New World / Brave New World Revisited       Aldous Huxley   \n",
       "58         Buddenbrooks: The Decline of a Family         Thomas Mann   \n",
       "218      Influence: The Psychology of Persuasion  Robert B. Cialdini   \n",
       "360                   The Picture of Dorian Gray         Oscar Wilde   \n",
       "\n",
       "                                                        rtable_title  \\\n",
       "_id                                                                    \n",
       "69                                                  The Hunger Games   \n",
       "396                                                  Brave New World   \n",
       "58   The National Parks of the United States: A Photographic Journey   \n",
       "218          Influence: The Psychology of Persuasion Revised Edition   \n",
       "360               The Picture of Dorian Gray (Dover Thrift Editions)   \n",
       "\n",
       "          rtable_author  label  \n",
       "_id                             \n",
       "69      Suzanne Collins      1  \n",
       "396       Aldous Huxley      1  \n",
       "58        Andrew Thomas      0  \n",
       "218  Robert B. Cialdini      1  \n",
       "360         Oscar Wilde      1  "
      ]
     },
     "execution_count": 185,
     "metadata": {},
     "output_type": "execute_result"
    }
   ],
   "source": [
    "valid_predictions = model.run_prediction(validation, output_attributes=True)\n",
    "valid_predictions.head()"
   ]
  },
  {
   "cell_type": "markdown",
   "metadata": {},
   "source": [
    "## SIF Model predictions"
   ]
  },
  {
   "cell_type": "code",
   "execution_count": 186,
   "metadata": {},
   "outputs": [],
   "source": [
    "# Load the model - Hybrid model.\n",
    "model_sif = dm.MatchingModel(attr_summarizer='sif')\n",
    "model_sif.load_state('sif_model.pth')"
   ]
  },
  {
   "cell_type": "code",
   "execution_count": 187,
   "metadata": {},
   "outputs": [
    {
     "name": "stdout",
     "output_type": "stream",
     "text": [
      "Load time: 31.04383582895389\n",
      "Vocab update time: 0.47491544304648414\n"
     ]
    }
   ],
   "source": [
    "# sifModel -Load the candidate set. Note that the trained model is an input parameter as we need to trained \n",
    "# model for candidate set preprocessing.\n",
    "candidate_sif = dm.data.process_unlabeled(\n",
    "    path=os.path.join('.', '..', 'DATA', 'candidate.csv'),\n",
    "    trained_model=model_sif,\n",
    "    ignore_columns=('ltable_id', 'rtable_id'))"
   ]
  },
  {
   "cell_type": "code",
   "execution_count": 188,
   "metadata": {},
   "outputs": [
    {
     "name": "stdout",
     "output_type": "stream",
     "text": [
      "===>  PREDICT Epoch 6 :\n"
     ]
    },
    {
     "name": "stderr",
     "output_type": "stream",
     "text": [
      "0% [██████████████████████████████] 100% | ETA: 00:00:00\n",
      "Total time elapsed: 00:00:13\n"
     ]
    },
    {
     "name": "stdout",
     "output_type": "stream",
     "text": [
      "Finished Epoch 6 || Run Time:    9.9 | Load Time:    4.0 || F1:   0.00 | Prec:   0.00 | Rec:   0.00 || Ex/s:   0.00\n",
      "\n"
     ]
    }
   ],
   "source": [
    "# Predict the pairs in the candidate set and return a dataframe containing the pair id with \n",
    "# the score of being a match.\n",
    "predictions_sif = model_sif.run_prediction(candidate_sif, output_attributes=list(candidate_sif.get_raw_table().columns))"
   ]
  },
  {
   "cell_type": "code",
   "execution_count": 189,
   "metadata": {},
   "outputs": [
    {
     "name": "stdout",
     "output_type": "stream",
     "text": [
      "===>  PREDICT Epoch 6 :\n",
      "Finished Epoch 6 || Run Time:    0.0 | Load Time:    0.0 || F1:  80.92 | Prec:  71.62 | Rec:  92.98 || Ex/s: 2526.88\n",
      "\n"
     ]
    },
    {
     "data": {
      "text/html": [
       "<div>\n",
       "<style scoped>\n",
       "    .dataframe tbody tr th:only-of-type {\n",
       "        vertical-align: middle;\n",
       "    }\n",
       "\n",
       "    .dataframe tbody tr th {\n",
       "        vertical-align: top;\n",
       "    }\n",
       "\n",
       "    .dataframe thead th {\n",
       "        text-align: right;\n",
       "    }\n",
       "</style>\n",
       "<table border=\"1\" class=\"dataframe\">\n",
       "  <thead>\n",
       "    <tr style=\"text-align: right;\">\n",
       "      <th></th>\n",
       "      <th>match_score</th>\n",
       "      <th>ltable_ID</th>\n",
       "      <th>rtable_ID</th>\n",
       "      <th>ltable_title</th>\n",
       "      <th>ltable_author</th>\n",
       "      <th>rtable_title</th>\n",
       "      <th>rtable_author</th>\n",
       "      <th>label</th>\n",
       "    </tr>\n",
       "    <tr>\n",
       "      <th>_id</th>\n",
       "      <th></th>\n",
       "      <th></th>\n",
       "      <th></th>\n",
       "      <th></th>\n",
       "      <th></th>\n",
       "      <th></th>\n",
       "      <th></th>\n",
       "      <th></th>\n",
       "    </tr>\n",
       "  </thead>\n",
       "  <tbody>\n",
       "    <tr>\n",
       "      <th>69</th>\n",
       "      <td>0.991062</td>\n",
       "      <td>a125</td>\n",
       "      <td>b2986</td>\n",
       "      <td>Catching Fire (The Hunger Games #2)</td>\n",
       "      <td>Suzanne Collins</td>\n",
       "      <td>The Hunger Games</td>\n",
       "      <td>Suzanne Collins</td>\n",
       "      <td>1</td>\n",
       "    </tr>\n",
       "    <tr>\n",
       "      <th>396</th>\n",
       "      <td>0.999974</td>\n",
       "      <td>a40</td>\n",
       "      <td>b1860</td>\n",
       "      <td>Brave New World / Brave New World Revisited</td>\n",
       "      <td>Aldous Huxley</td>\n",
       "      <td>Brave New World</td>\n",
       "      <td>Aldous Huxley</td>\n",
       "      <td>1</td>\n",
       "    </tr>\n",
       "    <tr>\n",
       "      <th>58</th>\n",
       "      <td>0.184558</td>\n",
       "      <td>a1221</td>\n",
       "      <td>b1008</td>\n",
       "      <td>Buddenbrooks: The Decline of a Family</td>\n",
       "      <td>Thomas Mann</td>\n",
       "      <td>The National Parks of the United States: A Photographic Journey</td>\n",
       "      <td>Andrew Thomas</td>\n",
       "      <td>0</td>\n",
       "    </tr>\n",
       "    <tr>\n",
       "      <th>218</th>\n",
       "      <td>0.998985</td>\n",
       "      <td>a2073</td>\n",
       "      <td>b1715</td>\n",
       "      <td>Influence: The Psychology of Persuasion</td>\n",
       "      <td>Robert B. Cialdini</td>\n",
       "      <td>Influence: The Psychology of Persuasion Revised Edition</td>\n",
       "      <td>Robert B. Cialdini</td>\n",
       "      <td>1</td>\n",
       "    </tr>\n",
       "    <tr>\n",
       "      <th>360</th>\n",
       "      <td>0.999904</td>\n",
       "      <td>a34</td>\n",
       "      <td>b2991</td>\n",
       "      <td>The Picture of Dorian Gray</td>\n",
       "      <td>Oscar Wilde</td>\n",
       "      <td>The Picture of Dorian Gray (Dover Thrift Editions)</td>\n",
       "      <td>Oscar Wilde</td>\n",
       "      <td>1</td>\n",
       "    </tr>\n",
       "  </tbody>\n",
       "</table>\n",
       "</div>"
      ],
      "text/plain": [
       "     match_score ltable_ID rtable_ID  \\\n",
       "_id                                    \n",
       "69      0.991062      a125     b2986   \n",
       "396     0.999974       a40     b1860   \n",
       "58      0.184558     a1221     b1008   \n",
       "218     0.998985     a2073     b1715   \n",
       "360     0.999904       a34     b2991   \n",
       "\n",
       "                                    ltable_title       ltable_author  \\\n",
       "_id                                                                    \n",
       "69           Catching Fire (The Hunger Games #2)     Suzanne Collins   \n",
       "396  Brave New World / Brave New World Revisited       Aldous Huxley   \n",
       "58         Buddenbrooks: The Decline of a Family         Thomas Mann   \n",
       "218      Influence: The Psychology of Persuasion  Robert B. Cialdini   \n",
       "360                   The Picture of Dorian Gray         Oscar Wilde   \n",
       "\n",
       "                                                        rtable_title  \\\n",
       "_id                                                                    \n",
       "69                                                  The Hunger Games   \n",
       "396                                                  Brave New World   \n",
       "58   The National Parks of the United States: A Photographic Journey   \n",
       "218          Influence: The Psychology of Persuasion Revised Edition   \n",
       "360               The Picture of Dorian Gray (Dover Thrift Editions)   \n",
       "\n",
       "          rtable_author  label  \n",
       "_id                             \n",
       "69      Suzanne Collins      1  \n",
       "396       Aldous Huxley      1  \n",
       "58        Andrew Thomas      0  \n",
       "218  Robert B. Cialdini      1  \n",
       "360         Oscar Wilde      1  "
      ]
     },
     "execution_count": 189,
     "metadata": {},
     "output_type": "execute_result"
    }
   ],
   "source": [
    "valid_predictions_sif = model_sif.run_prediction(validation, output_attributes=True)\n",
    "valid_predictions_sif.head()"
   ]
  },
  {
   "cell_type": "markdown",
   "metadata": {},
   "source": [
    "## RNN Model predictions"
   ]
  },
  {
   "cell_type": "code",
   "execution_count": 190,
   "metadata": {},
   "outputs": [],
   "source": [
    "# Load the model - RNN model.\n",
    "model_rnn = dm.MatchingModel(attr_summarizer='rnn')\n",
    "model_rnn.load_state('rnn_model.pth')"
   ]
  },
  {
   "cell_type": "code",
   "execution_count": 191,
   "metadata": {},
   "outputs": [
    {
     "name": "stdout",
     "output_type": "stream",
     "text": [
      "Load time: 29.02728861104697\n",
      "Vocab update time: 0.4698701609740965\n"
     ]
    }
   ],
   "source": [
    "# RNN Model - Load the candidate set. Note that the trained model is an input parameter as we need to trained \n",
    "# model for candidate set preprocessing.\n",
    "candidate_RNN = dm.data.process_unlabeled(\n",
    "    path=os.path.join('.', '..', 'DATA', 'candidate.csv'),\n",
    "    trained_model=model_rnn,\n",
    "    ignore_columns=('ltable_id', 'rtable_id'))"
   ]
  },
  {
   "cell_type": "code",
   "execution_count": 192,
   "metadata": {},
   "outputs": [
    {
     "name": "stdout",
     "output_type": "stream",
     "text": [
      "===>  PREDICT Epoch 5 :\n"
     ]
    },
    {
     "name": "stderr",
     "output_type": "stream",
     "text": [
      "0% [██████████████████████████████] 100% | ETA: 00:00:00\n",
      "Total time elapsed: 00:01:20\n"
     ]
    },
    {
     "name": "stdout",
     "output_type": "stream",
     "text": [
      "Finished Epoch 5 || Run Time:   76.6 | Load Time:    3.8 || F1:   0.00 | Prec:   0.00 | Rec:   0.00 || Ex/s:   0.00\n",
      "\n"
     ]
    }
   ],
   "source": [
    "# Predict the pairs in the candidate set and return a dataframe containing the pair id with \n",
    "# the score of being a match.\n",
    "predictions_rnn = model_rnn.run_prediction(candidate_RNN, output_attributes=list(candidate_RNN.get_raw_table().columns))"
   ]
  },
  {
   "cell_type": "code",
   "execution_count": 193,
   "metadata": {},
   "outputs": [
    {
     "name": "stdout",
     "output_type": "stream",
     "text": [
      "===>  PREDICT Epoch 5 :\n",
      "Finished Epoch 5 || Run Time:    0.2 | Load Time:    0.0 || F1:  80.92 | Prec:  71.62 | Rec:  92.98 || Ex/s: 482.45\n",
      "\n"
     ]
    },
    {
     "data": {
      "text/html": [
       "<div>\n",
       "<style scoped>\n",
       "    .dataframe tbody tr th:only-of-type {\n",
       "        vertical-align: middle;\n",
       "    }\n",
       "\n",
       "    .dataframe tbody tr th {\n",
       "        vertical-align: top;\n",
       "    }\n",
       "\n",
       "    .dataframe thead th {\n",
       "        text-align: right;\n",
       "    }\n",
       "</style>\n",
       "<table border=\"1\" class=\"dataframe\">\n",
       "  <thead>\n",
       "    <tr style=\"text-align: right;\">\n",
       "      <th></th>\n",
       "      <th>match_score</th>\n",
       "      <th>ltable_ID</th>\n",
       "      <th>rtable_ID</th>\n",
       "      <th>ltable_title</th>\n",
       "      <th>ltable_author</th>\n",
       "      <th>rtable_title</th>\n",
       "      <th>rtable_author</th>\n",
       "      <th>label</th>\n",
       "    </tr>\n",
       "    <tr>\n",
       "      <th>_id</th>\n",
       "      <th></th>\n",
       "      <th></th>\n",
       "      <th></th>\n",
       "      <th></th>\n",
       "      <th></th>\n",
       "      <th></th>\n",
       "      <th></th>\n",
       "      <th></th>\n",
       "    </tr>\n",
       "  </thead>\n",
       "  <tbody>\n",
       "    <tr>\n",
       "      <th>69</th>\n",
       "      <td>0.562076</td>\n",
       "      <td>a125</td>\n",
       "      <td>b2986</td>\n",
       "      <td>Catching Fire (The Hunger Games #2)</td>\n",
       "      <td>Suzanne Collins</td>\n",
       "      <td>The Hunger Games</td>\n",
       "      <td>Suzanne Collins</td>\n",
       "      <td>1</td>\n",
       "    </tr>\n",
       "    <tr>\n",
       "      <th>396</th>\n",
       "      <td>0.990769</td>\n",
       "      <td>a40</td>\n",
       "      <td>b1860</td>\n",
       "      <td>Brave New World / Brave New World Revisited</td>\n",
       "      <td>Aldous Huxley</td>\n",
       "      <td>Brave New World</td>\n",
       "      <td>Aldous Huxley</td>\n",
       "      <td>1</td>\n",
       "    </tr>\n",
       "    <tr>\n",
       "      <th>58</th>\n",
       "      <td>0.041680</td>\n",
       "      <td>a1221</td>\n",
       "      <td>b1008</td>\n",
       "      <td>Buddenbrooks: The Decline of a Family</td>\n",
       "      <td>Thomas Mann</td>\n",
       "      <td>The National Parks of the United States: A Photographic Journey</td>\n",
       "      <td>Andrew Thomas</td>\n",
       "      <td>0</td>\n",
       "    </tr>\n",
       "    <tr>\n",
       "      <th>218</th>\n",
       "      <td>0.865173</td>\n",
       "      <td>a2073</td>\n",
       "      <td>b1715</td>\n",
       "      <td>Influence: The Psychology of Persuasion</td>\n",
       "      <td>Robert B. Cialdini</td>\n",
       "      <td>Influence: The Psychology of Persuasion Revised Edition</td>\n",
       "      <td>Robert B. Cialdini</td>\n",
       "      <td>1</td>\n",
       "    </tr>\n",
       "    <tr>\n",
       "      <th>360</th>\n",
       "      <td>0.966046</td>\n",
       "      <td>a34</td>\n",
       "      <td>b2991</td>\n",
       "      <td>The Picture of Dorian Gray</td>\n",
       "      <td>Oscar Wilde</td>\n",
       "      <td>The Picture of Dorian Gray (Dover Thrift Editions)</td>\n",
       "      <td>Oscar Wilde</td>\n",
       "      <td>1</td>\n",
       "    </tr>\n",
       "  </tbody>\n",
       "</table>\n",
       "</div>"
      ],
      "text/plain": [
       "     match_score ltable_ID rtable_ID  \\\n",
       "_id                                    \n",
       "69      0.562076      a125     b2986   \n",
       "396     0.990769       a40     b1860   \n",
       "58      0.041680     a1221     b1008   \n",
       "218     0.865173     a2073     b1715   \n",
       "360     0.966046       a34     b2991   \n",
       "\n",
       "                                    ltable_title       ltable_author  \\\n",
       "_id                                                                    \n",
       "69           Catching Fire (The Hunger Games #2)     Suzanne Collins   \n",
       "396  Brave New World / Brave New World Revisited       Aldous Huxley   \n",
       "58         Buddenbrooks: The Decline of a Family         Thomas Mann   \n",
       "218      Influence: The Psychology of Persuasion  Robert B. Cialdini   \n",
       "360                   The Picture of Dorian Gray         Oscar Wilde   \n",
       "\n",
       "                                                        rtable_title  \\\n",
       "_id                                                                    \n",
       "69                                                  The Hunger Games   \n",
       "396                                                  Brave New World   \n",
       "58   The National Parks of the United States: A Photographic Journey   \n",
       "218          Influence: The Psychology of Persuasion Revised Edition   \n",
       "360               The Picture of Dorian Gray (Dover Thrift Editions)   \n",
       "\n",
       "          rtable_author  label  \n",
       "_id                             \n",
       "69      Suzanne Collins      1  \n",
       "396       Aldous Huxley      1  \n",
       "58        Andrew Thomas      0  \n",
       "218  Robert B. Cialdini      1  \n",
       "360         Oscar Wilde      1  "
      ]
     },
     "execution_count": 193,
     "metadata": {},
     "output_type": "execute_result"
    }
   ],
   "source": [
    "valid_predictions_rnn = model_rnn.run_prediction(validation, output_attributes=True)\n",
    "valid_predictions_rnn.head()"
   ]
  },
  {
   "cell_type": "markdown",
   "metadata": {},
   "source": [
    "## Attention Model predictions"
   ]
  },
  {
   "cell_type": "code",
   "execution_count": 194,
   "metadata": {},
   "outputs": [],
   "source": [
    "# Load the model - Attention model.\n",
    "model_attn = dm.MatchingModel(attr_summarizer='attention')\n",
    "model_attn.load_state('attn_model.pth')"
   ]
  },
  {
   "cell_type": "code",
   "execution_count": 195,
   "metadata": {},
   "outputs": [
    {
     "name": "stdout",
     "output_type": "stream",
     "text": [
      "Load time: 29.51213377097156\n",
      "Vocab update time: 0.5610705970320851\n"
     ]
    }
   ],
   "source": [
    "# Attention Model - Load the candidate set. Note that the trained model is an input parameter as we need to trained \n",
    "# model for candidate set preprocessing.\n",
    "candidate_attn = dm.data.process_unlabeled(\n",
    "    path=os.path.join('.', '..', 'DATA', 'candidate.csv'),\n",
    "    trained_model=model_attn,\n",
    "    ignore_columns=('ltable_id', 'rtable_id'))"
   ]
  },
  {
   "cell_type": "code",
   "execution_count": 196,
   "metadata": {},
   "outputs": [
    {
     "name": "stdout",
     "output_type": "stream",
     "text": [
      "===>  PREDICT Epoch 10 :\n"
     ]
    },
    {
     "name": "stderr",
     "output_type": "stream",
     "text": [
      "0% [██████████████████████████████] 100% | ETA: 00:00:00\n",
      "Total time elapsed: 00:02:48\n"
     ]
    },
    {
     "name": "stdout",
     "output_type": "stream",
     "text": [
      "Finished Epoch 10 || Run Time:  164.2 | Load Time:    4.0 || F1:   0.00 | Prec:   0.00 | Rec:   0.00 || Ex/s:   0.00\n",
      "\n"
     ]
    }
   ],
   "source": [
    "# Predict the pairs in the candidate set and return a dataframe containing the pair id with \n",
    "# the score of being a match.\n",
    "predictions_attn = model_attn.run_prediction(candidate_attn, output_attributes=list(candidate_attn.get_raw_table().columns))"
   ]
  },
  {
   "cell_type": "code",
   "execution_count": 197,
   "metadata": {},
   "outputs": [
    {
     "name": "stdout",
     "output_type": "stream",
     "text": [
      "===>  PREDICT Epoch 10 :\n",
      "Finished Epoch 10 || Run Time:    0.4 | Load Time:    0.0 || F1:  85.95 | Prec:  81.25 | Rec:  91.23 || Ex/s: 276.53\n",
      "\n"
     ]
    },
    {
     "data": {
      "text/html": [
       "<div>\n",
       "<style scoped>\n",
       "    .dataframe tbody tr th:only-of-type {\n",
       "        vertical-align: middle;\n",
       "    }\n",
       "\n",
       "    .dataframe tbody tr th {\n",
       "        vertical-align: top;\n",
       "    }\n",
       "\n",
       "    .dataframe thead th {\n",
       "        text-align: right;\n",
       "    }\n",
       "</style>\n",
       "<table border=\"1\" class=\"dataframe\">\n",
       "  <thead>\n",
       "    <tr style=\"text-align: right;\">\n",
       "      <th></th>\n",
       "      <th>match_score</th>\n",
       "      <th>ltable_ID</th>\n",
       "      <th>rtable_ID</th>\n",
       "      <th>ltable_title</th>\n",
       "      <th>ltable_author</th>\n",
       "      <th>rtable_title</th>\n",
       "      <th>rtable_author</th>\n",
       "      <th>label</th>\n",
       "    </tr>\n",
       "    <tr>\n",
       "      <th>_id</th>\n",
       "      <th></th>\n",
       "      <th></th>\n",
       "      <th></th>\n",
       "      <th></th>\n",
       "      <th></th>\n",
       "      <th></th>\n",
       "      <th></th>\n",
       "      <th></th>\n",
       "    </tr>\n",
       "  </thead>\n",
       "  <tbody>\n",
       "    <tr>\n",
       "      <th>69</th>\n",
       "      <td>0.988211</td>\n",
       "      <td>a125</td>\n",
       "      <td>b2986</td>\n",
       "      <td>Catching Fire (The Hunger Games #2)</td>\n",
       "      <td>Suzanne Collins</td>\n",
       "      <td>The Hunger Games</td>\n",
       "      <td>Suzanne Collins</td>\n",
       "      <td>1</td>\n",
       "    </tr>\n",
       "    <tr>\n",
       "      <th>396</th>\n",
       "      <td>0.958843</td>\n",
       "      <td>a40</td>\n",
       "      <td>b1860</td>\n",
       "      <td>Brave New World / Brave New World Revisited</td>\n",
       "      <td>Aldous Huxley</td>\n",
       "      <td>Brave New World</td>\n",
       "      <td>Aldous Huxley</td>\n",
       "      <td>1</td>\n",
       "    </tr>\n",
       "    <tr>\n",
       "      <th>58</th>\n",
       "      <td>0.216428</td>\n",
       "      <td>a1221</td>\n",
       "      <td>b1008</td>\n",
       "      <td>Buddenbrooks: The Decline of a Family</td>\n",
       "      <td>Thomas Mann</td>\n",
       "      <td>The National Parks of the United States: A Photographic Journey</td>\n",
       "      <td>Andrew Thomas</td>\n",
       "      <td>0</td>\n",
       "    </tr>\n",
       "    <tr>\n",
       "      <th>218</th>\n",
       "      <td>0.829784</td>\n",
       "      <td>a2073</td>\n",
       "      <td>b1715</td>\n",
       "      <td>Influence: The Psychology of Persuasion</td>\n",
       "      <td>Robert B. Cialdini</td>\n",
       "      <td>Influence: The Psychology of Persuasion Revised Edition</td>\n",
       "      <td>Robert B. Cialdini</td>\n",
       "      <td>1</td>\n",
       "    </tr>\n",
       "    <tr>\n",
       "      <th>360</th>\n",
       "      <td>0.987078</td>\n",
       "      <td>a34</td>\n",
       "      <td>b2991</td>\n",
       "      <td>The Picture of Dorian Gray</td>\n",
       "      <td>Oscar Wilde</td>\n",
       "      <td>The Picture of Dorian Gray (Dover Thrift Editions)</td>\n",
       "      <td>Oscar Wilde</td>\n",
       "      <td>1</td>\n",
       "    </tr>\n",
       "  </tbody>\n",
       "</table>\n",
       "</div>"
      ],
      "text/plain": [
       "     match_score ltable_ID rtable_ID  \\\n",
       "_id                                    \n",
       "69      0.988211      a125     b2986   \n",
       "396     0.958843       a40     b1860   \n",
       "58      0.216428     a1221     b1008   \n",
       "218     0.829784     a2073     b1715   \n",
       "360     0.987078       a34     b2991   \n",
       "\n",
       "                                    ltable_title       ltable_author  \\\n",
       "_id                                                                    \n",
       "69           Catching Fire (The Hunger Games #2)     Suzanne Collins   \n",
       "396  Brave New World / Brave New World Revisited       Aldous Huxley   \n",
       "58         Buddenbrooks: The Decline of a Family         Thomas Mann   \n",
       "218      Influence: The Psychology of Persuasion  Robert B. Cialdini   \n",
       "360                   The Picture of Dorian Gray         Oscar Wilde   \n",
       "\n",
       "                                                        rtable_title  \\\n",
       "_id                                                                    \n",
       "69                                                  The Hunger Games   \n",
       "396                                                  Brave New World   \n",
       "58   The National Parks of the United States: A Photographic Journey   \n",
       "218          Influence: The Psychology of Persuasion Revised Edition   \n",
       "360               The Picture of Dorian Gray (Dover Thrift Editions)   \n",
       "\n",
       "          rtable_author  label  \n",
       "_id                             \n",
       "69      Suzanne Collins      1  \n",
       "396       Aldous Huxley      1  \n",
       "58        Andrew Thomas      0  \n",
       "218  Robert B. Cialdini      1  \n",
       "360         Oscar Wilde      1  "
      ]
     },
     "execution_count": 197,
     "metadata": {},
     "output_type": "execute_result"
    }
   ],
   "source": [
    "valid_predictions_attn = model_attn.run_prediction(validation, output_attributes=True)\n",
    "valid_predictions_attn.head()"
   ]
  },
  {
   "cell_type": "code",
   "execution_count": null,
   "metadata": {},
   "outputs": [],
   "source": []
  }
 ],
 "metadata": {
  "kernelspec": {
   "display_name": "Python 3",
   "language": "python",
   "name": "python3"
  },
  "language_info": {
   "codemirror_mode": {
    "name": "ipython",
    "version": 3
   },
   "file_extension": ".py",
   "mimetype": "text/x-python",
   "name": "python",
   "nbconvert_exporter": "python",
   "pygments_lexer": "ipython3",
   "version": "3.6.4"
  }
 },
 "nbformat": 4,
 "nbformat_minor": 2
}
